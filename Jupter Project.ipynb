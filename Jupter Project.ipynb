{
 "cells": [
  {
   "cell_type": "markdown",
   "id": "81528f23",
   "metadata": {},
   "source": [
    "## Import pandas"
   ]
  },
  {
   "cell_type": "code",
   "execution_count": 1,
   "id": "c701739a",
   "metadata": {},
   "outputs": [],
   "source": [
    "import pandas as pd"
   ]
  },
  {
   "cell_type": "markdown",
   "id": "f961eee4",
   "metadata": {},
   "source": [
    "## Import CMS Benefits_Cost_Sharing_2023"
   ]
  },
  {
   "cell_type": "code",
   "execution_count": 22,
   "id": "841e4a67",
   "metadata": {},
   "outputs": [],
   "source": [
    "cms_data_1 = pd.read_csv(r'\\Users\\burke\\Downloads/Benefits_Cost_Sharing_PUF.csv', low_memory=False)"
   ]
  },
  {
   "cell_type": "code",
   "execution_count": null,
   "id": "a5578f28",
   "metadata": {},
   "outputs": [],
   "source": []
  },
  {
   "cell_type": "code",
   "execution_count": 24,
   "id": "9e4bc5ab",
   "metadata": {},
   "outputs": [
    {
     "name": "stdout",
     "output_type": "stream",
     "text": [
      "   BusinessYear StateCode  IssuerId SourceName           ImportDate  \\\n",
      "0          2023        AK     21989       HIOS  2022-11-19 01:01:13   \n",
      "1          2023        AK     21989       HIOS  2022-11-19 01:01:13   \n",
      "2          2023        AK     21989       HIOS  2022-11-19 01:01:13   \n",
      "3          2023        AK     21989       HIOS  2022-11-19 01:01:13   \n",
      "4          2023        AK     21989       HIOS  2022-11-19 01:01:13   \n",
      "\n",
      "  StandardComponentId             PlanId                      BenefitName  \\\n",
      "0      21989AK0030001  21989AK0030001-00  Routine Dental Services (Adult)   \n",
      "1      21989AK0030001  21989AK0030001-00     Dental Check-Up for Children   \n",
      "2      21989AK0030001  21989AK0030001-00        Basic Dental Care - Child   \n",
      "3      21989AK0030001  21989AK0030001-00              Orthodontia - Child   \n",
      "4      21989AK0030001  21989AK0030001-00        Major Dental Care - Child   \n",
      "\n",
      "    CopayInnTier1 CopayInnTier2  ... IsEHB IsCovered QuantLimitOnSvc LimitQty  \\\n",
      "0  Not Applicable           NaN  ...   NaN   Covered             Yes   1100.0   \n",
      "1  Not Applicable           NaN  ...   Yes   Covered             NaN      NaN   \n",
      "2  Not Applicable           NaN  ...   Yes   Covered             NaN      NaN   \n",
      "3  Not Applicable           NaN  ...   Yes   Covered             NaN      NaN   \n",
      "4  Not Applicable           NaN  ...   Yes   Covered             NaN      NaN   \n",
      "\n",
      "          LimitUnit Exclusions  \\\n",
      "0  Dollars per Year        NaN   \n",
      "1               NaN        NaN   \n",
      "2               NaN        NaN   \n",
      "3               NaN        NaN   \n",
      "4               NaN        NaN   \n",
      "\n",
      "                                         Explanation         EHBVarReason  \\\n",
      "0  $1,100 annual maximum plan payment limit combi...              Not EHB   \n",
      "1              See policy for additional limitations  Substantially Equal   \n",
      "2                                                NaN                  NaN   \n",
      "3    Only medically necessary orthodontia is covered  Substantially Equal   \n",
      "4                                                NaN                  NaN   \n",
      "\n",
      "  IsExclFromInnMOOP IsExclFromOonMOOP  \n",
      "0               Yes               Yes  \n",
      "1                No                No  \n",
      "2                No                No  \n",
      "3                No                No  \n",
      "4                No                No  \n",
      "\n",
      "[5 rows x 24 columns]\n"
     ]
    }
   ],
   "source": [
    "print(cms_data_1.head())"
   ]
  },
  {
   "cell_type": "code",
   "execution_count": 25,
   "id": "9094a3b8",
   "metadata": {},
   "outputs": [
    {
     "name": "stdout",
     "output_type": "stream",
     "text": [
      "<class 'pandas.core.frame.DataFrame'>\n",
      "RangeIndex: 2219663 entries, 0 to 2219662\n",
      "Data columns (total 24 columns):\n",
      " #   Column               Dtype  \n",
      "---  ------               -----  \n",
      " 0   BusinessYear         int64  \n",
      " 1   StateCode            object \n",
      " 2   IssuerId             int64  \n",
      " 3   SourceName           object \n",
      " 4   ImportDate           object \n",
      " 5   StandardComponentId  object \n",
      " 6   PlanId               object \n",
      " 7   BenefitName          object \n",
      " 8   CopayInnTier1        object \n",
      " 9   CopayInnTier2        object \n",
      " 10  CopayOutofNet        object \n",
      " 11  CoinsInnTier1        object \n",
      " 12  CoinsInnTier2        object \n",
      " 13  CoinsOutofNet        object \n",
      " 14  IsEHB                object \n",
      " 15  IsCovered            object \n",
      " 16  QuantLimitOnSvc      object \n",
      " 17  LimitQty             float64\n",
      " 18  LimitUnit            object \n",
      " 19  Exclusions           object \n",
      " 20  Explanation          object \n",
      " 21  EHBVarReason         object \n",
      " 22  IsExclFromInnMOOP    object \n",
      " 23  IsExclFromOonMOOP    object \n",
      "dtypes: float64(1), int64(2), object(21)\n",
      "memory usage: 406.4+ MB\n",
      "None\n"
     ]
    }
   ],
   "source": [
    "print(cms_data_1.info())"
   ]
  },
  {
   "cell_type": "code",
   "execution_count": 26,
   "id": "b4bdc23f",
   "metadata": {},
   "outputs": [
    {
     "data": {
      "text/plain": [
       "0"
      ]
     },
     "execution_count": 26,
     "metadata": {},
     "output_type": "execute_result"
    }
   ],
   "source": [
    "cms_data_1.duplicated().sum()"
   ]
  },
  {
   "cell_type": "code",
   "execution_count": 27,
   "id": "ae107524",
   "metadata": {},
   "outputs": [
    {
     "data": {
      "text/plain": [
       "BusinessYear                 0\n",
       "StateCode                    0\n",
       "IssuerId                     0\n",
       "SourceName                   0\n",
       "ImportDate                   0\n",
       "StandardComponentId          0\n",
       "PlanId                       0\n",
       "BenefitName                  0\n",
       "CopayInnTier1           503349\n",
       "CopayInnTier2          1852011\n",
       "CopayOutofNet           503349\n",
       "CoinsInnTier1           503349\n",
       "CoinsInnTier2          1852011\n",
       "CoinsOutofNet           503349\n",
       "IsEHB                   578607\n",
       "IsCovered               126678\n",
       "QuantLimitOnSvc        1612945\n",
       "LimitQty               1924276\n",
       "LimitUnit              1924243\n",
       "Exclusions             2082783\n",
       "Explanation            1536817\n",
       "EHBVarReason           1674567\n",
       "IsExclFromInnMOOP       390070\n",
       "IsExclFromOonMOOP       389650\n",
       "dtype: int64"
      ]
     },
     "execution_count": 27,
     "metadata": {},
     "output_type": "execute_result"
    }
   ],
   "source": [
    "cms_data_1.isnull().sum()"
   ]
  },
  {
   "cell_type": "code",
   "execution_count": null,
   "id": "8afc2994",
   "metadata": {},
   "outputs": [],
   "source": []
  },
  {
   "cell_type": "markdown",
   "id": "dd80c744",
   "metadata": {},
   "source": [
    "## Number of Plans by State"
   ]
  },
  {
   "cell_type": "code",
   "execution_count": null,
   "id": "bbff8d13",
   "metadata": {},
   "outputs": [],
   "source": [
    "State_Plans = cms_data_1.groupby('StateCode')['PlanId'].sum()"
   ]
  },
  {
   "cell_type": "code",
   "execution_count": null,
   "id": "ddce7e25",
   "metadata": {},
   "outputs": [],
   "source": [
    "State_Plans.head()"
   ]
  },
  {
   "cell_type": "code",
   "execution_count": null,
   "id": "57cdf3ef",
   "metadata": {},
   "outputs": [],
   "source": []
  },
  {
   "cell_type": "code",
   "execution_count": null,
   "id": "ce0c35c8",
   "metadata": {},
   "outputs": [],
   "source": [
    "State_Plans.sort_index()"
   ]
  },
  {
   "cell_type": "code",
   "execution_count": null,
   "id": "155095b1",
   "metadata": {},
   "outputs": [],
   "source": []
  },
  {
   "cell_type": "code",
   "execution_count": null,
   "id": "12a2c1b8",
   "metadata": {},
   "outputs": [],
   "source": []
  },
  {
   "cell_type": "code",
   "execution_count": null,
   "id": "725b095a",
   "metadata": {},
   "outputs": [],
   "source": []
  },
  {
   "cell_type": "code",
   "execution_count": null,
   "id": "323240e1",
   "metadata": {},
   "outputs": [],
   "source": []
  },
  {
   "cell_type": "code",
   "execution_count": null,
   "id": "4d5e9ff5",
   "metadata": {},
   "outputs": [],
   "source": []
  },
  {
   "cell_type": "code",
   "execution_count": null,
   "id": "42809bc0",
   "metadata": {},
   "outputs": [],
   "source": []
  },
  {
   "cell_type": "code",
   "execution_count": null,
   "id": "b2d66831",
   "metadata": {},
   "outputs": [],
   "source": []
  },
  {
   "cell_type": "code",
   "execution_count": null,
   "id": "7cea9e1a",
   "metadata": {},
   "outputs": [],
   "source": []
  },
  {
   "cell_type": "code",
   "execution_count": null,
   "id": "42c9c8e7",
   "metadata": {},
   "outputs": [],
   "source": []
  },
  {
   "cell_type": "code",
   "execution_count": null,
   "id": "4de3fec6",
   "metadata": {},
   "outputs": [],
   "source": []
  },
  {
   "cell_type": "code",
   "execution_count": null,
   "id": "716b5e9a",
   "metadata": {},
   "outputs": [],
   "source": []
  },
  {
   "cell_type": "code",
   "execution_count": null,
   "id": "30c9c79b",
   "metadata": {},
   "outputs": [],
   "source": []
  },
  {
   "cell_type": "code",
   "execution_count": null,
   "id": "d26135dd",
   "metadata": {},
   "outputs": [],
   "source": []
  },
  {
   "cell_type": "code",
   "execution_count": null,
   "id": "1f86fe58",
   "metadata": {},
   "outputs": [],
   "source": []
  },
  {
   "cell_type": "code",
   "execution_count": null,
   "id": "46a6c746",
   "metadata": {},
   "outputs": [],
   "source": []
  },
  {
   "cell_type": "code",
   "execution_count": null,
   "id": "ae6fa7bf",
   "metadata": {},
   "outputs": [],
   "source": []
  },
  {
   "cell_type": "code",
   "execution_count": null,
   "id": "3b3c3f3f",
   "metadata": {},
   "outputs": [],
   "source": []
  }
 ],
 "metadata": {
  "kernelspec": {
   "display_name": "Python 3",
   "language": "python",
   "name": "python3"
  },
  "language_info": {
   "codemirror_mode": {
    "name": "ipython",
    "version": 3
   },
   "file_extension": ".py",
   "mimetype": "text/x-python",
   "name": "python",
   "nbconvert_exporter": "python",
   "pygments_lexer": "ipython3",
   "version": "3.8.8"
  }
 },
 "nbformat": 4,
 "nbformat_minor": 5
}
