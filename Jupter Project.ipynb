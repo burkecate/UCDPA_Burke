{
 "cells": [
  {
   "cell_type": "markdown",
   "id": "efeaf5f2",
   "metadata": {},
   "source": [
    "## Importing Modules"
   ]
  },
  {
   "cell_type": "code",
   "execution_count": 1,
   "id": "1f70bfe4",
   "metadata": {},
   "outputs": [],
   "source": [
    "import pandas as pd\n",
    "import matplotlib.pyplot as plt\n",
    "import seaborn as sns\n",
    "import pandas as pd\n",
    "import requests\n",
    "import json"
   ]
  },
  {
   "cell_type": "markdown",
   "id": "a3bf225b",
   "metadata": {},
   "source": [
    "## Import CMS Benefits_Cost_Sharing_2023"
   ]
  },
  {
   "cell_type": "code",
   "execution_count": 2,
   "id": "6457fac9",
   "metadata": {},
   "outputs": [],
   "source": [
    "cms_data_1 = pd.read_csv(r'\\Users\\burke\\Downloads/Benefits_Cost_Sharing_PUF.csv', low_memory=False)"
   ]
  },
  {
   "cell_type": "markdown",
   "id": "c2b848f8",
   "metadata": {},
   "source": [
    "## Review data for accuracy and completeness"
   ]
  },
  {
   "cell_type": "code",
   "execution_count": 3,
   "id": "38d1b5b4",
   "metadata": {},
   "outputs": [
    {
     "name": "stdout",
     "output_type": "stream",
     "text": [
      "   BusinessYear StateCode  IssuerId SourceName           ImportDate  \\\n",
      "0          2023        AK     21989       HIOS  2022-11-19 01:01:13   \n",
      "1          2023        AK     21989       HIOS  2022-11-19 01:01:13   \n",
      "2          2023        AK     21989       HIOS  2022-11-19 01:01:13   \n",
      "3          2023        AK     21989       HIOS  2022-11-19 01:01:13   \n",
      "4          2023        AK     21989       HIOS  2022-11-19 01:01:13   \n",
      "\n",
      "  StandardComponentId             PlanId                      BenefitName  \\\n",
      "0      21989AK0030001  21989AK0030001-00  Routine Dental Services (Adult)   \n",
      "1      21989AK0030001  21989AK0030001-00     Dental Check-Up for Children   \n",
      "2      21989AK0030001  21989AK0030001-00        Basic Dental Care - Child   \n",
      "3      21989AK0030001  21989AK0030001-00              Orthodontia - Child   \n",
      "4      21989AK0030001  21989AK0030001-00        Major Dental Care - Child   \n",
      "\n",
      "    CopayInnTier1 CopayInnTier2  ... IsEHB IsCovered QuantLimitOnSvc LimitQty  \\\n",
      "0  Not Applicable           NaN  ...   NaN   Covered             Yes   1100.0   \n",
      "1  Not Applicable           NaN  ...   Yes   Covered             NaN      NaN   \n",
      "2  Not Applicable           NaN  ...   Yes   Covered             NaN      NaN   \n",
      "3  Not Applicable           NaN  ...   Yes   Covered             NaN      NaN   \n",
      "4  Not Applicable           NaN  ...   Yes   Covered             NaN      NaN   \n",
      "\n",
      "          LimitUnit Exclusions  \\\n",
      "0  Dollars per Year        NaN   \n",
      "1               NaN        NaN   \n",
      "2               NaN        NaN   \n",
      "3               NaN        NaN   \n",
      "4               NaN        NaN   \n",
      "\n",
      "                                         Explanation         EHBVarReason  \\\n",
      "0  $1,100 annual maximum plan payment limit combi...              Not EHB   \n",
      "1              See policy for additional limitations  Substantially Equal   \n",
      "2                                                NaN                  NaN   \n",
      "3    Only medically necessary orthodontia is covered  Substantially Equal   \n",
      "4                                                NaN                  NaN   \n",
      "\n",
      "  IsExclFromInnMOOP IsExclFromOonMOOP  \n",
      "0               Yes               Yes  \n",
      "1                No                No  \n",
      "2                No                No  \n",
      "3                No                No  \n",
      "4                No                No  \n",
      "\n",
      "[5 rows x 24 columns]\n"
     ]
    }
   ],
   "source": [
    "print(cms_data_1.head())"
   ]
  },
  {
   "cell_type": "code",
   "execution_count": 4,
   "id": "32241407",
   "metadata": {},
   "outputs": [
    {
     "name": "stdout",
     "output_type": "stream",
     "text": [
      "<class 'pandas.core.frame.DataFrame'>\n",
      "RangeIndex: 2219663 entries, 0 to 2219662\n",
      "Data columns (total 24 columns):\n",
      " #   Column               Dtype  \n",
      "---  ------               -----  \n",
      " 0   BusinessYear         int64  \n",
      " 1   StateCode            object \n",
      " 2   IssuerId             int64  \n",
      " 3   SourceName           object \n",
      " 4   ImportDate           object \n",
      " 5   StandardComponentId  object \n",
      " 6   PlanId               object \n",
      " 7   BenefitName          object \n",
      " 8   CopayInnTier1        object \n",
      " 9   CopayInnTier2        object \n",
      " 10  CopayOutofNet        object \n",
      " 11  CoinsInnTier1        object \n",
      " 12  CoinsInnTier2        object \n",
      " 13  CoinsOutofNet        object \n",
      " 14  IsEHB                object \n",
      " 15  IsCovered            object \n",
      " 16  QuantLimitOnSvc      object \n",
      " 17  LimitQty             float64\n",
      " 18  LimitUnit            object \n",
      " 19  Exclusions           object \n",
      " 20  Explanation          object \n",
      " 21  EHBVarReason         object \n",
      " 22  IsExclFromInnMOOP    object \n",
      " 23  IsExclFromOonMOOP    object \n",
      "dtypes: float64(1), int64(2), object(21)\n",
      "memory usage: 406.4+ MB\n",
      "None\n"
     ]
    }
   ],
   "source": [
    "print(cms_data_1.info())"
   ]
  },
  {
   "cell_type": "code",
   "execution_count": 5,
   "id": "25392824",
   "metadata": {},
   "outputs": [
    {
     "data": {
      "text/plain": [
       "0"
      ]
     },
     "execution_count": 5,
     "metadata": {},
     "output_type": "execute_result"
    }
   ],
   "source": [
    "cms_data_1.duplicated().sum()"
   ]
  },
  {
   "cell_type": "code",
   "execution_count": 6,
   "id": "e82cabc5",
   "metadata": {},
   "outputs": [
    {
     "data": {
      "text/plain": [
       "BusinessYear                 0\n",
       "StateCode                    0\n",
       "IssuerId                     0\n",
       "SourceName                   0\n",
       "ImportDate                   0\n",
       "StandardComponentId          0\n",
       "PlanId                       0\n",
       "BenefitName                  0\n",
       "CopayInnTier1           503349\n",
       "CopayInnTier2          1852011\n",
       "CopayOutofNet           503349\n",
       "CoinsInnTier1           503349\n",
       "CoinsInnTier2          1852011\n",
       "CoinsOutofNet           503349\n",
       "IsEHB                   578607\n",
       "IsCovered               126678\n",
       "QuantLimitOnSvc        1612945\n",
       "LimitQty               1924276\n",
       "LimitUnit              1924243\n",
       "Exclusions             2082783\n",
       "Explanation            1536817\n",
       "EHBVarReason           1674567\n",
       "IsExclFromInnMOOP       390070\n",
       "IsExclFromOonMOOP       389650\n",
       "dtype: int64"
      ]
     },
     "execution_count": 6,
     "metadata": {},
     "output_type": "execute_result"
    }
   ],
   "source": [
    "cms_data_1.isnull().sum()"
   ]
  },
  {
   "cell_type": "markdown",
   "id": "01c194f1",
   "metadata": {},
   "source": [
    "## Number of Plans by State"
   ]
  },
  {
   "cell_type": "code",
   "execution_count": 7,
   "id": "c2879cd1",
   "metadata": {},
   "outputs": [],
   "source": [
    "state_plans = cms_data_1.groupby('StateCode')['PlanId'].count()"
   ]
  },
  {
   "cell_type": "code",
   "execution_count": 8,
   "id": "dd94c7b1",
   "metadata": {},
   "outputs": [
    {
     "data": {
      "text/plain": [
       "StateCode\n",
       "AK     4889\n",
       "AL    17699\n",
       "AR    24231\n",
       "AZ    94694\n",
       "DE    10499\n",
       "Name: PlanId, dtype: int64"
      ]
     },
     "execution_count": 8,
     "metadata": {},
     "output_type": "execute_result"
    }
   ],
   "source": [
    "state_plans.head()"
   ]
  },
  {
   "cell_type": "code",
   "execution_count": 9,
   "id": "e6128904",
   "metadata": {},
   "outputs": [
    {
     "data": {
      "text/plain": [
       "<seaborn.axisgrid.PairGrid at 0x22a8002d550>"
      ]
     },
     "execution_count": 9,
     "metadata": {},
     "output_type": "execute_result"
    },
    {
     "data": {
      "image/png": "[encoded data removed]",
      "text/plain": [
       "<Figure size 540x540 with 12 Axes>"
      ]
     },
     "metadata": {
      "needs_background": "light"
     },
     "output_type": "display_data"
    }
   ],
   "source": [
    "sns.pairplot(cms_data_1)"
   ]
  },
  {
   "cell_type": "code",
   "execution_count": 10,
   "id": "59ce5656",
   "metadata": {},
   "outputs": [],
   "source": [
    "plt.show()"
   ]
  },
  {
   "cell_type": "code",
   "execution_count": 11,
   "id": "3d80e9c3",
   "metadata": {},
   "outputs": [],
   "source": [
    "state_plans_count = state_plans.sort_index()"
   ]
  },
  {
   "cell_type": "code",
   "execution_count": 12,
   "id": "5bd23ff3",
   "metadata": {},
   "outputs": [
    {
     "name": "stdout",
     "output_type": "stream",
     "text": [
      "StateCode\n",
      "AK      4889\n",
      "AL     17699\n",
      "AR     24231\n",
      "AZ     94694\n",
      "DE     10499\n",
      "FL    192265\n",
      "GA    120360\n",
      "HI      6450\n",
      "IA     22778\n",
      "IL    134525\n",
      "IN     33534\n",
      "KS     44864\n",
      "LA     50093\n",
      "MI     83471\n",
      "MO     72841\n",
      "MS     28004\n",
      "MT     34473\n",
      "NC    125053\n",
      "ND     19794\n",
      "NE     57427\n",
      "NH     31185\n",
      "OH    123680\n",
      "OK     65272\n",
      "OR     27975\n",
      "SC     34532\n",
      "SD     21324\n",
      "TN    104628\n",
      "TX    334446\n",
      "UT     35324\n",
      "VA     52481\n",
      "WI    192362\n",
      "WV      9114\n",
      "WY      9396\n",
      "Name: PlanId, dtype: int64\n"
     ]
    }
   ],
   "source": [
    "print(state_plans_count)"
   ]
  },
  {
   "cell_type": "code",
   "execution_count": 13,
   "id": "83928152",
   "metadata": {},
   "outputs": [
    {
     "data": {
      "text/plain": [
       "<AxesSubplot:xlabel='StateCode'>"
      ]
     },
     "execution_count": 13,
     "metadata": {},
     "output_type": "execute_result"
    },
    {
     "data": {
      "image/png": "[encoded data removed]",
      "text/plain": [
       "<Figure size 432x288 with 1 Axes>"
      ]
     },
     "metadata": {
      "needs_background": "light"
     },
     "output_type": "display_data"
    }
   ],
   "source": [
    "state_plans_count.plot(kind = 'bar')"
   ]
  },
  {
   "cell_type": "code",
   "execution_count": 41,
   "id": "bf7aa233",
   "metadata": {},
   "outputs": [
    {
     "data": {
      "text/plain": [
       "Text(0, 0.5, 'State')"
      ]
     },
     "execution_count": 41,
     "metadata": {},
     "output_type": "execute_result"
    },
    {
     "data": {
      "image/png": "[encoded data removed]",
      "text/plain": [
       "<Figure size 432x288 with 1 Axes>"
      ]
     },
     "metadata": {
      "needs_background": "light"
     },
     "output_type": "display_data"
    }
   ],
   "source": [
    "ax = state_plans_count.plot(kind = 'barh', color = 'orange')\n",
    "ax.set_title(\"# of Plans by State\")\n",
    "ax.set_xlabel(\"# of Plans\")\n",
    "ax.set_ylabel(\"State\")\n"
   ]
  },
  {
   "cell_type": "code",
   "execution_count": 15,
   "id": "2c10cdcb",
   "metadata": {},
   "outputs": [
    {
     "data": {
      "text/plain": [
       "2219663"
      ]
     },
     "execution_count": 15,
     "metadata": {},
     "output_type": "execute_result"
    }
   ],
   "source": [
    "state_plans_count.sum()"
   ]
  },
  {
   "cell_type": "code",
   "execution_count": 16,
   "id": "56bcd707",
   "metadata": {},
   "outputs": [
    {
     "data": {
      "text/plain": [
       "334446"
      ]
     },
     "execution_count": 16,
     "metadata": {},
     "output_type": "execute_result"
    }
   ],
   "source": [
    "state_plans_count.max()"
   ]
  },
  {
   "cell_type": "code",
   "execution_count": 17,
   "id": "a3d3ad13",
   "metadata": {},
   "outputs": [
    {
     "data": {
      "text/plain": [
       "4889"
      ]
     },
     "execution_count": 17,
     "metadata": {},
     "output_type": "execute_result"
    }
   ],
   "source": [
    "state_plans_count.min()"
   ]
  },
  {
   "cell_type": "code",
   "execution_count": 18,
   "id": "d32e5752",
   "metadata": {},
   "outputs": [],
   "source": [
    "cms_state_plans_data_condensed = cms_data_1.drop(['BusinessYear', 'IssuerId', 'SourceName', 'ImportDate', 'StandardComponentId'], axis = 1)"
   ]
  },
  {
   "cell_type": "code",
   "execution_count": 94,
   "id": "d45b5646",
   "metadata": {},
   "outputs": [
    {
     "name": "stdout",
     "output_type": "stream",
     "text": [
      "  StateCode             PlanId                      BenefitName  \\\n",
      "0        AK  21989AK0030001-00  Routine Dental Services (Adult)   \n",
      "1        AK  21989AK0030001-00     Dental Check-Up for Children   \n",
      "2        AK  21989AK0030001-00        Basic Dental Care - Child   \n",
      "3        AK  21989AK0030001-00              Orthodontia - Child   \n",
      "4        AK  21989AK0030001-00        Major Dental Care - Child   \n",
      "\n",
      "    CopayInnTier1 CopayInnTier2   CopayOutofNet CoinsInnTier1 CoinsInnTier2  \\\n",
      "0  Not Applicable           NaN  Not Applicable        20.00%           NaN   \n",
      "1  Not Applicable           NaN  Not Applicable        30.00%           NaN   \n",
      "2  Not Applicable           NaN  Not Applicable        70.00%           NaN   \n",
      "3  Not Applicable           NaN  Not Applicable        70.00%           NaN   \n",
      "4  Not Applicable           NaN  Not Applicable        70.00%           NaN   \n",
      "\n",
      "  CoinsOutofNet IsEHB IsCovered QuantLimitOnSvc  LimitQty         LimitUnit  \\\n",
      "0        20.00%   NaN   Covered             Yes    1100.0  Dollars per Year   \n",
      "1        30.00%   Yes   Covered             NaN       NaN               NaN   \n",
      "2        70.00%   Yes   Covered             NaN       NaN               NaN   \n",
      "3        70.00%   Yes   Covered             NaN       NaN               NaN   \n",
      "4        70.00%   Yes   Covered             NaN       NaN               NaN   \n",
      "\n",
      "  Exclusions                                        Explanation  \\\n",
      "0        NaN  $1,100 annual maximum plan payment limit combi...   \n",
      "1        NaN              See policy for additional limitations   \n",
      "2        NaN                                                NaN   \n",
      "3        NaN    Only medically necessary orthodontia is covered   \n",
      "4        NaN                                                NaN   \n",
      "\n",
      "          EHBVarReason IsExclFromInnMOOP IsExclFromOonMOOP  \n",
      "0              Not EHB               Yes               Yes  \n",
      "1  Substantially Equal                No                No  \n",
      "2                  NaN                No                No  \n",
      "3  Substantially Equal                No                No  \n",
      "4                  NaN                No                No  \n"
     ]
    }
   ],
   "source": [
    "print(cms_state_plans_data_condensed.head())"
   ]
  },
  {
   "cell_type": "code",
   "execution_count": null,
   "id": "8235d077",
   "metadata": {},
   "outputs": [],
   "source": [
    "cms_state_plans_data_condensed.groupby(['StateCode', 'BenefitName']).mode()"
   ]
  },
  {
   "cell_type": "code",
   "execution_count": null,
   "id": "9648abea",
   "metadata": {},
   "outputs": [],
   "source": [
    "print(cms_state_plans_data_condensed.head())"
   ]
  },
  {
   "cell_type": "markdown",
   "id": "69061f2e",
   "metadata": {},
   "source": [
    "# Import Rates PUF"
   ]
  },
  {
   "cell_type": "code",
   "execution_count": 20,
   "id": "7649cd83",
   "metadata": {},
   "outputs": [],
   "source": [
    "cms_rate_data = pd.read_csv(r'\\Users\\burke\\Downloads/Rate_PUF.csv', low_memory=False)"
   ]
  },
  {
   "cell_type": "code",
   "execution_count": 21,
   "id": "7f04a77d",
   "metadata": {},
   "outputs": [
    {
     "name": "stdout",
     "output_type": "stream",
     "text": [
      "   BusinessYear StateCode  IssuerId SourceName           ImportDate  \\\n",
      "0          2023        AK     21989       HIOS  2022-11-19 01:01:13   \n",
      "1          2023        AK     21989       HIOS  2022-11-19 01:01:13   \n",
      "2          2023        AK     21989       HIOS  2022-11-19 01:01:13   \n",
      "3          2023        AK     21989       HIOS  2022-11-19 01:01:13   \n",
      "4          2023        AK     21989       HIOS  2022-11-19 01:01:13   \n",
      "\n",
      "  RateEffectiveDate RateExpirationDate          PlanId   RatingAreaId Tobacco  \\\n",
      "0        2023-10-01         2023-12-31  21989AK0110001  Rating Area 1     NaN   \n",
      "1        2023-01-01         2023-03-31  21989AK0110001  Rating Area 1     NaN   \n",
      "2        2023-04-01         2023-06-30  21989AK0110001  Rating Area 1     NaN   \n",
      "3        2023-07-01         2023-09-30  21989AK0110001  Rating Area 1     NaN   \n",
      "4        2023-07-01         2023-09-30  21989AK0110001  Rating Area 2     NaN   \n",
      "\n",
      "             Age  IndividualRate  IndividualTobaccoRate  Couple  \\\n",
      "0  Family Option           76.59                    NaN  159.30   \n",
      "1  Family Option           73.82                    NaN  153.54   \n",
      "2  Family Option           74.74                    NaN  155.46   \n",
      "3  Family Option           75.66                    NaN  157.38   \n",
      "4  Family Option           71.88                    NaN  149.51   \n",
      "\n",
      "   PrimarySubscriberAndOneDependent  PrimarySubscriberAndTwoDependents  \\\n",
      "0                            183.81                             183.81   \n",
      "1                            177.16                             177.16   \n",
      "2                            179.38                             179.38   \n",
      "3                            181.59                             181.59   \n",
      "4                            172.51                             172.51   \n",
      "\n",
      "   PrimarySubscriberAndThreeOrMoreDependents  CoupleAndOneDependent  \\\n",
      "0                                     183.81                 274.18   \n",
      "1                                     177.16                 264.27   \n",
      "2                                     179.38                 267.57   \n",
      "3                                     181.59                 270.87   \n",
      "4                                     172.51                 257.33   \n",
      "\n",
      "   CoupleAndTwoDependents  CoupleAndThreeOrMoreDependents  \n",
      "0                  274.18                          274.18  \n",
      "1                  264.27                          264.27  \n",
      "2                  267.57                          267.57  \n",
      "3                  270.87                          270.87  \n",
      "4                  257.33                          257.33  \n"
     ]
    }
   ],
   "source": [
    "print(cms_rate_data.head())"
   ]
  },
  {
   "cell_type": "code",
   "execution_count": 22,
   "id": "bc4a7b10",
   "metadata": {},
   "outputs": [
    {
     "name": "stdout",
     "output_type": "stream",
     "text": [
      "<class 'pandas.core.frame.DataFrame'>\n",
      "RangeIndex: 2752441 entries, 0 to 2752440\n",
      "Data columns (total 20 columns):\n",
      " #   Column                                     Dtype  \n",
      "---  ------                                     -----  \n",
      " 0   BusinessYear                               int64  \n",
      " 1   StateCode                                  object \n",
      " 2   IssuerId                                   int64  \n",
      " 3   SourceName                                 object \n",
      " 4   ImportDate                                 object \n",
      " 5   RateEffectiveDate                          object \n",
      " 6   RateExpirationDate                         object \n",
      " 7   PlanId                                     object \n",
      " 8   RatingAreaId                               object \n",
      " 9   Tobacco                                    object \n",
      " 10  Age                                        object \n",
      " 11  IndividualRate                             float64\n",
      " 12  IndividualTobaccoRate                      float64\n",
      " 13  Couple                                     float64\n",
      " 14  PrimarySubscriberAndOneDependent           float64\n",
      " 15  PrimarySubscriberAndTwoDependents          float64\n",
      " 16  PrimarySubscriberAndThreeOrMoreDependents  float64\n",
      " 17  CoupleAndOneDependent                      float64\n",
      " 18  CoupleAndTwoDependents                     float64\n",
      " 19  CoupleAndThreeOrMoreDependents             float64\n",
      "dtypes: float64(9), int64(2), object(9)\n",
      "memory usage: 420.0+ MB\n",
      "None\n"
     ]
    }
   ],
   "source": [
    "print(cms_rate_data.info())"
   ]
  },
  {
   "cell_type": "code",
   "execution_count": 23,
   "id": "e9fd9228",
   "metadata": {},
   "outputs": [
    {
     "data": {
      "text/plain": [
       "0"
      ]
     },
     "execution_count": 23,
     "metadata": {},
     "output_type": "execute_result"
    }
   ],
   "source": [
    "cms_rate_data.duplicated().sum()"
   ]
  },
  {
   "cell_type": "code",
   "execution_count": 24,
   "id": "54d6bb41",
   "metadata": {},
   "outputs": [
    {
     "data": {
      "text/plain": [
       "BusinessYear                                       0\n",
       "StateCode                                          0\n",
       "IssuerId                                           0\n",
       "SourceName                                         0\n",
       "ImportDate                                         0\n",
       "RateEffectiveDate                                  0\n",
       "RateExpirationDate                                 0\n",
       "PlanId                                             0\n",
       "RatingAreaId                                       0\n",
       "Tobacco                                          991\n",
       "Age                                                0\n",
       "IndividualRate                                     0\n",
       "IndividualTobaccoRate                        1317760\n",
       "Couple                                       2751450\n",
       "PrimarySubscriberAndOneDependent             2751450\n",
       "PrimarySubscriberAndTwoDependents            2751450\n",
       "PrimarySubscriberAndThreeOrMoreDependents    2751450\n",
       "CoupleAndOneDependent                        2751450\n",
       "CoupleAndTwoDependents                       2751450\n",
       "CoupleAndThreeOrMoreDependents               2751450\n",
       "dtype: int64"
      ]
     },
     "execution_count": 24,
     "metadata": {},
     "output_type": "execute_result"
    }
   ],
   "source": [
    "cms_rate_data.isnull().sum()"
   ]
  },
  {
   "cell_type": "code",
   "execution_count": 25,
   "id": "ead4c1d5",
   "metadata": {},
   "outputs": [],
   "source": [
    "cms_rate_data_list = cms_rate_data['StateCode'].tolist()"
   ]
  },
  {
   "cell_type": "code",
   "execution_count": 26,
   "id": "395f8e65",
   "metadata": {},
   "outputs": [],
   "source": [
    "cms_rate_data_condensed = cms_rate_data.drop(['BusinessYear', 'IssuerId', 'SourceName', 'ImportDate', 'RateEffectiveDate', 'RateExpirationDate', 'RatingAreaId'], axis = 1)"
   ]
  },
  {
   "cell_type": "code",
   "execution_count": 27,
   "id": "1ce17a3a",
   "metadata": {},
   "outputs": [
    {
     "name": "stdout",
     "output_type": "stream",
     "text": [
      "  StateCode          PlanId Tobacco            Age  IndividualRate  \\\n",
      "0        AK  21989AK0110001     NaN  Family Option           76.59   \n",
      "1        AK  21989AK0110001     NaN  Family Option           73.82   \n",
      "2        AK  21989AK0110001     NaN  Family Option           74.74   \n",
      "3        AK  21989AK0110001     NaN  Family Option           75.66   \n",
      "4        AK  21989AK0110001     NaN  Family Option           71.88   \n",
      "\n",
      "   IndividualTobaccoRate  Couple  PrimarySubscriberAndOneDependent  \\\n",
      "0                    NaN  159.30                            183.81   \n",
      "1                    NaN  153.54                            177.16   \n",
      "2                    NaN  155.46                            179.38   \n",
      "3                    NaN  157.38                            181.59   \n",
      "4                    NaN  149.51                            172.51   \n",
      "\n",
      "   PrimarySubscriberAndTwoDependents  \\\n",
      "0                             183.81   \n",
      "1                             177.16   \n",
      "2                             179.38   \n",
      "3                             181.59   \n",
      "4                             172.51   \n",
      "\n",
      "   PrimarySubscriberAndThreeOrMoreDependents  CoupleAndOneDependent  \\\n",
      "0                                     183.81                 274.18   \n",
      "1                                     177.16                 264.27   \n",
      "2                                     179.38                 267.57   \n",
      "3                                     181.59                 270.87   \n",
      "4                                     172.51                 257.33   \n",
      "\n",
      "   CoupleAndTwoDependents  CoupleAndThreeOrMoreDependents  \n",
      "0                  274.18                          274.18  \n",
      "1                  264.27                          264.27  \n",
      "2                  267.57                          267.57  \n",
      "3                  270.87                          270.87  \n",
      "4                  257.33                          257.33  \n"
     ]
    }
   ],
   "source": [
    "print(cms_rate_data_condensed.head())"
   ]
  },
  {
   "cell_type": "code",
   "execution_count": 28,
   "id": "a3c76778",
   "metadata": {
    "scrolled": true
   },
   "outputs": [
    {
     "data": {
      "text/html": [
       "<div>\n",
       "<style scoped>\n",
       "    .dataframe tbody tr th:only-of-type {\n",
       "        vertical-align: middle;\n",
       "    }\n",
       "\n",
       "    .dataframe tbody tr th {\n",
       "        vertical-align: top;\n",
       "    }\n",
       "\n",
       "    .dataframe thead tr th {\n",
       "        text-align: left;\n",
       "    }\n",
       "\n",
       "    .dataframe thead tr:last-of-type th {\n",
       "        text-align: right;\n",
       "    }\n",
       "</style>\n",
       "<table border=\"1\" class=\"dataframe\">\n",
       "  <thead>\n",
       "    <tr>\n",
       "      <th></th>\n",
       "      <th></th>\n",
       "      <th></th>\n",
       "      <th colspan=\"4\" halign=\"left\">IndividualRate</th>\n",
       "      <th colspan=\"4\" halign=\"left\">IndividualTobaccoRate</th>\n",
       "      <th colspan=\"2\" halign=\"left\">Couple</th>\n",
       "      <th>...</th>\n",
       "      <th colspan=\"2\" halign=\"left\">CoupleAndOneDependent</th>\n",
       "      <th colspan=\"4\" halign=\"left\">CoupleAndTwoDependents</th>\n",
       "      <th colspan=\"4\" halign=\"left\">CoupleAndThreeOrMoreDependents</th>\n",
       "    </tr>\n",
       "    <tr>\n",
       "      <th></th>\n",
       "      <th></th>\n",
       "      <th></th>\n",
       "      <th>mean</th>\n",
       "      <th>median</th>\n",
       "      <th>min</th>\n",
       "      <th>max</th>\n",
       "      <th>mean</th>\n",
       "      <th>median</th>\n",
       "      <th>min</th>\n",
       "      <th>max</th>\n",
       "      <th>mean</th>\n",
       "      <th>median</th>\n",
       "      <th>...</th>\n",
       "      <th>min</th>\n",
       "      <th>max</th>\n",
       "      <th>mean</th>\n",
       "      <th>median</th>\n",
       "      <th>min</th>\n",
       "      <th>max</th>\n",
       "      <th>mean</th>\n",
       "      <th>median</th>\n",
       "      <th>min</th>\n",
       "      <th>max</th>\n",
       "    </tr>\n",
       "    <tr>\n",
       "      <th>StateCode</th>\n",
       "      <th>Tobacco</th>\n",
       "      <th>Age</th>\n",
       "      <th></th>\n",
       "      <th></th>\n",
       "      <th></th>\n",
       "      <th></th>\n",
       "      <th></th>\n",
       "      <th></th>\n",
       "      <th></th>\n",
       "      <th></th>\n",
       "      <th></th>\n",
       "      <th></th>\n",
       "      <th></th>\n",
       "      <th></th>\n",
       "      <th></th>\n",
       "      <th></th>\n",
       "      <th></th>\n",
       "      <th></th>\n",
       "      <th></th>\n",
       "      <th></th>\n",
       "      <th></th>\n",
       "      <th></th>\n",
       "      <th></th>\n",
       "    </tr>\n",
       "  </thead>\n",
       "  <tbody>\n",
       "    <tr>\n",
       "      <th rowspan=\"5\" valign=\"top\">AK</th>\n",
       "      <th rowspan=\"5\" valign=\"top\">No Preference</th>\n",
       "      <th>0-14</th>\n",
       "      <td>204.175349</td>\n",
       "      <td>63.000</td>\n",
       "      <td>35.75</td>\n",
       "      <td>466.00</td>\n",
       "      <td>NaN</td>\n",
       "      <td>NaN</td>\n",
       "      <td>NaN</td>\n",
       "      <td>NaN</td>\n",
       "      <td>NaN</td>\n",
       "      <td>NaN</td>\n",
       "      <td>...</td>\n",
       "      <td>NaN</td>\n",
       "      <td>NaN</td>\n",
       "      <td>NaN</td>\n",
       "      <td>NaN</td>\n",
       "      <td>NaN</td>\n",
       "      <td>NaN</td>\n",
       "      <td>NaN</td>\n",
       "      <td>NaN</td>\n",
       "      <td>NaN</td>\n",
       "      <td>NaN</td>\n",
       "    </tr>\n",
       "    <tr>\n",
       "      <th>15</th>\n",
       "      <td>220.405581</td>\n",
       "      <td>63.000</td>\n",
       "      <td>36.82</td>\n",
       "      <td>507.00</td>\n",
       "      <td>NaN</td>\n",
       "      <td>NaN</td>\n",
       "      <td>NaN</td>\n",
       "      <td>NaN</td>\n",
       "      <td>NaN</td>\n",
       "      <td>NaN</td>\n",
       "      <td>...</td>\n",
       "      <td>NaN</td>\n",
       "      <td>NaN</td>\n",
       "      <td>NaN</td>\n",
       "      <td>NaN</td>\n",
       "      <td>NaN</td>\n",
       "      <td>NaN</td>\n",
       "      <td>NaN</td>\n",
       "      <td>NaN</td>\n",
       "      <td>NaN</td>\n",
       "      <td>NaN</td>\n",
       "    </tr>\n",
       "    <tr>\n",
       "      <th>16</th>\n",
       "      <td>226.475349</td>\n",
       "      <td>63.000</td>\n",
       "      <td>36.82</td>\n",
       "      <td>523.00</td>\n",
       "      <td>NaN</td>\n",
       "      <td>NaN</td>\n",
       "      <td>NaN</td>\n",
       "      <td>NaN</td>\n",
       "      <td>NaN</td>\n",
       "      <td>NaN</td>\n",
       "      <td>...</td>\n",
       "      <td>NaN</td>\n",
       "      <td>NaN</td>\n",
       "      <td>NaN</td>\n",
       "      <td>NaN</td>\n",
       "      <td>NaN</td>\n",
       "      <td>NaN</td>\n",
       "      <td>NaN</td>\n",
       "      <td>NaN</td>\n",
       "      <td>NaN</td>\n",
       "      <td>NaN</td>\n",
       "    </tr>\n",
       "    <tr>\n",
       "      <th>17</th>\n",
       "      <td>232.568372</td>\n",
       "      <td>63.000</td>\n",
       "      <td>36.82</td>\n",
       "      <td>539.00</td>\n",
       "      <td>NaN</td>\n",
       "      <td>NaN</td>\n",
       "      <td>NaN</td>\n",
       "      <td>NaN</td>\n",
       "      <td>NaN</td>\n",
       "      <td>NaN</td>\n",
       "      <td>...</td>\n",
       "      <td>NaN</td>\n",
       "      <td>NaN</td>\n",
       "      <td>NaN</td>\n",
       "      <td>NaN</td>\n",
       "      <td>NaN</td>\n",
       "      <td>NaN</td>\n",
       "      <td>NaN</td>\n",
       "      <td>NaN</td>\n",
       "      <td>NaN</td>\n",
       "      <td>NaN</td>\n",
       "    </tr>\n",
       "    <tr>\n",
       "      <th>18</th>\n",
       "      <td>239.033488</td>\n",
       "      <td>63.000</td>\n",
       "      <td>36.82</td>\n",
       "      <td>556.00</td>\n",
       "      <td>NaN</td>\n",
       "      <td>NaN</td>\n",
       "      <td>NaN</td>\n",
       "      <td>NaN</td>\n",
       "      <td>NaN</td>\n",
       "      <td>NaN</td>\n",
       "      <td>...</td>\n",
       "      <td>NaN</td>\n",
       "      <td>NaN</td>\n",
       "      <td>NaN</td>\n",
       "      <td>NaN</td>\n",
       "      <td>NaN</td>\n",
       "      <td>NaN</td>\n",
       "      <td>NaN</td>\n",
       "      <td>NaN</td>\n",
       "      <td>NaN</td>\n",
       "      <td>NaN</td>\n",
       "    </tr>\n",
       "    <tr>\n",
       "      <th>...</th>\n",
       "      <th>...</th>\n",
       "      <th>...</th>\n",
       "      <td>...</td>\n",
       "      <td>...</td>\n",
       "      <td>...</td>\n",
       "      <td>...</td>\n",
       "      <td>...</td>\n",
       "      <td>...</td>\n",
       "      <td>...</td>\n",
       "      <td>...</td>\n",
       "      <td>...</td>\n",
       "      <td>...</td>\n",
       "      <td>...</td>\n",
       "      <td>...</td>\n",
       "      <td>...</td>\n",
       "      <td>...</td>\n",
       "      <td>...</td>\n",
       "      <td>...</td>\n",
       "      <td>...</td>\n",
       "      <td>...</td>\n",
       "      <td>...</td>\n",
       "      <td>...</td>\n",
       "      <td>...</td>\n",
       "    </tr>\n",
       "    <tr>\n",
       "      <th rowspan=\"5\" valign=\"top\">WY</th>\n",
       "      <th rowspan=\"5\" valign=\"top\">Tobacco User/Non-Tobacco User</th>\n",
       "      <th>60</th>\n",
       "      <td>1636.230556</td>\n",
       "      <td>1634.080</td>\n",
       "      <td>1244.47</td>\n",
       "      <td>1969.34</td>\n",
       "      <td>2045.287963</td>\n",
       "      <td>2042.600</td>\n",
       "      <td>1555.58</td>\n",
       "      <td>2461.68</td>\n",
       "      <td>NaN</td>\n",
       "      <td>NaN</td>\n",
       "      <td>...</td>\n",
       "      <td>NaN</td>\n",
       "      <td>NaN</td>\n",
       "      <td>NaN</td>\n",
       "      <td>NaN</td>\n",
       "      <td>NaN</td>\n",
       "      <td>NaN</td>\n",
       "      <td>NaN</td>\n",
       "      <td>NaN</td>\n",
       "      <td>NaN</td>\n",
       "      <td>NaN</td>\n",
       "    </tr>\n",
       "    <tr>\n",
       "      <th>61</th>\n",
       "      <td>1694.108148</td>\n",
       "      <td>1691.880</td>\n",
       "      <td>1288.49</td>\n",
       "      <td>2039.00</td>\n",
       "      <td>2117.633333</td>\n",
       "      <td>2114.855</td>\n",
       "      <td>1610.61</td>\n",
       "      <td>2548.75</td>\n",
       "      <td>NaN</td>\n",
       "      <td>NaN</td>\n",
       "      <td>...</td>\n",
       "      <td>NaN</td>\n",
       "      <td>NaN</td>\n",
       "      <td>NaN</td>\n",
       "      <td>NaN</td>\n",
       "      <td>NaN</td>\n",
       "      <td>NaN</td>\n",
       "      <td>NaN</td>\n",
       "      <td>NaN</td>\n",
       "      <td>NaN</td>\n",
       "      <td>NaN</td>\n",
       "    </tr>\n",
       "    <tr>\n",
       "      <th>62</th>\n",
       "      <td>1732.089444</td>\n",
       "      <td>1729.815</td>\n",
       "      <td>1317.37</td>\n",
       "      <td>2084.71</td>\n",
       "      <td>2165.110556</td>\n",
       "      <td>2162.270</td>\n",
       "      <td>1646.72</td>\n",
       "      <td>2605.89</td>\n",
       "      <td>NaN</td>\n",
       "      <td>NaN</td>\n",
       "      <td>...</td>\n",
       "      <td>NaN</td>\n",
       "      <td>NaN</td>\n",
       "      <td>NaN</td>\n",
       "      <td>NaN</td>\n",
       "      <td>NaN</td>\n",
       "      <td>NaN</td>\n",
       "      <td>NaN</td>\n",
       "      <td>NaN</td>\n",
       "      <td>NaN</td>\n",
       "      <td>NaN</td>\n",
       "    </tr>\n",
       "    <tr>\n",
       "      <th>63</th>\n",
       "      <td>1779.717222</td>\n",
       "      <td>1777.380</td>\n",
       "      <td>1353.60</td>\n",
       "      <td>2142.04</td>\n",
       "      <td>2224.645556</td>\n",
       "      <td>2221.725</td>\n",
       "      <td>1692.00</td>\n",
       "      <td>2677.55</td>\n",
       "      <td>NaN</td>\n",
       "      <td>NaN</td>\n",
       "      <td>...</td>\n",
       "      <td>NaN</td>\n",
       "      <td>NaN</td>\n",
       "      <td>NaN</td>\n",
       "      <td>NaN</td>\n",
       "      <td>NaN</td>\n",
       "      <td>NaN</td>\n",
       "      <td>NaN</td>\n",
       "      <td>NaN</td>\n",
       "      <td>NaN</td>\n",
       "      <td>NaN</td>\n",
       "    </tr>\n",
       "    <tr>\n",
       "      <th>64 and over</th>\n",
       "      <td>1808.645741</td>\n",
       "      <td>1806.270</td>\n",
       "      <td>1375.60</td>\n",
       "      <td>2176.86</td>\n",
       "      <td>2260.807778</td>\n",
       "      <td>2257.840</td>\n",
       "      <td>1719.50</td>\n",
       "      <td>2721.07</td>\n",
       "      <td>NaN</td>\n",
       "      <td>NaN</td>\n",
       "      <td>...</td>\n",
       "      <td>NaN</td>\n",
       "      <td>NaN</td>\n",
       "      <td>NaN</td>\n",
       "      <td>NaN</td>\n",
       "      <td>NaN</td>\n",
       "      <td>NaN</td>\n",
       "      <td>NaN</td>\n",
       "      <td>NaN</td>\n",
       "      <td>NaN</td>\n",
       "      <td>NaN</td>\n",
       "    </tr>\n",
       "  </tbody>\n",
       "</table>\n",
       "<p>3366 rows × 36 columns</p>\n",
       "</div>"
      ],
      "text/plain": [
       "                                                    IndividualRate            \\\n",
       "                                                              mean    median   \n",
       "StateCode Tobacco                       Age                                    \n",
       "AK        No Preference                 0-14            204.175349    63.000   \n",
       "                                        15              220.405581    63.000   \n",
       "                                        16              226.475349    63.000   \n",
       "                                        17              232.568372    63.000   \n",
       "                                        18              239.033488    63.000   \n",
       "...                                                            ...       ...   \n",
       "WY        Tobacco User/Non-Tobacco User 60             1636.230556  1634.080   \n",
       "                                        61             1694.108148  1691.880   \n",
       "                                        62             1732.089444  1729.815   \n",
       "                                        63             1779.717222  1777.380   \n",
       "                                        64 and over    1808.645741  1806.270   \n",
       "\n",
       "                                                                       \\\n",
       "                                                         min      max   \n",
       "StateCode Tobacco                       Age                             \n",
       "AK        No Preference                 0-14           35.75   466.00   \n",
       "                                        15             36.82   507.00   \n",
       "                                        16             36.82   523.00   \n",
       "                                        17             36.82   539.00   \n",
       "                                        18             36.82   556.00   \n",
       "...                                                      ...      ...   \n",
       "WY        Tobacco User/Non-Tobacco User 60           1244.47  1969.34   \n",
       "                                        61           1288.49  2039.00   \n",
       "                                        62           1317.37  2084.71   \n",
       "                                        63           1353.60  2142.04   \n",
       "                                        64 and over  1375.60  2176.86   \n",
       "\n",
       "                                                    IndividualTobaccoRate  \\\n",
       "                                                                     mean   \n",
       "StateCode Tobacco                       Age                                 \n",
       "AK        No Preference                 0-14                          NaN   \n",
       "                                        15                            NaN   \n",
       "                                        16                            NaN   \n",
       "                                        17                            NaN   \n",
       "                                        18                            NaN   \n",
       "...                                                                   ...   \n",
       "WY        Tobacco User/Non-Tobacco User 60                    2045.287963   \n",
       "                                        61                    2117.633333   \n",
       "                                        62                    2165.110556   \n",
       "                                        63                    2224.645556   \n",
       "                                        64 and over           2260.807778   \n",
       "\n",
       "                                                                        \\\n",
       "                                                       median      min   \n",
       "StateCode Tobacco                       Age                              \n",
       "AK        No Preference                 0-14              NaN      NaN   \n",
       "                                        15                NaN      NaN   \n",
       "                                        16                NaN      NaN   \n",
       "                                        17                NaN      NaN   \n",
       "                                        18                NaN      NaN   \n",
       "...                                                       ...      ...   \n",
       "WY        Tobacco User/Non-Tobacco User 60           2042.600  1555.58   \n",
       "                                        61           2114.855  1610.61   \n",
       "                                        62           2162.270  1646.72   \n",
       "                                        63           2221.725  1692.00   \n",
       "                                        64 and over  2257.840  1719.50   \n",
       "\n",
       "                                                             Couple         \\\n",
       "                                                         max   mean median   \n",
       "StateCode Tobacco                       Age                                  \n",
       "AK        No Preference                 0-14             NaN    NaN    NaN   \n",
       "                                        15               NaN    NaN    NaN   \n",
       "                                        16               NaN    NaN    NaN   \n",
       "                                        17               NaN    NaN    NaN   \n",
       "                                        18               NaN    NaN    NaN   \n",
       "...                                                      ...    ...    ...   \n",
       "WY        Tobacco User/Non-Tobacco User 60           2461.68    NaN    NaN   \n",
       "                                        61           2548.75    NaN    NaN   \n",
       "                                        62           2605.89    NaN    NaN   \n",
       "                                        63           2677.55    NaN    NaN   \n",
       "                                        64 and over  2721.07    NaN    NaN   \n",
       "\n",
       "                                                     ...  \\\n",
       "                                                     ...   \n",
       "StateCode Tobacco                       Age          ...   \n",
       "AK        No Preference                 0-14         ...   \n",
       "                                        15           ...   \n",
       "                                        16           ...   \n",
       "                                        17           ...   \n",
       "                                        18           ...   \n",
       "...                                                  ...   \n",
       "WY        Tobacco User/Non-Tobacco User 60           ...   \n",
       "                                        61           ...   \n",
       "                                        62           ...   \n",
       "                                        63           ...   \n",
       "                                        64 and over  ...   \n",
       "\n",
       "                                                    CoupleAndOneDependent      \\\n",
       "                                                                      min max   \n",
       "StateCode Tobacco                       Age                                     \n",
       "AK        No Preference                 0-14                          NaN NaN   \n",
       "                                        15                            NaN NaN   \n",
       "                                        16                            NaN NaN   \n",
       "                                        17                            NaN NaN   \n",
       "                                        18                            NaN NaN   \n",
       "...                                                                   ...  ..   \n",
       "WY        Tobacco User/Non-Tobacco User 60                            NaN NaN   \n",
       "                                        61                            NaN NaN   \n",
       "                                        62                            NaN NaN   \n",
       "                                        63                            NaN NaN   \n",
       "                                        64 and over                   NaN NaN   \n",
       "\n",
       "                                                    CoupleAndTwoDependents  \\\n",
       "                                                                      mean   \n",
       "StateCode Tobacco                       Age                                  \n",
       "AK        No Preference                 0-14                           NaN   \n",
       "                                        15                             NaN   \n",
       "                                        16                             NaN   \n",
       "                                        17                             NaN   \n",
       "                                        18                             NaN   \n",
       "...                                                                    ...   \n",
       "WY        Tobacco User/Non-Tobacco User 60                             NaN   \n",
       "                                        61                             NaN   \n",
       "                                        62                             NaN   \n",
       "                                        63                             NaN   \n",
       "                                        64 and over                    NaN   \n",
       "\n",
       "                                                                    \\\n",
       "                                                    median min max   \n",
       "StateCode Tobacco                       Age                          \n",
       "AK        No Preference                 0-14           NaN NaN NaN   \n",
       "                                        15             NaN NaN NaN   \n",
       "                                        16             NaN NaN NaN   \n",
       "                                        17             NaN NaN NaN   \n",
       "                                        18             NaN NaN NaN   \n",
       "...                                                    ...  ..  ..   \n",
       "WY        Tobacco User/Non-Tobacco User 60             NaN NaN NaN   \n",
       "                                        61             NaN NaN NaN   \n",
       "                                        62             NaN NaN NaN   \n",
       "                                        63             NaN NaN NaN   \n",
       "                                        64 and over    NaN NaN NaN   \n",
       "\n",
       "                                                    CoupleAndThreeOrMoreDependents  \\\n",
       "                                                                              mean   \n",
       "StateCode Tobacco                       Age                                          \n",
       "AK        No Preference                 0-14                                   NaN   \n",
       "                                        15                                     NaN   \n",
       "                                        16                                     NaN   \n",
       "                                        17                                     NaN   \n",
       "                                        18                                     NaN   \n",
       "...                                                                            ...   \n",
       "WY        Tobacco User/Non-Tobacco User 60                                     NaN   \n",
       "                                        61                                     NaN   \n",
       "                                        62                                     NaN   \n",
       "                                        63                                     NaN   \n",
       "                                        64 and over                            NaN   \n",
       "\n",
       "                                                                    \n",
       "                                                    median min max  \n",
       "StateCode Tobacco                       Age                         \n",
       "AK        No Preference                 0-14           NaN NaN NaN  \n",
       "                                        15             NaN NaN NaN  \n",
       "                                        16             NaN NaN NaN  \n",
       "                                        17             NaN NaN NaN  \n",
       "                                        18             NaN NaN NaN  \n",
       "...                                                    ...  ..  ..  \n",
       "WY        Tobacco User/Non-Tobacco User 60             NaN NaN NaN  \n",
       "                                        61             NaN NaN NaN  \n",
       "                                        62             NaN NaN NaN  \n",
       "                                        63             NaN NaN NaN  \n",
       "                                        64 and over    NaN NaN NaN  \n",
       "\n",
       "[3366 rows x 36 columns]"
      ]
     },
     "execution_count": 28,
     "metadata": {},
     "output_type": "execute_result"
    }
   ],
   "source": [
    "cms_rate_data_condensed.groupby(['StateCode', 'Tobacco', 'Age']).agg(['mean','median', 'min', 'max'])"
   ]
  },
  {
   "cell_type": "code",
   "execution_count": 29,
   "id": "a7c950c6",
   "metadata": {},
   "outputs": [],
   "source": [
    "cms_rate_data_individual = cms_rate_data_condensed[['StateCode', 'Tobacco', 'Age', 'IndividualRate', 'IndividualTobaccoRate']]"
   ]
  },
  {
   "cell_type": "code",
   "execution_count": 30,
   "id": "356c1e9e",
   "metadata": {},
   "outputs": [
    {
     "name": "stdout",
     "output_type": "stream",
     "text": [
      "  StateCode Tobacco            Age  IndividualRate  IndividualTobaccoRate\n",
      "0        AK     NaN  Family Option           76.59                    NaN\n",
      "1        AK     NaN  Family Option           73.82                    NaN\n",
      "2        AK     NaN  Family Option           74.74                    NaN\n",
      "3        AK     NaN  Family Option           75.66                    NaN\n",
      "4        AK     NaN  Family Option           71.88                    NaN\n"
     ]
    }
   ],
   "source": [
    "print(cms_rate_data_individual.head())"
   ]
  },
  {
   "cell_type": "code",
   "execution_count": 43,
   "id": "668e3c32",
   "metadata": {},
   "outputs": [
    {
     "data": {
      "text/plain": [
       "<seaborn.axisgrid.FacetGrid at 0x231ef7d3bb0>"
      ]
     },
     "execution_count": 43,
     "metadata": {},
     "output_type": "execute_result"
    },
    {
     "data": {
      "image/png": "[encoded data removed]",
      "text/plain": [
       "<Figure size 447.75x360 with 1 Axes>"
      ]
     },
     "metadata": {
      "needs_background": "light"
     },
     "output_type": "display_data"
    }
   ],
   "source": [
    "sns.relplot(x = \"IndividualRate\", y = \"Age\", data = cms_rate_data_individual, kind = \"scatter\", size = \"IndividualRate\", hue = \"StateCode\")"
   ]
  },
  {
   "cell_type": "code",
   "execution_count": 44,
   "id": "04142e2b",
   "metadata": {},
   "outputs": [],
   "source": [
    "plt.show()"
   ]
  },
  {
   "cell_type": "code",
   "execution_count": 52,
   "id": "a0eb0d0e",
   "metadata": {},
   "outputs": [],
   "source": [
    "cms_rate_data_individual_outlier_removed = cms_rate_data_individual[cms_rate_data_individual['IndividualRate'] <= 4500]"
   ]
  },
  {
   "cell_type": "code",
   "execution_count": 53,
   "id": "11851363",
   "metadata": {},
   "outputs": [
    {
     "data": {
      "text/html": [
       "<div>\n",
       "<style scoped>\n",
       "    .dataframe tbody tr th:only-of-type {\n",
       "        vertical-align: middle;\n",
       "    }\n",
       "\n",
       "    .dataframe tbody tr th {\n",
       "        vertical-align: top;\n",
       "    }\n",
       "\n",
       "    .dataframe thead th {\n",
       "        text-align: right;\n",
       "    }\n",
       "</style>\n",
       "<table border=\"1\" class=\"dataframe\">\n",
       "  <thead>\n",
       "    <tr style=\"text-align: right;\">\n",
       "      <th></th>\n",
       "      <th>StateCode</th>\n",
       "      <th>Tobacco</th>\n",
       "      <th>Age</th>\n",
       "      <th>IndividualRate</th>\n",
       "      <th>IndividualTobaccoRate</th>\n",
       "    </tr>\n",
       "  </thead>\n",
       "  <tbody>\n",
       "    <tr>\n",
       "      <th>2752436</th>\n",
       "      <td>WV</td>\n",
       "      <td>No Preference</td>\n",
       "      <td>63</td>\n",
       "      <td>1063.0</td>\n",
       "      <td>NaN</td>\n",
       "    </tr>\n",
       "    <tr>\n",
       "      <th>2752437</th>\n",
       "      <td>WV</td>\n",
       "      <td>No Preference</td>\n",
       "      <td>64 and over</td>\n",
       "      <td>1064.0</td>\n",
       "      <td>NaN</td>\n",
       "    </tr>\n",
       "    <tr>\n",
       "      <th>2752438</th>\n",
       "      <td>WV</td>\n",
       "      <td>No Preference</td>\n",
       "      <td>64 and over</td>\n",
       "      <td>1064.0</td>\n",
       "      <td>NaN</td>\n",
       "    </tr>\n",
       "    <tr>\n",
       "      <th>2752439</th>\n",
       "      <td>WV</td>\n",
       "      <td>No Preference</td>\n",
       "      <td>64 and over</td>\n",
       "      <td>1064.0</td>\n",
       "      <td>NaN</td>\n",
       "    </tr>\n",
       "    <tr>\n",
       "      <th>2752440</th>\n",
       "      <td>WV</td>\n",
       "      <td>No Preference</td>\n",
       "      <td>64 and over</td>\n",
       "      <td>1064.0</td>\n",
       "      <td>NaN</td>\n",
       "    </tr>\n",
       "  </tbody>\n",
       "</table>\n",
       "</div>"
      ],
      "text/plain": [
       "        StateCode        Tobacco          Age  IndividualRate  \\\n",
       "2752436        WV  No Preference           63          1063.0   \n",
       "2752437        WV  No Preference  64 and over          1064.0   \n",
       "2752438        WV  No Preference  64 and over          1064.0   \n",
       "2752439        WV  No Preference  64 and over          1064.0   \n",
       "2752440        WV  No Preference  64 and over          1064.0   \n",
       "\n",
       "         IndividualTobaccoRate  \n",
       "2752436                    NaN  \n",
       "2752437                    NaN  \n",
       "2752438                    NaN  \n",
       "2752439                    NaN  \n",
       "2752440                    NaN  "
      ]
     },
     "execution_count": 53,
     "metadata": {},
     "output_type": "execute_result"
    }
   ],
   "source": [
    "cms_rate_data_individual_outlier_removed.tail()"
   ]
  },
  {
   "cell_type": "code",
   "execution_count": 54,
   "id": "8f41cff6",
   "metadata": {},
   "outputs": [
    {
     "data": {
      "image/png": "[encoded data removed]",
      "text/plain": [
       "<Figure size 360x360 with 1 Axes>"
      ]
     },
     "metadata": {
      "needs_background": "light"
     },
     "output_type": "display_data"
    }
   ],
   "source": [
    "sns.relplot(x = \"Age\", y = \"IndividualRate\", data = cms_rate_data_individual_outlier_removed, kind = \"scatter\")\n",
    "plt.show()"
   ]
  },
  {
   "cell_type": "code",
   "execution_count": 80,
   "id": "69cda704",
   "metadata": {},
   "outputs": [],
   "source": [
    "cms_rate_data_individual_over_50_AZ = cms_rate_data_individual_outlier_removed[(cms_rate_data_individual_outlier_removed['Age'] >= '50') & (cms_rate_data_individual_outlier_removed['StateCode'] == 'AZ') & (cms_rate_data_individual_outlier_removed['Age'] != 'Family Option')& (cms_rate_data_individual_outlier_removed['IndividualRate'] >= 100)]"
   ]
  },
  {
   "cell_type": "code",
   "execution_count": 81,
   "id": "c1b73748",
   "metadata": {},
   "outputs": [
    {
     "data": {
      "text/html": [
       "<div>\n",
       "<style scoped>\n",
       "    .dataframe tbody tr th:only-of-type {\n",
       "        vertical-align: middle;\n",
       "    }\n",
       "\n",
       "    .dataframe tbody tr th {\n",
       "        vertical-align: top;\n",
       "    }\n",
       "\n",
       "    .dataframe thead th {\n",
       "        text-align: right;\n",
       "    }\n",
       "</style>\n",
       "<table border=\"1\" class=\"dataframe\">\n",
       "  <thead>\n",
       "    <tr style=\"text-align: right;\">\n",
       "      <th></th>\n",
       "      <th>StateCode</th>\n",
       "      <th>Tobacco</th>\n",
       "      <th>Age</th>\n",
       "      <th>IndividualRate</th>\n",
       "      <th>IndividualTobaccoRate</th>\n",
       "    </tr>\n",
       "  </thead>\n",
       "  <tbody>\n",
       "    <tr>\n",
       "      <th>65146</th>\n",
       "      <td>AZ</td>\n",
       "      <td>Tobacco User/Non-Tobacco User</td>\n",
       "      <td>50</td>\n",
       "      <td>468.76</td>\n",
       "      <td>510.94</td>\n",
       "    </tr>\n",
       "    <tr>\n",
       "      <th>65147</th>\n",
       "      <td>AZ</td>\n",
       "      <td>Tobacco User/Non-Tobacco User</td>\n",
       "      <td>51</td>\n",
       "      <td>489.49</td>\n",
       "      <td>533.54</td>\n",
       "    </tr>\n",
       "    <tr>\n",
       "      <th>65148</th>\n",
       "      <td>AZ</td>\n",
       "      <td>Tobacco User/Non-Tobacco User</td>\n",
       "      <td>52</td>\n",
       "      <td>512.32</td>\n",
       "      <td>558.43</td>\n",
       "    </tr>\n",
       "    <tr>\n",
       "      <th>65149</th>\n",
       "      <td>AZ</td>\n",
       "      <td>Tobacco User/Non-Tobacco User</td>\n",
       "      <td>53</td>\n",
       "      <td>535.42</td>\n",
       "      <td>583.61</td>\n",
       "    </tr>\n",
       "    <tr>\n",
       "      <th>65150</th>\n",
       "      <td>AZ</td>\n",
       "      <td>Tobacco User/Non-Tobacco User</td>\n",
       "      <td>54</td>\n",
       "      <td>560.36</td>\n",
       "      <td>610.79</td>\n",
       "    </tr>\n",
       "  </tbody>\n",
       "</table>\n",
       "</div>"
      ],
      "text/plain": [
       "      StateCode                        Tobacco Age  IndividualRate  \\\n",
       "65146        AZ  Tobacco User/Non-Tobacco User  50          468.76   \n",
       "65147        AZ  Tobacco User/Non-Tobacco User  51          489.49   \n",
       "65148        AZ  Tobacco User/Non-Tobacco User  52          512.32   \n",
       "65149        AZ  Tobacco User/Non-Tobacco User  53          535.42   \n",
       "65150        AZ  Tobacco User/Non-Tobacco User  54          560.36   \n",
       "\n",
       "       IndividualTobaccoRate  \n",
       "65146                 510.94  \n",
       "65147                 533.54  \n",
       "65148                 558.43  \n",
       "65149                 583.61  \n",
       "65150                 610.79  "
      ]
     },
     "execution_count": 81,
     "metadata": {},
     "output_type": "execute_result"
    }
   ],
   "source": [
    "cms_rate_data_individual_over_50_AZ.head()"
   ]
  },
  {
   "cell_type": "code",
   "execution_count": 73,
   "id": "a1863fcc",
   "metadata": {},
   "outputs": [
    {
     "data": {
      "image/png": "[encoded data removed]",
      "text/plain": [
       "<Figure size 360x360 with 1 Axes>"
      ]
     },
     "metadata": {
      "needs_background": "light"
     },
     "output_type": "display_data"
    }
   ],
   "source": [
    "sns.relplot(x = \"Age\", y = \"IndividualRate\", data = cms_rate_data_individual_over_50_AZ, kind = \"scatter\")\n",
    "plt.show()"
   ]
  },
  {
   "cell_type": "code",
   "execution_count": 74,
   "id": "c9095312",
   "metadata": {},
   "outputs": [
    {
     "data": {
      "image/png": "[encoded data removed]",
      "text/plain": [
       "<Figure size 360x360 with 1 Axes>"
      ]
     },
     "metadata": {
      "needs_background": "light"
     },
     "output_type": "display_data"
    }
   ],
   "source": [
    "sns.relplot(x = \"Age\", y = \"IndividualRate\", data = cms_rate_data_individual_over_50_AZ, kind = \"line\")\n",
    "plt.show()"
   ]
  },
  {
   "cell_type": "code",
   "execution_count": 76,
   "id": "e0c68027",
   "metadata": {},
   "outputs": [],
   "source": [
    "cms_rate_data_individual_over_50_AZ_smoker = cms_rate_data_individual_over_50_AZ[[\"Age\", \"IndividualRate\", \"IndividualTobaccoRate\"]]"
   ]
  },
  {
   "cell_type": "code",
   "execution_count": 77,
   "id": "24d677d7",
   "metadata": {},
   "outputs": [
    {
     "data": {
      "text/html": [
       "<div>\n",
       "<style scoped>\n",
       "    .dataframe tbody tr th:only-of-type {\n",
       "        vertical-align: middle;\n",
       "    }\n",
       "\n",
       "    .dataframe tbody tr th {\n",
       "        vertical-align: top;\n",
       "    }\n",
       "\n",
       "    .dataframe thead th {\n",
       "        text-align: right;\n",
       "    }\n",
       "</style>\n",
       "<table border=\"1\" class=\"dataframe\">\n",
       "  <thead>\n",
       "    <tr style=\"text-align: right;\">\n",
       "      <th></th>\n",
       "      <th>Age</th>\n",
       "      <th>IndividualRate</th>\n",
       "      <th>IndividualTobaccoRate</th>\n",
       "    </tr>\n",
       "  </thead>\n",
       "  <tbody>\n",
       "    <tr>\n",
       "      <th>65146</th>\n",
       "      <td>50</td>\n",
       "      <td>468.76</td>\n",
       "      <td>510.94</td>\n",
       "    </tr>\n",
       "    <tr>\n",
       "      <th>65147</th>\n",
       "      <td>51</td>\n",
       "      <td>489.49</td>\n",
       "      <td>533.54</td>\n",
       "    </tr>\n",
       "    <tr>\n",
       "      <th>65148</th>\n",
       "      <td>52</td>\n",
       "      <td>512.32</td>\n",
       "      <td>558.43</td>\n",
       "    </tr>\n",
       "    <tr>\n",
       "      <th>65149</th>\n",
       "      <td>53</td>\n",
       "      <td>535.42</td>\n",
       "      <td>583.61</td>\n",
       "    </tr>\n",
       "    <tr>\n",
       "      <th>65150</th>\n",
       "      <td>54</td>\n",
       "      <td>560.36</td>\n",
       "      <td>610.79</td>\n",
       "    </tr>\n",
       "  </tbody>\n",
       "</table>\n",
       "</div>"
      ],
      "text/plain": [
       "      Age  IndividualRate  IndividualTobaccoRate\n",
       "65146  50          468.76                 510.94\n",
       "65147  51          489.49                 533.54\n",
       "65148  52          512.32                 558.43\n",
       "65149  53          535.42                 583.61\n",
       "65150  54          560.36                 610.79"
      ]
     },
     "execution_count": 77,
     "metadata": {},
     "output_type": "execute_result"
    }
   ],
   "source": [
    "cms_rate_data_individual_over_50_AZ_smoker.head()"
   ]
  },
  {
   "cell_type": "code",
   "execution_count": 83,
   "id": "ae2e95b8",
   "metadata": {},
   "outputs": [
    {
     "data": {
      "image/png": "[encoded data removed]",
      "text/plain": [
       "<Figure size 432x288 with 2 Axes>"
      ]
     },
     "metadata": {
      "needs_background": "light"
     },
     "output_type": "display_data"
    }
   ],
   "source": [
    "fig, ax = plt.subplots()\n",
    "ax.plot(cms_rate_data_individual_over_50_AZ_smoker.index, cms_rate_data_individual_over_50_AZ_smoker[\"IndividualRate\"], color = 'blue')\n",
    "ax.set_xlabel(\"Age\")\n",
    "ax.set_ylabel(\"Individual Rate\")\n",
    "ax2= ax.twinx()\n",
    "ax2.plot(cms_rate_data_individual_over_50_AZ_smoker.index, cms_rate_data_individual_over_50_AZ_smoker[\"IndividualTobaccoRate\"], color = 'red')\n",
    "ax2.set_ylabel(\"Individual Rate Smoker\")\n",
    "plt.show()"
   ]
  },
  {
   "cell_type": "code",
   "execution_count": 84,
   "id": "8734831f",
   "metadata": {},
   "outputs": [],
   "source": [
    "cms_rate_data_individual_by_state = cms_rate_data_individual_outlier_removed.groupby(['StateCode']).agg(['mean'])"
   ]
  },
  {
   "cell_type": "code",
   "execution_count": 85,
   "id": "00edecc3",
   "metadata": {},
   "outputs": [
    {
     "data": {
      "text/html": [
       "<div>\n",
       "<style scoped>\n",
       "    .dataframe tbody tr th:only-of-type {\n",
       "        vertical-align: middle;\n",
       "    }\n",
       "\n",
       "    .dataframe tbody tr th {\n",
       "        vertical-align: top;\n",
       "    }\n",
       "\n",
       "    .dataframe thead tr th {\n",
       "        text-align: left;\n",
       "    }\n",
       "\n",
       "    .dataframe thead tr:last-of-type th {\n",
       "        text-align: right;\n",
       "    }\n",
       "</style>\n",
       "<table border=\"1\" class=\"dataframe\">\n",
       "  <thead>\n",
       "    <tr>\n",
       "      <th></th>\n",
       "      <th>IndividualRate</th>\n",
       "      <th>IndividualTobaccoRate</th>\n",
       "    </tr>\n",
       "    <tr>\n",
       "      <th></th>\n",
       "      <th>mean</th>\n",
       "      <th>mean</th>\n",
       "    </tr>\n",
       "    <tr>\n",
       "      <th>StateCode</th>\n",
       "      <th></th>\n",
       "      <th></th>\n",
       "    </tr>\n",
       "  </thead>\n",
       "  <tbody>\n",
       "    <tr>\n",
       "      <th>UT</th>\n",
       "      <td>483.561666</td>\n",
       "      <td>681.294087</td>\n",
       "    </tr>\n",
       "    <tr>\n",
       "      <th>VA</th>\n",
       "      <td>312.527618</td>\n",
       "      <td>515.638387</td>\n",
       "    </tr>\n",
       "    <tr>\n",
       "      <th>WI</th>\n",
       "      <td>596.938378</td>\n",
       "      <td>686.124952</td>\n",
       "    </tr>\n",
       "    <tr>\n",
       "      <th>WV</th>\n",
       "      <td>875.844819</td>\n",
       "      <td>1105.550906</td>\n",
       "    </tr>\n",
       "    <tr>\n",
       "      <th>WY</th>\n",
       "      <td>566.459533</td>\n",
       "      <td>1139.082237</td>\n",
       "    </tr>\n",
       "  </tbody>\n",
       "</table>\n",
       "</div>"
      ],
      "text/plain": [
       "          IndividualRate IndividualTobaccoRate\n",
       "                    mean                  mean\n",
       "StateCode                                     \n",
       "UT            483.561666            681.294087\n",
       "VA            312.527618            515.638387\n",
       "WI            596.938378            686.124952\n",
       "WV            875.844819           1105.550906\n",
       "WY            566.459533           1139.082237"
      ]
     },
     "execution_count": 85,
     "metadata": {},
     "output_type": "execute_result"
    }
   ],
   "source": [
    "cms_rate_data_individual_by_state.tail()"
   ]
  },
  {
   "cell_type": "code",
   "execution_count": 90,
   "id": "7a514720",
   "metadata": {},
   "outputs": [
    {
     "data": {
      "text/plain": [
       "Text(0, 0.5, 'State')"
      ]
     },
     "execution_count": 90,
     "metadata": {},
     "output_type": "execute_result"
    },
    {
     "data": {
      "image/png": "[encoded data removed]",
      "text/plain": [
       "<Figure size 432x288 with 1 Axes>"
      ]
     },
     "metadata": {
      "needs_background": "light"
     },
     "output_type": "display_data"
    }
   ],
   "source": [
    "ax = cms_rate_data_individual_by_state.plot(kind = 'bar')\n",
    "ax.set_title(\"Individual Cost per State\")\n",
    "ax.set_xlabel(\"Individual Rate\")\n",
    "ax.set_ylabel(\"State\")"
   ]
  },
  {
   "cell_type": "code",
   "execution_count": null,
   "id": "2c975c23",
   "metadata": {},
   "outputs": [],
   "source": []
  },
  {
   "cell_type": "markdown",
   "id": "7764f9d4",
   "metadata": {},
   "source": [
    "## Import Median Income per State data"
   ]
  },
  {
   "cell_type": "code",
   "execution_count": null,
   "id": "bca57a5f",
   "metadata": {},
   "outputs": [],
   "source": []
  },
  {
   "cell_type": "code",
   "execution_count": null,
   "id": "2eff0ee2",
   "metadata": {},
   "outputs": [],
   "source": []
  },
  {
   "cell_type": "code",
   "execution_count": null,
   "id": "f49eec1a",
   "metadata": {},
   "outputs": [],
   "source": []
  },
  {
   "cell_type": "code",
   "execution_count": 31,
   "id": "de9bafc3",
   "metadata": {},
   "outputs": [
    {
     "data": {
      "text/plain": [
       "requests.models.Response"
      ]
     },
     "execution_count": 31,
     "metadata": {},
     "output_type": "execute_result"
    }
   ],
   "source": [
    "median_income = requests.get('https://worldpopulationreview.com/state-rankings/median-household-income-by-state')\n",
    "type(median_income)"
   ]
  },
  {
   "cell_type": "code",
   "execution_count": 32,
   "id": "767eacf3",
   "metadata": {},
   "outputs": [
    {
     "data": {
      "text/plain": [
       "<Response [200]>"
      ]
     },
     "execution_count": 32,
     "metadata": {},
     "output_type": "execute_result"
    }
   ],
   "source": [
    "requests.get('https://worldpopulationreview.com/state-rankings/median-household-income-by-state')"
   ]
  },
  {
   "cell_type": "code",
   "execution_count": 33,
   "id": "55284021",
   "metadata": {},
   "outputs": [
    {
     "data": {
      "text/plain": [
       "200"
      ]
     },
     "execution_count": 33,
     "metadata": {},
     "output_type": "execute_result"
    }
   ],
   "source": [
    "median_income.status_code"
   ]
  },
  {
   "cell_type": "code",
   "execution_count": null,
   "id": "b8294300",
   "metadata": {},
   "outputs": [],
   "source": []
  },
  {
   "cell_type": "code",
   "execution_count": 35,
   "id": "d3defc18",
   "metadata": {},
   "outputs": [],
   "source": [
    "median_income_data = pd.read_csv(r'\\Users\\burke\\Downloads/median-household-income-by-state-[updated-august-2023].csv')"
   ]
  },
  {
   "cell_type": "code",
   "execution_count": 36,
   "id": "62659fac",
   "metadata": {},
   "outputs": [
    {
     "name": "stdout",
     "output_type": "stream",
     "text": [
      "                  state  medianHouseholdIncome2021\n",
      "0              Maryland                      90203\n",
      "1  District of Columbia                      90088\n",
      "2         Massachusetts                      89645\n",
      "3            New Jersey                      89296\n",
      "4         New Hampshire                      88465\n"
     ]
    }
   ],
   "source": [
    "print(median_income_data.head())"
   ]
  },
  {
   "cell_type": "markdown",
   "id": "fbe47c5f",
   "metadata": {},
   "source": [
    "## Use dictionary of US States to create a column in median income data with 2 letter abbreviation"
   ]
  },
  {
   "cell_type": "code",
   "execution_count": 96,
   "id": "88144cb1",
   "metadata": {},
   "outputs": [],
   "source": [
    "us_state_to_abbrev = {\n",
    "    \"Alabama\": \"AL\",\n",
    "    \"Alaska\": \"AK\",\n",
    "    \"Arizona\": \"AZ\",\n",
    "    \"Arkansas\": \"AR\",\n",
    "    \"California\": \"CA\",\n",
    "    \"Colorado\": \"CO\",\n",
    "    \"Connecticut\": \"CT\",\n",
    "    \"Delaware\": \"DE\",\n",
    "    \"Florida\": \"FL\",\n",
    "    \"Georgia\": \"GA\",\n",
    "    \"Hawaii\": \"HI\",\n",
    "    \"Idaho\": \"ID\",\n",
    "    \"Illinois\": \"IL\",\n",
    "    \"Indiana\": \"IN\",\n",
    "    \"Iowa\": \"IA\",\n",
    "    \"Kansas\": \"KS\",\n",
    "    \"Kentucky\": \"KY\",\n",
    "    \"Louisiana\": \"LA\",\n",
    "    \"Maine\": \"ME\",\n",
    "    \"Maryland\": \"MD\",\n",
    "    \"Massachusetts\": \"MA\",\n",
    "    \"Michigan\": \"MI\",\n",
    "    \"Minnesota\": \"MN\",\n",
    "    \"Mississippi\": \"MS\",\n",
    "    \"Missouri\": \"MO\",\n",
    "    \"Montana\": \"MT\",\n",
    "    \"Nebraska\": \"NE\",\n",
    "    \"Nevada\": \"NV\",\n",
    "    \"New Hampshire\": \"NH\",\n",
    "    \"New Jersey\": \"NJ\",\n",
    "    \"New Mexico\": \"NM\",\n",
    "    \"New York\": \"NY\",\n",
    "    \"North Carolina\": \"NC\",\n",
    "    \"North Dakota\": \"ND\",\n",
    "    \"Ohio\": \"OH\",\n",
    "    \"Oklahoma\": \"OK\",\n",
    "    \"Oregon\": \"OR\",\n",
    "    \"Pennsylvania\": \"PA\",\n",
    "    \"Rhode Island\": \"RI\",\n",
    "    \"South Carolina\": \"SC\",\n",
    "    \"South Dakota\": \"SD\",\n",
    "    \"Tennessee\": \"TN\",\n",
    "    \"Texas\": \"TX\",\n",
    "    \"Utah\": \"UT\",\n",
    "    \"Vermont\": \"VT\",\n",
    "    \"Virginia\": \"VA\",\n",
    "    \"Washington\": \"WA\",\n",
    "    \"West Virginia\": \"WV\",\n",
    "    \"Wisconsin\": \"WI\",\n",
    "    \"Wyoming\": \"WY\",\n",
    "    \"District of Columbia\": \"DC\",\n",
    "    \"American Samoa\": \"AS\",\n",
    "    \"Guam\": \"GU\",\n",
    "    \"Northern Mariana Islands\": \"MP\",\n",
    "    \"Puerto Rico\": \"PR\",\n",
    "    \"United States Minor Outlying Islands\": \"UM\",\n",
    "    \"U.S. Virgin Islands\": \"VI\",\n",
    "}"
   ]
  },
  {
   "cell_type": "code",
   "execution_count": 97,
   "id": "20bee0ae",
   "metadata": {},
   "outputs": [],
   "source": [
    "abbrev_to_us_state = dict(map(reversed, us_state_to_abbrev.items()))"
   ]
  },
  {
   "cell_type": "code",
   "execution_count": 101,
   "id": "fb5ca35e",
   "metadata": {},
   "outputs": [],
   "source": [
    "state_list = pd.DataFrame(abbrev_to_us_state.items(), columns=['state_code','state_name'])"
   ]
  },
  {
   "cell_type": "code",
   "execution_count": 102,
   "id": "99f83338",
   "metadata": {},
   "outputs": [
    {
     "data": {
      "text/html": [
       "<div>\n",
       "<style scoped>\n",
       "    .dataframe tbody tr th:only-of-type {\n",
       "        vertical-align: middle;\n",
       "    }\n",
       "\n",
       "    .dataframe tbody tr th {\n",
       "        vertical-align: top;\n",
       "    }\n",
       "\n",
       "    .dataframe thead th {\n",
       "        text-align: right;\n",
       "    }\n",
       "</style>\n",
       "<table border=\"1\" class=\"dataframe\">\n",
       "  <thead>\n",
       "    <tr style=\"text-align: right;\">\n",
       "      <th></th>\n",
       "      <th>state_code</th>\n",
       "      <th>state_name</th>\n",
       "    </tr>\n",
       "  </thead>\n",
       "  <tbody>\n",
       "    <tr>\n",
       "      <th>0</th>\n",
       "      <td>AL</td>\n",
       "      <td>Alabama</td>\n",
       "    </tr>\n",
       "    <tr>\n",
       "      <th>1</th>\n",
       "      <td>AK</td>\n",
       "      <td>Alaska</td>\n",
       "    </tr>\n",
       "    <tr>\n",
       "      <th>2</th>\n",
       "      <td>AZ</td>\n",
       "      <td>Arizona</td>\n",
       "    </tr>\n",
       "    <tr>\n",
       "      <th>3</th>\n",
       "      <td>AR</td>\n",
       "      <td>Arkansas</td>\n",
       "    </tr>\n",
       "    <tr>\n",
       "      <th>4</th>\n",
       "      <td>CA</td>\n",
       "      <td>California</td>\n",
       "    </tr>\n",
       "  </tbody>\n",
       "</table>\n",
       "</div>"
      ],
      "text/plain": [
       "  state_code  state_name\n",
       "0         AL     Alabama\n",
       "1         AK      Alaska\n",
       "2         AZ     Arizona\n",
       "3         AR    Arkansas\n",
       "4         CA  California"
      ]
     },
     "execution_count": 102,
     "metadata": {},
     "output_type": "execute_result"
    }
   ],
   "source": [
    "state_list.head()"
   ]
  },
  {
   "cell_type": "code",
   "execution_count": 103,
   "id": "6e64ff35",
   "metadata": {},
   "outputs": [],
   "source": [
    "median_income_stateabb = median_income_data.merge(state_list, left_on = \"state\", right_on = \"state_name\")"
   ]
  },
  {
   "cell_type": "code",
   "execution_count": 104,
   "id": "152852bd",
   "metadata": {},
   "outputs": [
    {
     "data": {
      "text/html": [
       "<div>\n",
       "<style scoped>\n",
       "    .dataframe tbody tr th:only-of-type {\n",
       "        vertical-align: middle;\n",
       "    }\n",
       "\n",
       "    .dataframe tbody tr th {\n",
       "        vertical-align: top;\n",
       "    }\n",
       "\n",
       "    .dataframe thead th {\n",
       "        text-align: right;\n",
       "    }\n",
       "</style>\n",
       "<table border=\"1\" class=\"dataframe\">\n",
       "  <thead>\n",
       "    <tr style=\"text-align: right;\">\n",
       "      <th></th>\n",
       "      <th>state</th>\n",
       "      <th>medianHouseholdIncome2021</th>\n",
       "      <th>state_code</th>\n",
       "      <th>state_name</th>\n",
       "    </tr>\n",
       "  </thead>\n",
       "  <tbody>\n",
       "    <tr>\n",
       "      <th>0</th>\n",
       "      <td>Maryland</td>\n",
       "      <td>90203</td>\n",
       "      <td>MD</td>\n",
       "      <td>Maryland</td>\n",
       "    </tr>\n",
       "    <tr>\n",
       "      <th>1</th>\n",
       "      <td>District of Columbia</td>\n",
       "      <td>90088</td>\n",
       "      <td>DC</td>\n",
       "      <td>District of Columbia</td>\n",
       "    </tr>\n",
       "    <tr>\n",
       "      <th>2</th>\n",
       "      <td>Massachusetts</td>\n",
       "      <td>89645</td>\n",
       "      <td>MA</td>\n",
       "      <td>Massachusetts</td>\n",
       "    </tr>\n",
       "    <tr>\n",
       "      <th>3</th>\n",
       "      <td>New Jersey</td>\n",
       "      <td>89296</td>\n",
       "      <td>NJ</td>\n",
       "      <td>New Jersey</td>\n",
       "    </tr>\n",
       "    <tr>\n",
       "      <th>4</th>\n",
       "      <td>New Hampshire</td>\n",
       "      <td>88465</td>\n",
       "      <td>NH</td>\n",
       "      <td>New Hampshire</td>\n",
       "    </tr>\n",
       "  </tbody>\n",
       "</table>\n",
       "</div>"
      ],
      "text/plain": [
       "                  state  medianHouseholdIncome2021 state_code  \\\n",
       "0              Maryland                      90203         MD   \n",
       "1  District of Columbia                      90088         DC   \n",
       "2         Massachusetts                      89645         MA   \n",
       "3            New Jersey                      89296         NJ   \n",
       "4         New Hampshire                      88465         NH   \n",
       "\n",
       "             state_name  \n",
       "0              Maryland  \n",
       "1  District of Columbia  \n",
       "2         Massachusetts  \n",
       "3            New Jersey  \n",
       "4         New Hampshire  "
      ]
     },
     "execution_count": 104,
     "metadata": {},
     "output_type": "execute_result"
    }
   ],
   "source": [
    "median_income_stateabb.head()"
   ]
  },
  {
   "cell_type": "code",
   "execution_count": 106,
   "id": "da7e39ba",
   "metadata": {},
   "outputs": [],
   "source": [
    "median_income_rate = cms_rate_data_individual_by_state.merge(median_income_stateabb, left_on = \"StateCode\", right_on = \"state_code\",how = \"left\", suffixes=('_',''))"
   ]
  },
  {
   "cell_type": "code",
   "execution_count": 107,
   "id": "6266beb2",
   "metadata": {},
   "outputs": [
    {
     "data": {
      "text/html": [
       "<div>\n",
       "<style scoped>\n",
       "    .dataframe tbody tr th:only-of-type {\n",
       "        vertical-align: middle;\n",
       "    }\n",
       "\n",
       "    .dataframe tbody tr th {\n",
       "        vertical-align: top;\n",
       "    }\n",
       "\n",
       "    .dataframe thead th {\n",
       "        text-align: right;\n",
       "    }\n",
       "</style>\n",
       "<table border=\"1\" class=\"dataframe\">\n",
       "  <thead>\n",
       "    <tr style=\"text-align: right;\">\n",
       "      <th></th>\n",
       "      <th>(IndividualRate, mean)</th>\n",
       "      <th>(IndividualTobaccoRate, mean)</th>\n",
       "      <th>state</th>\n",
       "      <th>medianHouseholdIncome2021</th>\n",
       "      <th>state_code</th>\n",
       "      <th>state_name</th>\n",
       "    </tr>\n",
       "  </thead>\n",
       "  <tbody>\n",
       "    <tr>\n",
       "      <th>0</th>\n",
       "      <td>518.885873</td>\n",
       "      <td>870.772433</td>\n",
       "      <td>Alaska</td>\n",
       "      <td>77845</td>\n",
       "      <td>AK</td>\n",
       "      <td>Alaska</td>\n",
       "    </tr>\n",
       "    <tr>\n",
       "      <th>1</th>\n",
       "      <td>395.624433</td>\n",
       "      <td>760.404994</td>\n",
       "      <td>Alabama</td>\n",
       "      <td>53913</td>\n",
       "      <td>AL</td>\n",
       "      <td>Alabama</td>\n",
       "    </tr>\n",
       "    <tr>\n",
       "      <th>2</th>\n",
       "      <td>436.066916</td>\n",
       "      <td>658.684318</td>\n",
       "      <td>Arkansas</td>\n",
       "      <td>52528</td>\n",
       "      <td>AR</td>\n",
       "      <td>Arkansas</td>\n",
       "    </tr>\n",
       "    <tr>\n",
       "      <th>3</th>\n",
       "      <td>481.639036</td>\n",
       "      <td>692.644153</td>\n",
       "      <td>Arizona</td>\n",
       "      <td>69056</td>\n",
       "      <td>AZ</td>\n",
       "      <td>Arizona</td>\n",
       "    </tr>\n",
       "    <tr>\n",
       "      <th>4</th>\n",
       "      <td>457.867684</td>\n",
       "      <td>732.555229</td>\n",
       "      <td>Delaware</td>\n",
       "      <td>71091</td>\n",
       "      <td>DE</td>\n",
       "      <td>Delaware</td>\n",
       "    </tr>\n",
       "  </tbody>\n",
       "</table>\n",
       "</div>"
      ],
      "text/plain": [
       "   (IndividualRate, mean)  (IndividualTobaccoRate, mean)     state  \\\n",
       "0              518.885873                     870.772433    Alaska   \n",
       "1              395.624433                     760.404994   Alabama   \n",
       "2              436.066916                     658.684318  Arkansas   \n",
       "3              481.639036                     692.644153   Arizona   \n",
       "4              457.867684                     732.555229  Delaware   \n",
       "\n",
       "   medianHouseholdIncome2021 state_code state_name  \n",
       "0                      77845         AK     Alaska  \n",
       "1                      53913         AL    Alabama  \n",
       "2                      52528         AR   Arkansas  \n",
       "3                      69056         AZ    Arizona  \n",
       "4                      71091         DE   Delaware  "
      ]
     },
     "execution_count": 107,
     "metadata": {},
     "output_type": "execute_result"
    }
   ],
   "source": [
    "median_income_rate.head()"
   ]
  },
  {
   "cell_type": "code",
   "execution_count": null,
   "id": "84822ccc",
   "metadata": {},
   "outputs": [],
   "source": []
  },
  {
   "cell_type": "code",
   "execution_count": null,
   "id": "87f0d8ea",
   "metadata": {},
   "outputs": [],
   "source": []
  },
  {
   "cell_type": "code",
   "execution_count": null,
   "id": "36efa295",
   "metadata": {},
   "outputs": [],
   "source": []
  },
  {
   "cell_type": "code",
   "execution_count": null,
   "id": "463ce266",
   "metadata": {},
   "outputs": [],
   "source": []
  },
  {
   "cell_type": "code",
   "execution_count": null,
   "id": "ca6af65c",
   "metadata": {},
   "outputs": [],
   "source": []
  },
  {
   "cell_type": "code",
   "execution_count": null,
   "id": "506b4193",
   "metadata": {},
   "outputs": [],
   "source": []
  },
  {
   "cell_type": "code",
   "execution_count": null,
   "id": "7ec6e0eb",
   "metadata": {},
   "outputs": [],
   "source": []
  },
  {
   "cell_type": "markdown",
   "id": "79e617cc",
   "metadata": {},
   "source": [
    "## Import Plan Attributes"
   ]
  },
  {
   "cell_type": "code",
   "execution_count": 38,
   "id": "80185e93",
   "metadata": {},
   "outputs": [],
   "source": [
    "cms_plan_data = pd.read_csv(r'\\Users\\burke\\Downloads/Plan_Attributes_PUF.csv', low_memory=False)"
   ]
  },
  {
   "cell_type": "code",
   "execution_count": 39,
   "id": "0b22d18b",
   "metadata": {},
   "outputs": [
    {
     "name": "stdout",
     "output_type": "stream",
     "text": [
      "   BusinessYear StateCode  IssuerId IssuerMarketPlaceMarketingName SourceName  \\\n",
      "0          2023        AK     21989         Delta Dental of Alaska       HIOS   \n",
      "1          2023        AK     21989         Delta Dental of Alaska       HIOS   \n",
      "2          2023        AK     21989         Delta Dental of Alaska       HIOS   \n",
      "3          2023        AK     21989         Delta Dental of Alaska       HIOS   \n",
      "4          2023        AK     21989         Delta Dental of Alaska       HIOS   \n",
      "\n",
      "        ImportDate      MarketCoverage DentalOnlyPlan StandardComponentId  \\\n",
      "0  11/19/2022 1:01  SHOP (Small Group)            Yes      21989AK0130001   \n",
      "1  11/19/2022 1:01          Individual            Yes      21989AK0030001   \n",
      "2  11/19/2022 1:01          Individual            Yes      21989AK0030001   \n",
      "3  11/19/2022 1:01  SHOP (Small Group)            Yes      21989AK0130002   \n",
      "4  11/19/2022 1:01  SHOP (Small Group)            Yes      21989AK0130024   \n",
      "\n",
      "                             PlanMarketingName  ...  \\\n",
      "0  Delta Dental Premier, +2000, 100*/80/50, 50  ...   \n",
      "1                    Delta Dental Premier Plan  ...   \n",
      "2                    Delta Dental Premier Plan  ...   \n",
      "3  Delta Dental Premier, +2500, 100*/80/50, 50  ...   \n",
      "4  Delta Dental Premier, +3000, 100*/80/50, 50  ...   \n",
      "\n",
      "  TEHBDedOutOfNetFamilyPerPerson TEHBDedOutOfNetFamilyPerGroup  \\\n",
      "0                            NaN                           NaN   \n",
      "1                            NaN                           NaN   \n",
      "2                            NaN                           NaN   \n",
      "3                            NaN                           NaN   \n",
      "4                            NaN                           NaN   \n",
      "\n",
      "  TEHBDedCombInnOonIndividual TEHBDedCombInnOonFamilyPerPerson  \\\n",
      "0                         NaN                              NaN   \n",
      "1                         NaN                              NaN   \n",
      "2                         NaN                              NaN   \n",
      "3                         NaN                              NaN   \n",
      "4                         NaN                              NaN   \n",
      "\n",
      "  TEHBDedCombInnOonFamilyPerGroup IsHSAEligible HSAOrHRAEmployerContribution  \\\n",
      "0                             NaN           NaN                          NaN   \n",
      "1                             NaN           NaN                          NaN   \n",
      "2                             NaN           NaN                          NaN   \n",
      "3                             NaN           NaN                          NaN   \n",
      "4                             NaN           NaN                          NaN   \n",
      "\n",
      "  HSAOrHRAEmployerContributionAmount URLForSummaryofBenefitsCoverage  \\\n",
      "0                                NaN                             NaN   \n",
      "1                                NaN                             NaN   \n",
      "2                                NaN                             NaN   \n",
      "3                                NaN                             NaN   \n",
      "4                                NaN                             NaN   \n",
      "\n",
      "                                        PlanBrochure  \n",
      "0  https://www.deltadentalak.com/-/media/deltaden...  \n",
      "1  https://www.deltadentalak.com/-/media/deltaden...  \n",
      "2  https://www.deltadentalak.com/-/media/deltaden...  \n",
      "3  https://www.deltadentalak.com/-/media/deltaden...  \n",
      "4  https://www.deltadentalak.com/-/media/deltaden...  \n",
      "\n",
      "[5 rows x 151 columns]\n"
     ]
    }
   ],
   "source": [
    "print(cms_plan_data.head())"
   ]
  },
  {
   "cell_type": "code",
   "execution_count": 84,
   "id": "4a388f25",
   "metadata": {},
   "outputs": [
    {
     "name": "stdout",
     "output_type": "stream",
     "text": [
      "<class 'pandas.core.frame.DataFrame'>\n",
      "RangeIndex: 32528 entries, 0 to 32527\n",
      "Columns: 151 entries, BusinessYear to PlanBrochure\n",
      "dtypes: float64(6), int64(5), object(140)\n",
      "memory usage: 37.5+ MB\n",
      "None\n"
     ]
    }
   ],
   "source": [
    "print(cms_plan_data.info())"
   ]
  },
  {
   "cell_type": "code",
   "execution_count": 85,
   "id": "b20fcf1e",
   "metadata": {},
   "outputs": [
    {
     "data": {
      "text/plain": [
       "0"
      ]
     },
     "execution_count": 85,
     "metadata": {},
     "output_type": "execute_result"
    }
   ],
   "source": [
    "cms_plan_data.duplicated().sum()"
   ]
  },
  {
   "cell_type": "code",
   "execution_count": 87,
   "id": "3b35b9c3",
   "metadata": {},
   "outputs": [
    {
     "data": {
      "text/plain": [
       "BusinessYear                              0\n",
       "StateCode                                 0\n",
       "IssuerId                                  0\n",
       "IssuerMarketPlaceMarketingName            0\n",
       "SourceName                                0\n",
       "                                      ...  \n",
       "IsHSAEligible                          1584\n",
       "HSAOrHRAEmployerContribution          32024\n",
       "HSAOrHRAEmployerContributionAmount    32524\n",
       "URLForSummaryofBenefitsCoverage        1534\n",
       "PlanBrochure                           1103\n",
       "Length: 151, dtype: int64"
      ]
     },
     "execution_count": 87,
     "metadata": {},
     "output_type": "execute_result"
    }
   ],
   "source": [
    "cms_plan_data.isnull().sum()"
   ]
  },
  {
   "cell_type": "code",
   "execution_count": 97,
   "id": "d37206e9",
   "metadata": {},
   "outputs": [],
   "source": [
    "cms_plan_data_condensed = cms_plan_data[['StateCode', 'MarketCoverage', 'StandardComponentId']]"
   ]
  },
  {
   "cell_type": "code",
   "execution_count": 98,
   "id": "48435555",
   "metadata": {},
   "outputs": [
    {
     "name": "stdout",
     "output_type": "stream",
     "text": [
      "  StateCode      MarketCoverage StandardComponentId\n",
      "0        AK  SHOP (Small Group)      21989AK0130001\n",
      "1        AK          Individual      21989AK0030001\n",
      "2        AK          Individual      21989AK0030001\n",
      "3        AK  SHOP (Small Group)      21989AK0130002\n",
      "4        AK  SHOP (Small Group)      21989AK0130024\n"
     ]
    }
   ],
   "source": [
    "print(cms_plan_data_condensed.head())"
   ]
  },
  {
   "cell_type": "code",
   "execution_count": 100,
   "id": "4cc8a95f",
   "metadata": {},
   "outputs": [
    {
     "data": {
      "text/html": [
       "<div>\n",
       "<style scoped>\n",
       "    .dataframe tbody tr th:only-of-type {\n",
       "        vertical-align: middle;\n",
       "    }\n",
       "\n",
       "    .dataframe tbody tr th {\n",
       "        vertical-align: top;\n",
       "    }\n",
       "\n",
       "    .dataframe thead tr th {\n",
       "        text-align: left;\n",
       "    }\n",
       "\n",
       "    .dataframe thead tr:last-of-type th {\n",
       "        text-align: right;\n",
       "    }\n",
       "</style>\n",
       "<table border=\"1\" class=\"dataframe\">\n",
       "  <thead>\n",
       "    <tr>\n",
       "      <th></th>\n",
       "      <th></th>\n",
       "      <th>StandardComponentId</th>\n",
       "    </tr>\n",
       "    <tr>\n",
       "      <th></th>\n",
       "      <th></th>\n",
       "      <th>count</th>\n",
       "    </tr>\n",
       "    <tr>\n",
       "      <th>StateCode</th>\n",
       "      <th>MarketCoverage</th>\n",
       "      <th></th>\n",
       "    </tr>\n",
       "  </thead>\n",
       "  <tbody>\n",
       "    <tr>\n",
       "      <th rowspan=\"2\" valign=\"top\">AK</th>\n",
       "      <th>Individual</th>\n",
       "      <td>82</td>\n",
       "    </tr>\n",
       "    <tr>\n",
       "      <th>SHOP (Small Group)</th>\n",
       "      <td>22</td>\n",
       "    </tr>\n",
       "    <tr>\n",
       "      <th rowspan=\"2\" valign=\"top\">AL</th>\n",
       "      <th>Individual</th>\n",
       "      <td>275</td>\n",
       "    </tr>\n",
       "    <tr>\n",
       "      <th>SHOP (Small Group)</th>\n",
       "      <td>14</td>\n",
       "    </tr>\n",
       "    <tr>\n",
       "      <th>AR</th>\n",
       "      <th>Individual</th>\n",
       "      <td>304</td>\n",
       "    </tr>\n",
       "    <tr>\n",
       "      <th rowspan=\"2\" valign=\"top\">AZ</th>\n",
       "      <th>Individual</th>\n",
       "      <td>1382</td>\n",
       "    </tr>\n",
       "    <tr>\n",
       "      <th>SHOP (Small Group)</th>\n",
       "      <td>3</td>\n",
       "    </tr>\n",
       "    <tr>\n",
       "      <th>DE</th>\n",
       "      <th>Individual</th>\n",
       "      <td>165</td>\n",
       "    </tr>\n",
       "    <tr>\n",
       "      <th rowspan=\"2\" valign=\"top\">FL</th>\n",
       "      <th>Individual</th>\n",
       "      <td>2658</td>\n",
       "    </tr>\n",
       "    <tr>\n",
       "      <th>SHOP (Small Group)</th>\n",
       "      <td>4</td>\n",
       "    </tr>\n",
       "    <tr>\n",
       "      <th rowspan=\"2\" valign=\"top\">GA</th>\n",
       "      <th>Individual</th>\n",
       "      <td>1642</td>\n",
       "    </tr>\n",
       "    <tr>\n",
       "      <th>SHOP (Small Group)</th>\n",
       "      <td>45</td>\n",
       "    </tr>\n",
       "    <tr>\n",
       "      <th>HI</th>\n",
       "      <th>Individual</th>\n",
       "      <td>112</td>\n",
       "    </tr>\n",
       "    <tr>\n",
       "      <th rowspan=\"2\" valign=\"top\">IA</th>\n",
       "      <th>Individual</th>\n",
       "      <td>354</td>\n",
       "    </tr>\n",
       "    <tr>\n",
       "      <th>SHOP (Small Group)</th>\n",
       "      <td>8</td>\n",
       "    </tr>\n",
       "    <tr>\n",
       "      <th rowspan=\"2\" valign=\"top\">IL</th>\n",
       "      <th>Individual</th>\n",
       "      <td>1958</td>\n",
       "    </tr>\n",
       "    <tr>\n",
       "      <th>SHOP (Small Group)</th>\n",
       "      <td>7</td>\n",
       "    </tr>\n",
       "    <tr>\n",
       "      <th rowspan=\"2\" valign=\"top\">IN</th>\n",
       "      <th>Individual</th>\n",
       "      <td>509</td>\n",
       "    </tr>\n",
       "    <tr>\n",
       "      <th>SHOP (Small Group)</th>\n",
       "      <td>13</td>\n",
       "    </tr>\n",
       "    <tr>\n",
       "      <th rowspan=\"2\" valign=\"top\">KS</th>\n",
       "      <th>Individual</th>\n",
       "      <td>658</td>\n",
       "    </tr>\n",
       "    <tr>\n",
       "      <th>SHOP (Small Group)</th>\n",
       "      <td>1</td>\n",
       "    </tr>\n",
       "    <tr>\n",
       "      <th rowspan=\"2\" valign=\"top\">LA</th>\n",
       "      <th>Individual</th>\n",
       "      <td>703</td>\n",
       "    </tr>\n",
       "    <tr>\n",
       "      <th>SHOP (Small Group)</th>\n",
       "      <td>4</td>\n",
       "    </tr>\n",
       "    <tr>\n",
       "      <th rowspan=\"2\" valign=\"top\">MI</th>\n",
       "      <th>Individual</th>\n",
       "      <td>1214</td>\n",
       "    </tr>\n",
       "    <tr>\n",
       "      <th>SHOP (Small Group)</th>\n",
       "      <td>81</td>\n",
       "    </tr>\n",
       "    <tr>\n",
       "      <th rowspan=\"2\" valign=\"top\">MO</th>\n",
       "      <th>Individual</th>\n",
       "      <td>1065</td>\n",
       "    </tr>\n",
       "    <tr>\n",
       "      <th>SHOP (Small Group)</th>\n",
       "      <td>3</td>\n",
       "    </tr>\n",
       "    <tr>\n",
       "      <th>MS</th>\n",
       "      <th>Individual</th>\n",
       "      <td>400</td>\n",
       "    </tr>\n",
       "    <tr>\n",
       "      <th rowspan=\"2\" valign=\"top\">MT</th>\n",
       "      <th>Individual</th>\n",
       "      <td>494</td>\n",
       "    </tr>\n",
       "    <tr>\n",
       "      <th>SHOP (Small Group)</th>\n",
       "      <td>52</td>\n",
       "    </tr>\n",
       "    <tr>\n",
       "      <th rowspan=\"2\" valign=\"top\">NC</th>\n",
       "      <th>Individual</th>\n",
       "      <td>1788</td>\n",
       "    </tr>\n",
       "    <tr>\n",
       "      <th>SHOP (Small Group)</th>\n",
       "      <td>9</td>\n",
       "    </tr>\n",
       "    <tr>\n",
       "      <th>ND</th>\n",
       "      <th>Individual</th>\n",
       "      <td>305</td>\n",
       "    </tr>\n",
       "    <tr>\n",
       "      <th rowspan=\"2\" valign=\"top\">NE</th>\n",
       "      <th>Individual</th>\n",
       "      <td>822</td>\n",
       "    </tr>\n",
       "    <tr>\n",
       "      <th>SHOP (Small Group)</th>\n",
       "      <td>1</td>\n",
       "    </tr>\n",
       "    <tr>\n",
       "      <th rowspan=\"2\" valign=\"top\">NH</th>\n",
       "      <th>Individual</th>\n",
       "      <td>315</td>\n",
       "    </tr>\n",
       "    <tr>\n",
       "      <th>SHOP (Small Group)</th>\n",
       "      <td>137</td>\n",
       "    </tr>\n",
       "    <tr>\n",
       "      <th rowspan=\"2\" valign=\"top\">OH</th>\n",
       "      <th>Individual</th>\n",
       "      <td>1776</td>\n",
       "    </tr>\n",
       "    <tr>\n",
       "      <th>SHOP (Small Group)</th>\n",
       "      <td>119</td>\n",
       "    </tr>\n",
       "    <tr>\n",
       "      <th rowspan=\"2\" valign=\"top\">OK</th>\n",
       "      <th>Individual</th>\n",
       "      <td>977</td>\n",
       "    </tr>\n",
       "    <tr>\n",
       "      <th>SHOP (Small Group)</th>\n",
       "      <td>5</td>\n",
       "    </tr>\n",
       "    <tr>\n",
       "      <th>OR</th>\n",
       "      <th>Individual</th>\n",
       "      <td>424</td>\n",
       "    </tr>\n",
       "    <tr>\n",
       "      <th rowspan=\"2\" valign=\"top\">SC</th>\n",
       "      <th>Individual</th>\n",
       "      <td>513</td>\n",
       "    </tr>\n",
       "    <tr>\n",
       "      <th>SHOP (Small Group)</th>\n",
       "      <td>1</td>\n",
       "    </tr>\n",
       "    <tr>\n",
       "      <th rowspan=\"2\" valign=\"top\">SD</th>\n",
       "      <th>Individual</th>\n",
       "      <td>322</td>\n",
       "    </tr>\n",
       "    <tr>\n",
       "      <th>SHOP (Small Group)</th>\n",
       "      <td>2</td>\n",
       "    </tr>\n",
       "    <tr>\n",
       "      <th rowspan=\"2\" valign=\"top\">TN</th>\n",
       "      <th>Individual</th>\n",
       "      <td>1552</td>\n",
       "    </tr>\n",
       "    <tr>\n",
       "      <th>SHOP (Small Group)</th>\n",
       "      <td>3</td>\n",
       "    </tr>\n",
       "    <tr>\n",
       "      <th rowspan=\"2\" valign=\"top\">TX</th>\n",
       "      <th>Individual</th>\n",
       "      <td>4774</td>\n",
       "    </tr>\n",
       "    <tr>\n",
       "      <th>SHOP (Small Group)</th>\n",
       "      <td>11</td>\n",
       "    </tr>\n",
       "    <tr>\n",
       "      <th>UT</th>\n",
       "      <th>Individual</th>\n",
       "      <td>540</td>\n",
       "    </tr>\n",
       "    <tr>\n",
       "      <th rowspan=\"2\" valign=\"top\">VA</th>\n",
       "      <th>Individual</th>\n",
       "      <td>783</td>\n",
       "    </tr>\n",
       "    <tr>\n",
       "      <th>SHOP (Small Group)</th>\n",
       "      <td>44</td>\n",
       "    </tr>\n",
       "    <tr>\n",
       "      <th rowspan=\"2\" valign=\"top\">WI</th>\n",
       "      <th>Individual</th>\n",
       "      <td>2607</td>\n",
       "    </tr>\n",
       "    <tr>\n",
       "      <th>SHOP (Small Group)</th>\n",
       "      <td>174</td>\n",
       "    </tr>\n",
       "    <tr>\n",
       "      <th rowspan=\"2\" valign=\"top\">WV</th>\n",
       "      <th>Individual</th>\n",
       "      <td>132</td>\n",
       "    </tr>\n",
       "    <tr>\n",
       "      <th>SHOP (Small Group)</th>\n",
       "      <td>1</td>\n",
       "    </tr>\n",
       "    <tr>\n",
       "      <th rowspan=\"2\" valign=\"top\">WY</th>\n",
       "      <th>Individual</th>\n",
       "      <td>149</td>\n",
       "    </tr>\n",
       "    <tr>\n",
       "      <th>SHOP (Small Group)</th>\n",
       "      <td>10</td>\n",
       "    </tr>\n",
       "  </tbody>\n",
       "</table>\n",
       "</div>"
      ],
      "text/plain": [
       "                             StandardComponentId\n",
       "                                           count\n",
       "StateCode MarketCoverage                        \n",
       "AK        Individual                          82\n",
       "          SHOP (Small Group)                  22\n",
       "AL        Individual                         275\n",
       "          SHOP (Small Group)                  14\n",
       "AR        Individual                         304\n",
       "AZ        Individual                        1382\n",
       "          SHOP (Small Group)                   3\n",
       "DE        Individual                         165\n",
       "FL        Individual                        2658\n",
       "          SHOP (Small Group)                   4\n",
       "GA        Individual                        1642\n",
       "          SHOP (Small Group)                  45\n",
       "HI        Individual                         112\n",
       "IA        Individual                         354\n",
       "          SHOP (Small Group)                   8\n",
       "IL        Individual                        1958\n",
       "          SHOP (Small Group)                   7\n",
       "IN        Individual                         509\n",
       "          SHOP (Small Group)                  13\n",
       "KS        Individual                         658\n",
       "          SHOP (Small Group)                   1\n",
       "LA        Individual                         703\n",
       "          SHOP (Small Group)                   4\n",
       "MI        Individual                        1214\n",
       "          SHOP (Small Group)                  81\n",
       "MO        Individual                        1065\n",
       "          SHOP (Small Group)                   3\n",
       "MS        Individual                         400\n",
       "MT        Individual                         494\n",
       "          SHOP (Small Group)                  52\n",
       "NC        Individual                        1788\n",
       "          SHOP (Small Group)                   9\n",
       "ND        Individual                         305\n",
       "NE        Individual                         822\n",
       "          SHOP (Small Group)                   1\n",
       "NH        Individual                         315\n",
       "          SHOP (Small Group)                 137\n",
       "OH        Individual                        1776\n",
       "          SHOP (Small Group)                 119\n",
       "OK        Individual                         977\n",
       "          SHOP (Small Group)                   5\n",
       "OR        Individual                         424\n",
       "SC        Individual                         513\n",
       "          SHOP (Small Group)                   1\n",
       "SD        Individual                         322\n",
       "          SHOP (Small Group)                   2\n",
       "TN        Individual                        1552\n",
       "          SHOP (Small Group)                   3\n",
       "TX        Individual                        4774\n",
       "          SHOP (Small Group)                  11\n",
       "UT        Individual                         540\n",
       "VA        Individual                         783\n",
       "          SHOP (Small Group)                  44\n",
       "WI        Individual                        2607\n",
       "          SHOP (Small Group)                 174\n",
       "WV        Individual                         132\n",
       "          SHOP (Small Group)                   1\n",
       "WY        Individual                         149\n",
       "          SHOP (Small Group)                  10"
      ]
     },
     "execution_count": 100,
     "metadata": {},
     "output_type": "execute_result"
    }
   ],
   "source": [
    "cms_plan_data_condensed.groupby(['StateCode', 'MarketCoverage']).agg(['count'])"
   ]
  },
  {
   "cell_type": "code",
   "execution_count": null,
   "id": "c8278010",
   "metadata": {},
   "outputs": [],
   "source": []
  }
 ],
 "metadata": {
  "kernelspec": {
   "display_name": "Python 3",
   "language": "python",
   "name": "python3"
  }
 },
 "nbformat": 4,
 "nbformat_minor": 5
}
