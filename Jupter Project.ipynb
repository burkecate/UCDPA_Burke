{
 "cells": [
  {
   "cell_type": "markdown",
   "id": "efeaf5f2",
   "metadata": {},
   "source": [
    "## Importing Modules"
   ]
  },
  {
   "cell_type": "code",
   "execution_count": 69,
   "id": "1f70bfe4",
   "metadata": {},
   "outputs": [],
   "source": [
    "import pandas as pd\n",
    "import matplotlib.pyplot as plt\n",
    "import seaborn as sns\n",
    "import pandas as pd\n",
    "import requests"
   ]
  },
  {
   "cell_type": "markdown",
   "id": "a3bf225b",
   "metadata": {},
   "source": [
    "## Import CMS Benefits_Cost_Sharing_2023"
   ]
  },
  {
   "cell_type": "code",
   "execution_count": 15,
   "id": "6457fac9",
   "metadata": {},
   "outputs": [],
   "source": [
    "cms_data_1 = pd.read_csv(r'\\Users\\burke\\Downloads/Benefits_Cost_Sharing_PUF.csv', low_memory=False)"
   ]
  },
  {
   "cell_type": "code",
   "execution_count": 18,
   "id": "38d1b5b4",
   "metadata": {},
   "outputs": [
    {
     "name": "stdout",
     "output_type": "stream",
     "text": [
      "   BusinessYear StateCode  IssuerId SourceName           ImportDate  \\\n",
      "0          2023        AK     21989       HIOS  2022-11-19 01:01:13   \n",
      "1          2023        AK     21989       HIOS  2022-11-19 01:01:13   \n",
      "2          2023        AK     21989       HIOS  2022-11-19 01:01:13   \n",
      "3          2023        AK     21989       HIOS  2022-11-19 01:01:13   \n",
      "4          2023        AK     21989       HIOS  2022-11-19 01:01:13   \n",
      "\n",
      "  StandardComponentId             PlanId                      BenefitName  \\\n",
      "0      21989AK0030001  21989AK0030001-00  Routine Dental Services (Adult)   \n",
      "1      21989AK0030001  21989AK0030001-00     Dental Check-Up for Children   \n",
      "2      21989AK0030001  21989AK0030001-00        Basic Dental Care - Child   \n",
      "3      21989AK0030001  21989AK0030001-00              Orthodontia - Child   \n",
      "4      21989AK0030001  21989AK0030001-00        Major Dental Care - Child   \n",
      "\n",
      "    CopayInnTier1 CopayInnTier2  ... IsEHB IsCovered QuantLimitOnSvc LimitQty  \\\n",
      "0  Not Applicable           NaN  ...   NaN   Covered             Yes   1100.0   \n",
      "1  Not Applicable           NaN  ...   Yes   Covered             NaN      NaN   \n",
      "2  Not Applicable           NaN  ...   Yes   Covered             NaN      NaN   \n",
      "3  Not Applicable           NaN  ...   Yes   Covered             NaN      NaN   \n",
      "4  Not Applicable           NaN  ...   Yes   Covered             NaN      NaN   \n",
      "\n",
      "          LimitUnit Exclusions  \\\n",
      "0  Dollars per Year        NaN   \n",
      "1               NaN        NaN   \n",
      "2               NaN        NaN   \n",
      "3               NaN        NaN   \n",
      "4               NaN        NaN   \n",
      "\n",
      "                                         Explanation         EHBVarReason  \\\n",
      "0  $1,100 annual maximum plan payment limit combi...              Not EHB   \n",
      "1              See policy for additional limitations  Substantially Equal   \n",
      "2                                                NaN                  NaN   \n",
      "3    Only medically necessary orthodontia is covered  Substantially Equal   \n",
      "4                                                NaN                  NaN   \n",
      "\n",
      "  IsExclFromInnMOOP IsExclFromOonMOOP  \n",
      "0               Yes               Yes  \n",
      "1                No                No  \n",
      "2                No                No  \n",
      "3                No                No  \n",
      "4                No                No  \n",
      "\n",
      "[5 rows x 24 columns]\n"
     ]
    }
   ],
   "source": [
    "print(cms_data_1.head())"
   ]
  },
  {
   "cell_type": "code",
   "execution_count": 19,
   "id": "32241407",
   "metadata": {},
   "outputs": [
    {
     "name": "stdout",
     "output_type": "stream",
     "text": [
      "<class 'pandas.core.frame.DataFrame'>\n",
      "RangeIndex: 2219663 entries, 0 to 2219662\n",
      "Data columns (total 24 columns):\n",
      " #   Column               Dtype  \n",
      "---  ------               -----  \n",
      " 0   BusinessYear         int64  \n",
      " 1   StateCode            object \n",
      " 2   IssuerId             int64  \n",
      " 3   SourceName           object \n",
      " 4   ImportDate           object \n",
      " 5   StandardComponentId  object \n",
      " 6   PlanId               object \n",
      " 7   BenefitName          object \n",
      " 8   CopayInnTier1        object \n",
      " 9   CopayInnTier2        object \n",
      " 10  CopayOutofNet        object \n",
      " 11  CoinsInnTier1        object \n",
      " 12  CoinsInnTier2        object \n",
      " 13  CoinsOutofNet        object \n",
      " 14  IsEHB                object \n",
      " 15  IsCovered            object \n",
      " 16  QuantLimitOnSvc      object \n",
      " 17  LimitQty             float64\n",
      " 18  LimitUnit            object \n",
      " 19  Exclusions           object \n",
      " 20  Explanation          object \n",
      " 21  EHBVarReason         object \n",
      " 22  IsExclFromInnMOOP    object \n",
      " 23  IsExclFromOonMOOP    object \n",
      "dtypes: float64(1), int64(2), object(21)\n",
      "memory usage: 406.4+ MB\n",
      "None\n"
     ]
    }
   ],
   "source": [
    "print(cms_data_1.info())"
   ]
  },
  {
   "cell_type": "code",
   "execution_count": 20,
   "id": "25392824",
   "metadata": {},
   "outputs": [
    {
     "data": {
      "text/plain": [
       "0"
      ]
     },
     "execution_count": 20,
     "metadata": {},
     "output_type": "execute_result"
    }
   ],
   "source": [
    "cms_data_1.duplicated().sum()"
   ]
  },
  {
   "cell_type": "code",
   "execution_count": 21,
   "id": "e82cabc5",
   "metadata": {},
   "outputs": [
    {
     "data": {
      "text/plain": [
       "BusinessYear                 0\n",
       "StateCode                    0\n",
       "IssuerId                     0\n",
       "SourceName                   0\n",
       "ImportDate                   0\n",
       "StandardComponentId          0\n",
       "PlanId                       0\n",
       "BenefitName                  0\n",
       "CopayInnTier1           503349\n",
       "CopayInnTier2          1852011\n",
       "CopayOutofNet           503349\n",
       "CoinsInnTier1           503349\n",
       "CoinsInnTier2          1852011\n",
       "CoinsOutofNet           503349\n",
       "IsEHB                   578607\n",
       "IsCovered               126678\n",
       "QuantLimitOnSvc        1612945\n",
       "LimitQty               1924276\n",
       "LimitUnit              1924243\n",
       "Exclusions             2082783\n",
       "Explanation            1536817\n",
       "EHBVarReason           1674567\n",
       "IsExclFromInnMOOP       390070\n",
       "IsExclFromOonMOOP       389650\n",
       "dtype: int64"
      ]
     },
     "execution_count": 21,
     "metadata": {},
     "output_type": "execute_result"
    }
   ],
   "source": [
    "cms_data_1.isnull().sum()"
   ]
  },
  {
   "cell_type": "markdown",
   "id": "01c194f1",
   "metadata": {},
   "source": [
    "## Number of Plans by State"
   ]
  },
  {
   "cell_type": "code",
   "execution_count": 10,
   "id": "c2879cd1",
   "metadata": {},
   "outputs": [],
   "source": [
    "State_Plans = cms_data_1.groupby('StateCode')['PlanId'].count()"
   ]
  },
  {
   "cell_type": "code",
   "execution_count": 36,
   "id": "dd94c7b1",
   "metadata": {},
   "outputs": [
    {
     "data": {
      "text/plain": [
       "StateCode\n",
       "AK     4889\n",
       "AL    17699\n",
       "AR    24231\n",
       "AZ    94694\n",
       "DE    10499\n",
       "Name: PlanId, dtype: int64"
      ]
     },
     "execution_count": 36,
     "metadata": {},
     "output_type": "execute_result"
    }
   ],
   "source": [
    "State_Plans.head()"
   ]
  },
  {
   "cell_type": "code",
   "execution_count": 7,
   "id": "e6128904",
   "metadata": {},
   "outputs": [
    {
     "data": {
      "text/plain": [
       "<seaborn.axisgrid.PairGrid at 0x27ed8f450d0>"
      ]
     },
     "execution_count": 7,
     "metadata": {},
     "output_type": "execute_result"
    },
    {
     "data": {
      "image/png": "[encoded data removed]",
      "text/plain": [
       "<Figure size 540x540 with 12 Axes>"
      ]
     },
     "metadata": {
      "needs_background": "light"
     },
     "output_type": "display_data"
    }
   ],
   "source": [
    "sns.pairplot(cms_data_1)"
   ]
  },
  {
   "cell_type": "code",
   "execution_count": 8,
   "id": "526d194c",
   "metadata": {},
   "outputs": [],
   "source": [
    "plt.show()"
   ]
  },
  {
   "cell_type": "code",
   "execution_count": 11,
   "id": "3d80e9c3",
   "metadata": {},
   "outputs": [],
   "source": [
    "state_plans_count = State_Plans.sort_index()"
   ]
  },
  {
   "cell_type": "code",
   "execution_count": 12,
   "id": "5bd23ff3",
   "metadata": {},
   "outputs": [
    {
     "name": "stdout",
     "output_type": "stream",
     "text": [
      "StateCode\n",
      "AK      4889\n",
      "AL     17699\n",
      "AR     24231\n",
      "AZ     94694\n",
      "DE     10499\n",
      "FL    192265\n",
      "GA    120360\n",
      "HI      6450\n",
      "IA     22778\n",
      "IL    134525\n",
      "IN     33534\n",
      "KS     44864\n",
      "LA     50093\n",
      "MI     83471\n",
      "MO     72841\n",
      "MS     28004\n",
      "MT     34473\n",
      "NC    125053\n",
      "ND     19794\n",
      "NE     57427\n",
      "NH     31185\n",
      "OH    123680\n",
      "OK     65272\n",
      "OR     27975\n",
      "SC     34532\n",
      "SD     21324\n",
      "TN    104628\n",
      "TX    334446\n",
      "UT     35324\n",
      "VA     52481\n",
      "WI    192362\n",
      "WV      9114\n",
      "WY      9396\n",
      "Name: PlanId, dtype: int64\n"
     ]
    }
   ],
   "source": [
    "print(state_plans_count)"
   ]
  },
  {
   "cell_type": "code",
   "execution_count": 13,
   "id": "83928152",
   "metadata": {},
   "outputs": [
    {
     "data": {
      "text/plain": [
       "<AxesSubplot:xlabel='StateCode'>"
      ]
     },
     "execution_count": 13,
     "metadata": {},
     "output_type": "execute_result"
    },
    {
     "data": {
      "image/png": "[encoded data removed]",
      "text/plain": [
       "<Figure size 432x288 with 1 Axes>"
      ]
     },
     "metadata": {
      "needs_background": "light"
     },
     "output_type": "display_data"
    }
   ],
   "source": [
    "state_plans_count.plot(kind = 'bar')"
   ]
  },
  {
   "cell_type": "code",
   "execution_count": 35,
   "id": "bc7444fe",
   "metadata": {},
   "outputs": [
    {
     "ename": "NameError",
     "evalue": "name 'x_labels' is not defined",
     "output_type": "error",
     "traceback": [
      "\u001b[1;31m---------------------------------------------------------------------------\u001b[0m",
      "\u001b[1;31mNameError\u001b[0m                                 Traceback (most recent call last)",
      "\u001b[1;32m<ipython-input-35-602a4f0636a1>\u001b[0m in \u001b[0;36m<module>\u001b[1;34m\u001b[0m\n\u001b[0;32m      3\u001b[0m \u001b[0max\u001b[0m\u001b[1;33m.\u001b[0m\u001b[0mset_xlabel\u001b[0m\u001b[1;33m(\u001b[0m\u001b[1;34m\"# of Plans\"\u001b[0m\u001b[1;33m)\u001b[0m\u001b[1;33m\u001b[0m\u001b[1;33m\u001b[0m\u001b[0m\n\u001b[0;32m      4\u001b[0m \u001b[0max\u001b[0m\u001b[1;33m.\u001b[0m\u001b[0mset_ylabel\u001b[0m\u001b[1;33m(\u001b[0m\u001b[1;34m\"State\"\u001b[0m\u001b[1;33m)\u001b[0m\u001b[1;33m\u001b[0m\u001b[1;33m\u001b[0m\u001b[0m\n\u001b[1;32m----> 5\u001b[1;33m \u001b[0max\u001b[0m\u001b[1;33m.\u001b[0m\u001b[0mset_xticklabels\u001b[0m\u001b[1;33m(\u001b[0m\u001b[0mx_labels\u001b[0m\u001b[1;33m)\u001b[0m\u001b[1;33m\u001b[0m\u001b[1;33m\u001b[0m\u001b[0m\n\u001b[0m",
      "\u001b[1;31mNameError\u001b[0m: name 'x_labels' is not defined"
     ]
    },
    {
     "data": {
      "image/png": "[encoded data removed]",
      "text/plain": [
       "<Figure size 432x288 with 1 Axes>"
      ]
     },
     "metadata": {
      "needs_background": "light"
     },
     "output_type": "display_data"
    }
   ],
   "source": [
    "ax = state_plans_count.plot(kind = 'barh', color = 'orange')\n",
    "ax.set_title(\"# of Plans by State\")\n",
    "ax.set_xlabel(\"# of Plans\")\n",
    "ax.set_ylabel(\"State\")\n",
    "ax.set_xticklabels(x_labels)"
   ]
  },
  {
   "cell_type": "code",
   "execution_count": 14,
   "id": "2c10cdcb",
   "metadata": {},
   "outputs": [
    {
     "data": {
      "text/plain": [
       "2219663"
      ]
     },
     "execution_count": 14,
     "metadata": {},
     "output_type": "execute_result"
    }
   ],
   "source": [
    "state_plans_count.sum()"
   ]
  },
  {
   "cell_type": "code",
   "execution_count": 27,
   "id": "56bcd707",
   "metadata": {},
   "outputs": [
    {
     "data": {
      "text/plain": [
       "334446"
      ]
     },
     "execution_count": 27,
     "metadata": {},
     "output_type": "execute_result"
    }
   ],
   "source": [
    "state_plans_count.max()"
   ]
  },
  {
   "cell_type": "code",
   "execution_count": 28,
   "id": "a3d3ad13",
   "metadata": {},
   "outputs": [
    {
     "data": {
      "text/plain": [
       "4889"
      ]
     },
     "execution_count": 28,
     "metadata": {},
     "output_type": "execute_result"
    }
   ],
   "source": [
    "state_plans_count.min()"
   ]
  },
  {
   "cell_type": "code",
   "execution_count": null,
   "id": "d32e5752",
   "metadata": {},
   "outputs": [],
   "source": []
  },
  {
   "cell_type": "markdown",
   "id": "fe13ef6d",
   "metadata": {},
   "source": [
    "# Import Rates PUF"
   ]
  },
  {
   "cell_type": "code",
   "execution_count": 36,
   "id": "7649cd83",
   "metadata": {},
   "outputs": [],
   "source": [
    "cms_rate_data = pd.read_csv(r'\\Users\\burke\\Downloads/Rate_PUF.csv', low_memory=False)"
   ]
  },
  {
   "cell_type": "code",
   "execution_count": 37,
   "id": "7f04a77d",
   "metadata": {},
   "outputs": [
    {
     "name": "stdout",
     "output_type": "stream",
     "text": [
      "   BusinessYear StateCode  IssuerId SourceName           ImportDate  \\\n",
      "0          2023        AK     21989       HIOS  2022-11-19 01:01:13   \n",
      "1          2023        AK     21989       HIOS  2022-11-19 01:01:13   \n",
      "2          2023        AK     21989       HIOS  2022-11-19 01:01:13   \n",
      "3          2023        AK     21989       HIOS  2022-11-19 01:01:13   \n",
      "4          2023        AK     21989       HIOS  2022-11-19 01:01:13   \n",
      "\n",
      "  RateEffectiveDate RateExpirationDate          PlanId   RatingAreaId Tobacco  \\\n",
      "0        2023-10-01         2023-12-31  21989AK0110001  Rating Area 1     NaN   \n",
      "1        2023-01-01         2023-03-31  21989AK0110001  Rating Area 1     NaN   \n",
      "2        2023-04-01         2023-06-30  21989AK0110001  Rating Area 1     NaN   \n",
      "3        2023-07-01         2023-09-30  21989AK0110001  Rating Area 1     NaN   \n",
      "4        2023-07-01         2023-09-30  21989AK0110001  Rating Area 2     NaN   \n",
      "\n",
      "             Age  IndividualRate  IndividualTobaccoRate  Couple  \\\n",
      "0  Family Option           76.59                    NaN  159.30   \n",
      "1  Family Option           73.82                    NaN  153.54   \n",
      "2  Family Option           74.74                    NaN  155.46   \n",
      "3  Family Option           75.66                    NaN  157.38   \n",
      "4  Family Option           71.88                    NaN  149.51   \n",
      "\n",
      "   PrimarySubscriberAndOneDependent  PrimarySubscriberAndTwoDependents  \\\n",
      "0                            183.81                             183.81   \n",
      "1                            177.16                             177.16   \n",
      "2                            179.38                             179.38   \n",
      "3                            181.59                             181.59   \n",
      "4                            172.51                             172.51   \n",
      "\n",
      "   PrimarySubscriberAndThreeOrMoreDependents  CoupleAndOneDependent  \\\n",
      "0                                     183.81                 274.18   \n",
      "1                                     177.16                 264.27   \n",
      "2                                     179.38                 267.57   \n",
      "3                                     181.59                 270.87   \n",
      "4                                     172.51                 257.33   \n",
      "\n",
      "   CoupleAndTwoDependents  CoupleAndThreeOrMoreDependents  \n",
      "0                  274.18                          274.18  \n",
      "1                  264.27                          264.27  \n",
      "2                  267.57                          267.57  \n",
      "3                  270.87                          270.87  \n",
      "4                  257.33                          257.33  \n"
     ]
    }
   ],
   "source": [
    "print(cms_rate_data.head())"
   ]
  },
  {
   "cell_type": "code",
   "execution_count": 39,
   "id": "bc4a7b10",
   "metadata": {},
   "outputs": [
    {
     "name": "stdout",
     "output_type": "stream",
     "text": [
      "<class 'pandas.core.frame.DataFrame'>\n",
      "RangeIndex: 2752441 entries, 0 to 2752440\n",
      "Data columns (total 20 columns):\n",
      " #   Column                                     Dtype  \n",
      "---  ------                                     -----  \n",
      " 0   BusinessYear                               int64  \n",
      " 1   StateCode                                  object \n",
      " 2   IssuerId                                   int64  \n",
      " 3   SourceName                                 object \n",
      " 4   ImportDate                                 object \n",
      " 5   RateEffectiveDate                          object \n",
      " 6   RateExpirationDate                         object \n",
      " 7   PlanId                                     object \n",
      " 8   RatingAreaId                               object \n",
      " 9   Tobacco                                    object \n",
      " 10  Age                                        object \n",
      " 11  IndividualRate                             float64\n",
      " 12  IndividualTobaccoRate                      float64\n",
      " 13  Couple                                     float64\n",
      " 14  PrimarySubscriberAndOneDependent           float64\n",
      " 15  PrimarySubscriberAndTwoDependents          float64\n",
      " 16  PrimarySubscriberAndThreeOrMoreDependents  float64\n",
      " 17  CoupleAndOneDependent                      float64\n",
      " 18  CoupleAndTwoDependents                     float64\n",
      " 19  CoupleAndThreeOrMoreDependents             float64\n",
      "dtypes: float64(9), int64(2), object(9)\n",
      "memory usage: 420.0+ MB\n",
      "None\n"
     ]
    }
   ],
   "source": [
    "print(cms_rate_data.info())"
   ]
  },
  {
   "cell_type": "code",
   "execution_count": 40,
   "id": "e9fd9228",
   "metadata": {},
   "outputs": [
    {
     "data": {
      "text/plain": [
       "0"
      ]
     },
     "execution_count": 40,
     "metadata": {},
     "output_type": "execute_result"
    }
   ],
   "source": [
    "cms_rate_data.duplicated().sum()"
   ]
  },
  {
   "cell_type": "code",
   "execution_count": 41,
   "id": "54d6bb41",
   "metadata": {},
   "outputs": [
    {
     "data": {
      "text/plain": [
       "BusinessYear                                       0\n",
       "StateCode                                          0\n",
       "IssuerId                                           0\n",
       "SourceName                                         0\n",
       "ImportDate                                         0\n",
       "RateEffectiveDate                                  0\n",
       "RateExpirationDate                                 0\n",
       "PlanId                                             0\n",
       "RatingAreaId                                       0\n",
       "Tobacco                                          991\n",
       "Age                                                0\n",
       "IndividualRate                                     0\n",
       "IndividualTobaccoRate                        1317760\n",
       "Couple                                       2751450\n",
       "PrimarySubscriberAndOneDependent             2751450\n",
       "PrimarySubscriberAndTwoDependents            2751450\n",
       "PrimarySubscriberAndThreeOrMoreDependents    2751450\n",
       "CoupleAndOneDependent                        2751450\n",
       "CoupleAndTwoDependents                       2751450\n",
       "CoupleAndThreeOrMoreDependents               2751450\n",
       "dtype: int64"
      ]
     },
     "execution_count": 41,
     "metadata": {},
     "output_type": "execute_result"
    }
   ],
   "source": [
    "cms_rate_data.isnull().sum()"
   ]
  },
  {
   "cell_type": "code",
   "execution_count": 59,
   "id": "ead4c1d5",
   "metadata": {},
   "outputs": [],
   "source": [
    "cms_rate_data_list = cms_rate_data['StateCode'].tolist()"
   ]
  },
  {
   "cell_type": "code",
   "execution_count": 64,
   "id": "59d7d13f",
   "metadata": {},
   "outputs": [],
   "source": [
    "cms_rate_data_condensed = cms_rate_data.drop(['BusinessYear', 'IssuerId', 'SourceName', 'ImportDate', 'RateEffectiveDate', 'RateExpirationDate', 'RatingAreaId'], axis = 1)"
   ]
  },
  {
   "cell_type": "code",
   "execution_count": 67,
   "id": "105b190d",
   "metadata": {},
   "outputs": [
    {
     "name": "stdout",
     "output_type": "stream",
     "text": [
      "  StateCode          PlanId Tobacco            Age  IndividualRate  \\\n",
      "0        AK  21989AK0110001     NaN  Family Option           76.59   \n",
      "1        AK  21989AK0110001     NaN  Family Option           73.82   \n",
      "2        AK  21989AK0110001     NaN  Family Option           74.74   \n",
      "3        AK  21989AK0110001     NaN  Family Option           75.66   \n",
      "4        AK  21989AK0110001     NaN  Family Option           71.88   \n",
      "\n",
      "   IndividualTobaccoRate  Couple  PrimarySubscriberAndOneDependent  \\\n",
      "0                    NaN  159.30                            183.81   \n",
      "1                    NaN  153.54                            177.16   \n",
      "2                    NaN  155.46                            179.38   \n",
      "3                    NaN  157.38                            181.59   \n",
      "4                    NaN  149.51                            172.51   \n",
      "\n",
      "   PrimarySubscriberAndTwoDependents  \\\n",
      "0                             183.81   \n",
      "1                             177.16   \n",
      "2                             179.38   \n",
      "3                             181.59   \n",
      "4                             172.51   \n",
      "\n",
      "   PrimarySubscriberAndThreeOrMoreDependents  CoupleAndOneDependent  \\\n",
      "0                                     183.81                 274.18   \n",
      "1                                     177.16                 264.27   \n",
      "2                                     179.38                 267.57   \n",
      "3                                     181.59                 270.87   \n",
      "4                                     172.51                 257.33   \n",
      "\n",
      "   CoupleAndTwoDependents  CoupleAndThreeOrMoreDependents  \n",
      "0                  274.18                          274.18  \n",
      "1                  264.27                          264.27  \n",
      "2                  267.57                          267.57  \n",
      "3                  270.87                          270.87  \n",
      "4                  257.33                          257.33  \n"
     ]
    }
   ],
   "source": [
    "print(cms_rate_data_condensed.head())"
   ]
  },
  {
   "cell_type": "code",
   "execution_count": 68,
   "id": "a217c724",
   "metadata": {},
   "outputs": [
    {
     "data": {
      "text/html": [
       "<div>\n",
       "<style scoped>\n",
       "    .dataframe tbody tr th:only-of-type {\n",
       "        vertical-align: middle;\n",
       "    }\n",
       "\n",
       "    .dataframe tbody tr th {\n",
       "        vertical-align: top;\n",
       "    }\n",
       "\n",
       "    .dataframe thead tr th {\n",
       "        text-align: left;\n",
       "    }\n",
       "\n",
       "    .dataframe thead tr:last-of-type th {\n",
       "        text-align: right;\n",
       "    }\n",
       "</style>\n",
       "<table border=\"1\" class=\"dataframe\">\n",
       "  <thead>\n",
       "    <tr>\n",
       "      <th></th>\n",
       "      <th></th>\n",
       "      <th></th>\n",
       "      <th colspan=\"4\" halign=\"left\">IndividualRate</th>\n",
       "      <th colspan=\"4\" halign=\"left\">IndividualTobaccoRate</th>\n",
       "      <th colspan=\"2\" halign=\"left\">Couple</th>\n",
       "      <th>...</th>\n",
       "      <th colspan=\"2\" halign=\"left\">CoupleAndOneDependent</th>\n",
       "      <th colspan=\"4\" halign=\"left\">CoupleAndTwoDependents</th>\n",
       "      <th colspan=\"4\" halign=\"left\">CoupleAndThreeOrMoreDependents</th>\n",
       "    </tr>\n",
       "    <tr>\n",
       "      <th></th>\n",
       "      <th></th>\n",
       "      <th></th>\n",
       "      <th>mean</th>\n",
       "      <th>median</th>\n",
       "      <th>min</th>\n",
       "      <th>max</th>\n",
       "      <th>mean</th>\n",
       "      <th>median</th>\n",
       "      <th>min</th>\n",
       "      <th>max</th>\n",
       "      <th>mean</th>\n",
       "      <th>median</th>\n",
       "      <th>...</th>\n",
       "      <th>min</th>\n",
       "      <th>max</th>\n",
       "      <th>mean</th>\n",
       "      <th>median</th>\n",
       "      <th>min</th>\n",
       "      <th>max</th>\n",
       "      <th>mean</th>\n",
       "      <th>median</th>\n",
       "      <th>min</th>\n",
       "      <th>max</th>\n",
       "    </tr>\n",
       "    <tr>\n",
       "      <th>StateCode</th>\n",
       "      <th>Tobacco</th>\n",
       "      <th>Age</th>\n",
       "      <th></th>\n",
       "      <th></th>\n",
       "      <th></th>\n",
       "      <th></th>\n",
       "      <th></th>\n",
       "      <th></th>\n",
       "      <th></th>\n",
       "      <th></th>\n",
       "      <th></th>\n",
       "      <th></th>\n",
       "      <th></th>\n",
       "      <th></th>\n",
       "      <th></th>\n",
       "      <th></th>\n",
       "      <th></th>\n",
       "      <th></th>\n",
       "      <th></th>\n",
       "      <th></th>\n",
       "      <th></th>\n",
       "      <th></th>\n",
       "      <th></th>\n",
       "    </tr>\n",
       "  </thead>\n",
       "  <tbody>\n",
       "    <tr>\n",
       "      <th rowspan=\"5\" valign=\"top\">AK</th>\n",
       "      <th rowspan=\"5\" valign=\"top\">No Preference</th>\n",
       "      <th>0-14</th>\n",
       "      <td>204.175349</td>\n",
       "      <td>63.000</td>\n",
       "      <td>35.75</td>\n",
       "      <td>466.00</td>\n",
       "      <td>NaN</td>\n",
       "      <td>NaN</td>\n",
       "      <td>NaN</td>\n",
       "      <td>NaN</td>\n",
       "      <td>NaN</td>\n",
       "      <td>NaN</td>\n",
       "      <td>...</td>\n",
       "      <td>NaN</td>\n",
       "      <td>NaN</td>\n",
       "      <td>NaN</td>\n",
       "      <td>NaN</td>\n",
       "      <td>NaN</td>\n",
       "      <td>NaN</td>\n",
       "      <td>NaN</td>\n",
       "      <td>NaN</td>\n",
       "      <td>NaN</td>\n",
       "      <td>NaN</td>\n",
       "    </tr>\n",
       "    <tr>\n",
       "      <th>15</th>\n",
       "      <td>220.405581</td>\n",
       "      <td>63.000</td>\n",
       "      <td>36.82</td>\n",
       "      <td>507.00</td>\n",
       "      <td>NaN</td>\n",
       "      <td>NaN</td>\n",
       "      <td>NaN</td>\n",
       "      <td>NaN</td>\n",
       "      <td>NaN</td>\n",
       "      <td>NaN</td>\n",
       "      <td>...</td>\n",
       "      <td>NaN</td>\n",
       "      <td>NaN</td>\n",
       "      <td>NaN</td>\n",
       "      <td>NaN</td>\n",
       "      <td>NaN</td>\n",
       "      <td>NaN</td>\n",
       "      <td>NaN</td>\n",
       "      <td>NaN</td>\n",
       "      <td>NaN</td>\n",
       "      <td>NaN</td>\n",
       "    </tr>\n",
       "    <tr>\n",
       "      <th>16</th>\n",
       "      <td>226.475349</td>\n",
       "      <td>63.000</td>\n",
       "      <td>36.82</td>\n",
       "      <td>523.00</td>\n",
       "      <td>NaN</td>\n",
       "      <td>NaN</td>\n",
       "      <td>NaN</td>\n",
       "      <td>NaN</td>\n",
       "      <td>NaN</td>\n",
       "      <td>NaN</td>\n",
       "      <td>...</td>\n",
       "      <td>NaN</td>\n",
       "      <td>NaN</td>\n",
       "      <td>NaN</td>\n",
       "      <td>NaN</td>\n",
       "      <td>NaN</td>\n",
       "      <td>NaN</td>\n",
       "      <td>NaN</td>\n",
       "      <td>NaN</td>\n",
       "      <td>NaN</td>\n",
       "      <td>NaN</td>\n",
       "    </tr>\n",
       "    <tr>\n",
       "      <th>17</th>\n",
       "      <td>232.568372</td>\n",
       "      <td>63.000</td>\n",
       "      <td>36.82</td>\n",
       "      <td>539.00</td>\n",
       "      <td>NaN</td>\n",
       "      <td>NaN</td>\n",
       "      <td>NaN</td>\n",
       "      <td>NaN</td>\n",
       "      <td>NaN</td>\n",
       "      <td>NaN</td>\n",
       "      <td>...</td>\n",
       "      <td>NaN</td>\n",
       "      <td>NaN</td>\n",
       "      <td>NaN</td>\n",
       "      <td>NaN</td>\n",
       "      <td>NaN</td>\n",
       "      <td>NaN</td>\n",
       "      <td>NaN</td>\n",
       "      <td>NaN</td>\n",
       "      <td>NaN</td>\n",
       "      <td>NaN</td>\n",
       "    </tr>\n",
       "    <tr>\n",
       "      <th>18</th>\n",
       "      <td>239.033488</td>\n",
       "      <td>63.000</td>\n",
       "      <td>36.82</td>\n",
       "      <td>556.00</td>\n",
       "      <td>NaN</td>\n",
       "      <td>NaN</td>\n",
       "      <td>NaN</td>\n",
       "      <td>NaN</td>\n",
       "      <td>NaN</td>\n",
       "      <td>NaN</td>\n",
       "      <td>...</td>\n",
       "      <td>NaN</td>\n",
       "      <td>NaN</td>\n",
       "      <td>NaN</td>\n",
       "      <td>NaN</td>\n",
       "      <td>NaN</td>\n",
       "      <td>NaN</td>\n",
       "      <td>NaN</td>\n",
       "      <td>NaN</td>\n",
       "      <td>NaN</td>\n",
       "      <td>NaN</td>\n",
       "    </tr>\n",
       "    <tr>\n",
       "      <th>...</th>\n",
       "      <th>...</th>\n",
       "      <th>...</th>\n",
       "      <td>...</td>\n",
       "      <td>...</td>\n",
       "      <td>...</td>\n",
       "      <td>...</td>\n",
       "      <td>...</td>\n",
       "      <td>...</td>\n",
       "      <td>...</td>\n",
       "      <td>...</td>\n",
       "      <td>...</td>\n",
       "      <td>...</td>\n",
       "      <td>...</td>\n",
       "      <td>...</td>\n",
       "      <td>...</td>\n",
       "      <td>...</td>\n",
       "      <td>...</td>\n",
       "      <td>...</td>\n",
       "      <td>...</td>\n",
       "      <td>...</td>\n",
       "      <td>...</td>\n",
       "      <td>...</td>\n",
       "      <td>...</td>\n",
       "    </tr>\n",
       "    <tr>\n",
       "      <th rowspan=\"5\" valign=\"top\">WY</th>\n",
       "      <th rowspan=\"5\" valign=\"top\">Tobacco User/Non-Tobacco User</th>\n",
       "      <th>60</th>\n",
       "      <td>1636.230556</td>\n",
       "      <td>1634.080</td>\n",
       "      <td>1244.47</td>\n",
       "      <td>1969.34</td>\n",
       "      <td>2045.287963</td>\n",
       "      <td>2042.600</td>\n",
       "      <td>1555.58</td>\n",
       "      <td>2461.68</td>\n",
       "      <td>NaN</td>\n",
       "      <td>NaN</td>\n",
       "      <td>...</td>\n",
       "      <td>NaN</td>\n",
       "      <td>NaN</td>\n",
       "      <td>NaN</td>\n",
       "      <td>NaN</td>\n",
       "      <td>NaN</td>\n",
       "      <td>NaN</td>\n",
       "      <td>NaN</td>\n",
       "      <td>NaN</td>\n",
       "      <td>NaN</td>\n",
       "      <td>NaN</td>\n",
       "    </tr>\n",
       "    <tr>\n",
       "      <th>61</th>\n",
       "      <td>1694.108148</td>\n",
       "      <td>1691.880</td>\n",
       "      <td>1288.49</td>\n",
       "      <td>2039.00</td>\n",
       "      <td>2117.633333</td>\n",
       "      <td>2114.855</td>\n",
       "      <td>1610.61</td>\n",
       "      <td>2548.75</td>\n",
       "      <td>NaN</td>\n",
       "      <td>NaN</td>\n",
       "      <td>...</td>\n",
       "      <td>NaN</td>\n",
       "      <td>NaN</td>\n",
       "      <td>NaN</td>\n",
       "      <td>NaN</td>\n",
       "      <td>NaN</td>\n",
       "      <td>NaN</td>\n",
       "      <td>NaN</td>\n",
       "      <td>NaN</td>\n",
       "      <td>NaN</td>\n",
       "      <td>NaN</td>\n",
       "    </tr>\n",
       "    <tr>\n",
       "      <th>62</th>\n",
       "      <td>1732.089444</td>\n",
       "      <td>1729.815</td>\n",
       "      <td>1317.37</td>\n",
       "      <td>2084.71</td>\n",
       "      <td>2165.110556</td>\n",
       "      <td>2162.270</td>\n",
       "      <td>1646.72</td>\n",
       "      <td>2605.89</td>\n",
       "      <td>NaN</td>\n",
       "      <td>NaN</td>\n",
       "      <td>...</td>\n",
       "      <td>NaN</td>\n",
       "      <td>NaN</td>\n",
       "      <td>NaN</td>\n",
       "      <td>NaN</td>\n",
       "      <td>NaN</td>\n",
       "      <td>NaN</td>\n",
       "      <td>NaN</td>\n",
       "      <td>NaN</td>\n",
       "      <td>NaN</td>\n",
       "      <td>NaN</td>\n",
       "    </tr>\n",
       "    <tr>\n",
       "      <th>63</th>\n",
       "      <td>1779.717222</td>\n",
       "      <td>1777.380</td>\n",
       "      <td>1353.60</td>\n",
       "      <td>2142.04</td>\n",
       "      <td>2224.645556</td>\n",
       "      <td>2221.725</td>\n",
       "      <td>1692.00</td>\n",
       "      <td>2677.55</td>\n",
       "      <td>NaN</td>\n",
       "      <td>NaN</td>\n",
       "      <td>...</td>\n",
       "      <td>NaN</td>\n",
       "      <td>NaN</td>\n",
       "      <td>NaN</td>\n",
       "      <td>NaN</td>\n",
       "      <td>NaN</td>\n",
       "      <td>NaN</td>\n",
       "      <td>NaN</td>\n",
       "      <td>NaN</td>\n",
       "      <td>NaN</td>\n",
       "      <td>NaN</td>\n",
       "    </tr>\n",
       "    <tr>\n",
       "      <th>64 and over</th>\n",
       "      <td>1808.645741</td>\n",
       "      <td>1806.270</td>\n",
       "      <td>1375.60</td>\n",
       "      <td>2176.86</td>\n",
       "      <td>2260.807778</td>\n",
       "      <td>2257.840</td>\n",
       "      <td>1719.50</td>\n",
       "      <td>2721.07</td>\n",
       "      <td>NaN</td>\n",
       "      <td>NaN</td>\n",
       "      <td>...</td>\n",
       "      <td>NaN</td>\n",
       "      <td>NaN</td>\n",
       "      <td>NaN</td>\n",
       "      <td>NaN</td>\n",
       "      <td>NaN</td>\n",
       "      <td>NaN</td>\n",
       "      <td>NaN</td>\n",
       "      <td>NaN</td>\n",
       "      <td>NaN</td>\n",
       "      <td>NaN</td>\n",
       "    </tr>\n",
       "  </tbody>\n",
       "</table>\n",
       "<p>3366 rows × 36 columns</p>\n",
       "</div>"
      ],
      "text/plain": [
       "                                                    IndividualRate            \\\n",
       "                                                              mean    median   \n",
       "StateCode Tobacco                       Age                                    \n",
       "AK        No Preference                 0-14            204.175349    63.000   \n",
       "                                        15              220.405581    63.000   \n",
       "                                        16              226.475349    63.000   \n",
       "                                        17              232.568372    63.000   \n",
       "                                        18              239.033488    63.000   \n",
       "...                                                            ...       ...   \n",
       "WY        Tobacco User/Non-Tobacco User 60             1636.230556  1634.080   \n",
       "                                        61             1694.108148  1691.880   \n",
       "                                        62             1732.089444  1729.815   \n",
       "                                        63             1779.717222  1777.380   \n",
       "                                        64 and over    1808.645741  1806.270   \n",
       "\n",
       "                                                                       \\\n",
       "                                                         min      max   \n",
       "StateCode Tobacco                       Age                             \n",
       "AK        No Preference                 0-14           35.75   466.00   \n",
       "                                        15             36.82   507.00   \n",
       "                                        16             36.82   523.00   \n",
       "                                        17             36.82   539.00   \n",
       "                                        18             36.82   556.00   \n",
       "...                                                      ...      ...   \n",
       "WY        Tobacco User/Non-Tobacco User 60           1244.47  1969.34   \n",
       "                                        61           1288.49  2039.00   \n",
       "                                        62           1317.37  2084.71   \n",
       "                                        63           1353.60  2142.04   \n",
       "                                        64 and over  1375.60  2176.86   \n",
       "\n",
       "                                                    IndividualTobaccoRate  \\\n",
       "                                                                     mean   \n",
       "StateCode Tobacco                       Age                                 \n",
       "AK        No Preference                 0-14                          NaN   \n",
       "                                        15                            NaN   \n",
       "                                        16                            NaN   \n",
       "                                        17                            NaN   \n",
       "                                        18                            NaN   \n",
       "...                                                                   ...   \n",
       "WY        Tobacco User/Non-Tobacco User 60                    2045.287963   \n",
       "                                        61                    2117.633333   \n",
       "                                        62                    2165.110556   \n",
       "                                        63                    2224.645556   \n",
       "                                        64 and over           2260.807778   \n",
       "\n",
       "                                                                        \\\n",
       "                                                       median      min   \n",
       "StateCode Tobacco                       Age                              \n",
       "AK        No Preference                 0-14              NaN      NaN   \n",
       "                                        15                NaN      NaN   \n",
       "                                        16                NaN      NaN   \n",
       "                                        17                NaN      NaN   \n",
       "                                        18                NaN      NaN   \n",
       "...                                                       ...      ...   \n",
       "WY        Tobacco User/Non-Tobacco User 60           2042.600  1555.58   \n",
       "                                        61           2114.855  1610.61   \n",
       "                                        62           2162.270  1646.72   \n",
       "                                        63           2221.725  1692.00   \n",
       "                                        64 and over  2257.840  1719.50   \n",
       "\n",
       "                                                             Couple         \\\n",
       "                                                         max   mean median   \n",
       "StateCode Tobacco                       Age                                  \n",
       "AK        No Preference                 0-14             NaN    NaN    NaN   \n",
       "                                        15               NaN    NaN    NaN   \n",
       "                                        16               NaN    NaN    NaN   \n",
       "                                        17               NaN    NaN    NaN   \n",
       "                                        18               NaN    NaN    NaN   \n",
       "...                                                      ...    ...    ...   \n",
       "WY        Tobacco User/Non-Tobacco User 60           2461.68    NaN    NaN   \n",
       "                                        61           2548.75    NaN    NaN   \n",
       "                                        62           2605.89    NaN    NaN   \n",
       "                                        63           2677.55    NaN    NaN   \n",
       "                                        64 and over  2721.07    NaN    NaN   \n",
       "\n",
       "                                                     ...  \\\n",
       "                                                     ...   \n",
       "StateCode Tobacco                       Age          ...   \n",
       "AK        No Preference                 0-14         ...   \n",
       "                                        15           ...   \n",
       "                                        16           ...   \n",
       "                                        17           ...   \n",
       "                                        18           ...   \n",
       "...                                                  ...   \n",
       "WY        Tobacco User/Non-Tobacco User 60           ...   \n",
       "                                        61           ...   \n",
       "                                        62           ...   \n",
       "                                        63           ...   \n",
       "                                        64 and over  ...   \n",
       "\n",
       "                                                    CoupleAndOneDependent      \\\n",
       "                                                                      min max   \n",
       "StateCode Tobacco                       Age                                     \n",
       "AK        No Preference                 0-14                          NaN NaN   \n",
       "                                        15                            NaN NaN   \n",
       "                                        16                            NaN NaN   \n",
       "                                        17                            NaN NaN   \n",
       "                                        18                            NaN NaN   \n",
       "...                                                                   ...  ..   \n",
       "WY        Tobacco User/Non-Tobacco User 60                            NaN NaN   \n",
       "                                        61                            NaN NaN   \n",
       "                                        62                            NaN NaN   \n",
       "                                        63                            NaN NaN   \n",
       "                                        64 and over                   NaN NaN   \n",
       "\n",
       "                                                    CoupleAndTwoDependents  \\\n",
       "                                                                      mean   \n",
       "StateCode Tobacco                       Age                                  \n",
       "AK        No Preference                 0-14                           NaN   \n",
       "                                        15                             NaN   \n",
       "                                        16                             NaN   \n",
       "                                        17                             NaN   \n",
       "                                        18                             NaN   \n",
       "...                                                                    ...   \n",
       "WY        Tobacco User/Non-Tobacco User 60                             NaN   \n",
       "                                        61                             NaN   \n",
       "                                        62                             NaN   \n",
       "                                        63                             NaN   \n",
       "                                        64 and over                    NaN   \n",
       "\n",
       "                                                                    \\\n",
       "                                                    median min max   \n",
       "StateCode Tobacco                       Age                          \n",
       "AK        No Preference                 0-14           NaN NaN NaN   \n",
       "                                        15             NaN NaN NaN   \n",
       "                                        16             NaN NaN NaN   \n",
       "                                        17             NaN NaN NaN   \n",
       "                                        18             NaN NaN NaN   \n",
       "...                                                    ...  ..  ..   \n",
       "WY        Tobacco User/Non-Tobacco User 60             NaN NaN NaN   \n",
       "                                        61             NaN NaN NaN   \n",
       "                                        62             NaN NaN NaN   \n",
       "                                        63             NaN NaN NaN   \n",
       "                                        64 and over    NaN NaN NaN   \n",
       "\n",
       "                                                    CoupleAndThreeOrMoreDependents  \\\n",
       "                                                                              mean   \n",
       "StateCode Tobacco                       Age                                          \n",
       "AK        No Preference                 0-14                                   NaN   \n",
       "                                        15                                     NaN   \n",
       "                                        16                                     NaN   \n",
       "                                        17                                     NaN   \n",
       "                                        18                                     NaN   \n",
       "...                                                                            ...   \n",
       "WY        Tobacco User/Non-Tobacco User 60                                     NaN   \n",
       "                                        61                                     NaN   \n",
       "                                        62                                     NaN   \n",
       "                                        63                                     NaN   \n",
       "                                        64 and over                            NaN   \n",
       "\n",
       "                                                                    \n",
       "                                                    median min max  \n",
       "StateCode Tobacco                       Age                         \n",
       "AK        No Preference                 0-14           NaN NaN NaN  \n",
       "                                        15             NaN NaN NaN  \n",
       "                                        16             NaN NaN NaN  \n",
       "                                        17             NaN NaN NaN  \n",
       "                                        18             NaN NaN NaN  \n",
       "...                                                    ...  ..  ..  \n",
       "WY        Tobacco User/Non-Tobacco User 60             NaN NaN NaN  \n",
       "                                        61             NaN NaN NaN  \n",
       "                                        62             NaN NaN NaN  \n",
       "                                        63             NaN NaN NaN  \n",
       "                                        64 and over    NaN NaN NaN  \n",
       "\n",
       "[3366 rows x 36 columns]"
      ]
     },
     "execution_count": 68,
     "metadata": {},
     "output_type": "execute_result"
    }
   ],
   "source": [
    "cms_rate_data_condensed.groupby(['StateCode', 'Tobacco', 'Age']).agg(['mean','median', 'min', 'max'])"
   ]
  },
  {
   "cell_type": "code",
   "execution_count": 79,
   "id": "a7c950c6",
   "metadata": {},
   "outputs": [],
   "source": [
    "cms_rate_data_individual = cms_rate_data_condensed[['StateCode', 'Tobacco', 'Age', 'IndividualRate', 'IndividualTobaccoRate']]"
   ]
  },
  {
   "cell_type": "code",
   "execution_count": 80,
   "id": "fc66e92f",
   "metadata": {},
   "outputs": [
    {
     "name": "stdout",
     "output_type": "stream",
     "text": [
      "  StateCode Tobacco            Age  IndividualRate  IndividualTobaccoRate\n",
      "0        AK     NaN  Family Option           76.59                    NaN\n",
      "1        AK     NaN  Family Option           73.82                    NaN\n",
      "2        AK     NaN  Family Option           74.74                    NaN\n",
      "3        AK     NaN  Family Option           75.66                    NaN\n",
      "4        AK     NaN  Family Option           71.88                    NaN\n"
     ]
    }
   ],
   "source": [
    "print(cms_rate_data_individual.head())"
   ]
  },
  {
   "cell_type": "code",
   "execution_count": 72,
   "id": "de9bafc3",
   "metadata": {},
   "outputs": [
    {
     "data": {
      "text/plain": [
       "requests.models.Response"
      ]
     },
     "execution_count": 72,
     "metadata": {},
     "output_type": "execute_result"
    }
   ],
   "source": [
    "median_income = requests.get('https://worldpopulationreview.com/state-rankings/median-household-income-by-state')\n",
    "type(median_income)"
   ]
  },
  {
   "cell_type": "code",
   "execution_count": 73,
   "id": "767eacf3",
   "metadata": {},
   "outputs": [
    {
     "data": {
      "text/plain": [
       "<Response [200]>"
      ]
     },
     "execution_count": 73,
     "metadata": {},
     "output_type": "execute_result"
    }
   ],
   "source": [
    "requests.get('https://worldpopulationreview.com/state-rankings/median-household-income-by-state')"
   ]
  },
  {
   "cell_type": "code",
   "execution_count": 74,
   "id": "55284021",
   "metadata": {},
   "outputs": [
    {
     "data": {
      "text/plain": [
       "200"
      ]
     },
     "execution_count": 74,
     "metadata": {},
     "output_type": "execute_result"
    }
   ],
   "source": [
    "median_income.status_code"
   ]
  },
  {
   "cell_type": "code",
   "execution_count": 75,
   "id": "0bf57370",
   "metadata": {},
   "outputs": [
    {
     "ename": "JSONDecodeError",
     "evalue": "Expecting value: line 1 column 1 (char 0)",
     "output_type": "error",
     "traceback": [
      "\u001b[1;31m---------------------------------------------------------------------------\u001b[0m",
      "\u001b[1;31mJSONDecodeError\u001b[0m                           Traceback (most recent call last)",
      "\u001b[1;32m<ipython-input-75-1e71c105c8d7>\u001b[0m in \u001b[0;36m<module>\u001b[1;34m\u001b[0m\n\u001b[1;32m----> 1\u001b[1;33m \u001b[0mmedian_income\u001b[0m\u001b[1;33m.\u001b[0m\u001b[0mjson\u001b[0m\u001b[1;33m(\u001b[0m\u001b[1;33m)\u001b[0m\u001b[1;33m\u001b[0m\u001b[1;33m\u001b[0m\u001b[0m\n\u001b[0m",
      "\u001b[1;32m~\\anaconda3\\lib\\site-packages\\requests\\models.py\u001b[0m in \u001b[0;36mjson\u001b[1;34m(self, **kwargs)\u001b[0m\n\u001b[0;32m    898\u001b[0m                     \u001b[1;31m# used.\u001b[0m\u001b[1;33m\u001b[0m\u001b[1;33m\u001b[0m\u001b[1;33m\u001b[0m\u001b[0m\n\u001b[0;32m    899\u001b[0m                     \u001b[1;32mpass\u001b[0m\u001b[1;33m\u001b[0m\u001b[1;33m\u001b[0m\u001b[0m\n\u001b[1;32m--> 900\u001b[1;33m         \u001b[1;32mreturn\u001b[0m \u001b[0mcomplexjson\u001b[0m\u001b[1;33m.\u001b[0m\u001b[0mloads\u001b[0m\u001b[1;33m(\u001b[0m\u001b[0mself\u001b[0m\u001b[1;33m.\u001b[0m\u001b[0mtext\u001b[0m\u001b[1;33m,\u001b[0m \u001b[1;33m**\u001b[0m\u001b[0mkwargs\u001b[0m\u001b[1;33m)\u001b[0m\u001b[1;33m\u001b[0m\u001b[1;33m\u001b[0m\u001b[0m\n\u001b[0m\u001b[0;32m    901\u001b[0m \u001b[1;33m\u001b[0m\u001b[0m\n\u001b[0;32m    902\u001b[0m     \u001b[1;33m@\u001b[0m\u001b[0mproperty\u001b[0m\u001b[1;33m\u001b[0m\u001b[1;33m\u001b[0m\u001b[0m\n",
      "\u001b[1;32m~\\anaconda3\\lib\\json\\__init__.py\u001b[0m in \u001b[0;36mloads\u001b[1;34m(s, cls, object_hook, parse_float, parse_int, parse_constant, object_pairs_hook, **kw)\u001b[0m\n\u001b[0;32m    355\u001b[0m             \u001b[0mparse_int\u001b[0m \u001b[1;32mis\u001b[0m \u001b[1;32mNone\u001b[0m \u001b[1;32mand\u001b[0m \u001b[0mparse_float\u001b[0m \u001b[1;32mis\u001b[0m \u001b[1;32mNone\u001b[0m \u001b[1;32mand\u001b[0m\u001b[1;33m\u001b[0m\u001b[1;33m\u001b[0m\u001b[0m\n\u001b[0;32m    356\u001b[0m             parse_constant is None and object_pairs_hook is None and not kw):\n\u001b[1;32m--> 357\u001b[1;33m         \u001b[1;32mreturn\u001b[0m \u001b[0m_default_decoder\u001b[0m\u001b[1;33m.\u001b[0m\u001b[0mdecode\u001b[0m\u001b[1;33m(\u001b[0m\u001b[0ms\u001b[0m\u001b[1;33m)\u001b[0m\u001b[1;33m\u001b[0m\u001b[1;33m\u001b[0m\u001b[0m\n\u001b[0m\u001b[0;32m    358\u001b[0m     \u001b[1;32mif\u001b[0m \u001b[0mcls\u001b[0m \u001b[1;32mis\u001b[0m \u001b[1;32mNone\u001b[0m\u001b[1;33m:\u001b[0m\u001b[1;33m\u001b[0m\u001b[1;33m\u001b[0m\u001b[0m\n\u001b[0;32m    359\u001b[0m         \u001b[0mcls\u001b[0m \u001b[1;33m=\u001b[0m \u001b[0mJSONDecoder\u001b[0m\u001b[1;33m\u001b[0m\u001b[1;33m\u001b[0m\u001b[0m\n",
      "\u001b[1;32m~\\anaconda3\\lib\\json\\decoder.py\u001b[0m in \u001b[0;36mdecode\u001b[1;34m(self, s, _w)\u001b[0m\n\u001b[0;32m    335\u001b[0m \u001b[1;33m\u001b[0m\u001b[0m\n\u001b[0;32m    336\u001b[0m         \"\"\"\n\u001b[1;32m--> 337\u001b[1;33m         \u001b[0mobj\u001b[0m\u001b[1;33m,\u001b[0m \u001b[0mend\u001b[0m \u001b[1;33m=\u001b[0m \u001b[0mself\u001b[0m\u001b[1;33m.\u001b[0m\u001b[0mraw_decode\u001b[0m\u001b[1;33m(\u001b[0m\u001b[0ms\u001b[0m\u001b[1;33m,\u001b[0m \u001b[0midx\u001b[0m\u001b[1;33m=\u001b[0m\u001b[0m_w\u001b[0m\u001b[1;33m(\u001b[0m\u001b[0ms\u001b[0m\u001b[1;33m,\u001b[0m \u001b[1;36m0\u001b[0m\u001b[1;33m)\u001b[0m\u001b[1;33m.\u001b[0m\u001b[0mend\u001b[0m\u001b[1;33m(\u001b[0m\u001b[1;33m)\u001b[0m\u001b[1;33m)\u001b[0m\u001b[1;33m\u001b[0m\u001b[1;33m\u001b[0m\u001b[0m\n\u001b[0m\u001b[0;32m    338\u001b[0m         \u001b[0mend\u001b[0m \u001b[1;33m=\u001b[0m \u001b[0m_w\u001b[0m\u001b[1;33m(\u001b[0m\u001b[0ms\u001b[0m\u001b[1;33m,\u001b[0m \u001b[0mend\u001b[0m\u001b[1;33m)\u001b[0m\u001b[1;33m.\u001b[0m\u001b[0mend\u001b[0m\u001b[1;33m(\u001b[0m\u001b[1;33m)\u001b[0m\u001b[1;33m\u001b[0m\u001b[1;33m\u001b[0m\u001b[0m\n\u001b[0;32m    339\u001b[0m         \u001b[1;32mif\u001b[0m \u001b[0mend\u001b[0m \u001b[1;33m!=\u001b[0m \u001b[0mlen\u001b[0m\u001b[1;33m(\u001b[0m\u001b[0ms\u001b[0m\u001b[1;33m)\u001b[0m\u001b[1;33m:\u001b[0m\u001b[1;33m\u001b[0m\u001b[1;33m\u001b[0m\u001b[0m\n",
      "\u001b[1;32m~\\anaconda3\\lib\\json\\decoder.py\u001b[0m in \u001b[0;36mraw_decode\u001b[1;34m(self, s, idx)\u001b[0m\n\u001b[0;32m    353\u001b[0m             \u001b[0mobj\u001b[0m\u001b[1;33m,\u001b[0m \u001b[0mend\u001b[0m \u001b[1;33m=\u001b[0m \u001b[0mself\u001b[0m\u001b[1;33m.\u001b[0m\u001b[0mscan_once\u001b[0m\u001b[1;33m(\u001b[0m\u001b[0ms\u001b[0m\u001b[1;33m,\u001b[0m \u001b[0midx\u001b[0m\u001b[1;33m)\u001b[0m\u001b[1;33m\u001b[0m\u001b[1;33m\u001b[0m\u001b[0m\n\u001b[0;32m    354\u001b[0m         \u001b[1;32mexcept\u001b[0m \u001b[0mStopIteration\u001b[0m \u001b[1;32mas\u001b[0m \u001b[0merr\u001b[0m\u001b[1;33m:\u001b[0m\u001b[1;33m\u001b[0m\u001b[1;33m\u001b[0m\u001b[0m\n\u001b[1;32m--> 355\u001b[1;33m             \u001b[1;32mraise\u001b[0m \u001b[0mJSONDecodeError\u001b[0m\u001b[1;33m(\u001b[0m\u001b[1;34m\"Expecting value\"\u001b[0m\u001b[1;33m,\u001b[0m \u001b[0ms\u001b[0m\u001b[1;33m,\u001b[0m \u001b[0merr\u001b[0m\u001b[1;33m.\u001b[0m\u001b[0mvalue\u001b[0m\u001b[1;33m)\u001b[0m \u001b[1;32mfrom\u001b[0m \u001b[1;32mNone\u001b[0m\u001b[1;33m\u001b[0m\u001b[1;33m\u001b[0m\u001b[0m\n\u001b[0m\u001b[0;32m    356\u001b[0m         \u001b[1;32mreturn\u001b[0m \u001b[0mobj\u001b[0m\u001b[1;33m,\u001b[0m \u001b[0mend\u001b[0m\u001b[1;33m\u001b[0m\u001b[1;33m\u001b[0m\u001b[0m\n",
      "\u001b[1;31mJSONDecodeError\u001b[0m: Expecting value: line 1 column 1 (char 0)"
     ]
    }
   ],
   "source": [
    "median_income.json()"
   ]
  },
  {
   "cell_type": "code",
   "execution_count": 76,
   "id": "8756fc05",
   "metadata": {},
   "outputs": [],
   "source": [
    "median_income_data = pd.read_csv(r'\\Users\\burke\\Downloads/median-household-income-by-state-[updated-august-2023].csv', low_memory=False)"
   ]
  },
  {
   "cell_type": "code",
   "execution_count": 77,
   "id": "f6ac886b",
   "metadata": {},
   "outputs": [
    {
     "name": "stdout",
     "output_type": "stream",
     "text": [
      "                  state  medianHouseholdIncome2021\n",
      "0              Maryland                      90203\n",
      "1  District of Columbia                      90088\n",
      "2         Massachusetts                      89645\n",
      "3            New Jersey                      89296\n",
      "4         New Hampshire                      88465\n"
     ]
    }
   ],
   "source": [
    "print(median_income_data.head())"
   ]
  },
  {
   "cell_type": "code",
   "execution_count": null,
   "id": "b3f12557",
   "metadata": {},
   "outputs": [],
   "source": []
  }
 ],
 "metadata": {
  "kernelspec": {
   "display_name": "Python 3",
   "language": "python",
   "name": "python3"
  },
  "language_info": {
   "codemirror_mode": {
    "name": "ipython",
    "version": 3
   },
   "file_extension": ".py",
   "mimetype": "text/x-python",
   "name": "python",
   "nbconvert_exporter": "python",
   "pygments_lexer": "ipython3",
   "version": "3.8.8"
  }
 },
 "nbformat": 4,
 "nbformat_minor": 5
}
