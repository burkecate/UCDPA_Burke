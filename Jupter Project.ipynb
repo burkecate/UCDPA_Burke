{
 "cells": [
  {
   "cell_type": "markdown",
   "id": "efeaf5f2",
   "metadata": {},
   "source": [
    "## Importing Modules"
   ]
  },
  {
   "cell_type": "code",
   "execution_count": 281,
   "id": "1f70bfe4",
   "metadata": {},
   "outputs": [],
   "source": [
    "import pandas as pd\n",
    "import matplotlib.pyplot as plt\n",
    "import seaborn as sns\n",
    "import pandas as pd\n",
    "import numpy as np\n",
    "import requests\n",
    "import json\n",
    "from bs4 import BeautifulSoup"
   ]
  },
  {
   "cell_type": "markdown",
   "id": "a3bf225b",
   "metadata": {},
   "source": [
    "## Import CMS Benefits_Cost_Sharing_2023"
   ]
  },
  {
   "cell_type": "code",
   "execution_count": 2,
   "id": "6457fac9",
   "metadata": {},
   "outputs": [],
   "source": [
    "cms_data_1 = pd.read_csv(r'\\Users\\burke\\Downloads/Benefits_Cost_Sharing_PUF.csv', low_memory=False)"
   ]
  },
  {
   "cell_type": "markdown",
   "id": "c2b848f8",
   "metadata": {},
   "source": [
    "## Review data for accuracy and completeness"
   ]
  },
  {
   "cell_type": "code",
   "execution_count": 3,
   "id": "38d1b5b4",
   "metadata": {},
   "outputs": [
    {
     "name": "stdout",
     "output_type": "stream",
     "text": [
      "   BusinessYear StateCode  IssuerId SourceName           ImportDate  \\\n",
      "0          2023        AK     21989       HIOS  2022-11-19 01:01:13   \n",
      "1          2023        AK     21989       HIOS  2022-11-19 01:01:13   \n",
      "2          2023        AK     21989       HIOS  2022-11-19 01:01:13   \n",
      "3          2023        AK     21989       HIOS  2022-11-19 01:01:13   \n",
      "4          2023        AK     21989       HIOS  2022-11-19 01:01:13   \n",
      "\n",
      "  StandardComponentId             PlanId                      BenefitName  \\\n",
      "0      21989AK0030001  21989AK0030001-00  Routine Dental Services (Adult)   \n",
      "1      21989AK0030001  21989AK0030001-00     Dental Check-Up for Children   \n",
      "2      21989AK0030001  21989AK0030001-00        Basic Dental Care - Child   \n",
      "3      21989AK0030001  21989AK0030001-00              Orthodontia - Child   \n",
      "4      21989AK0030001  21989AK0030001-00        Major Dental Care - Child   \n",
      "\n",
      "    CopayInnTier1 CopayInnTier2  ... IsEHB IsCovered QuantLimitOnSvc LimitQty  \\\n",
      "0  Not Applicable           NaN  ...   NaN   Covered             Yes   1100.0   \n",
      "1  Not Applicable           NaN  ...   Yes   Covered             NaN      NaN   \n",
      "2  Not Applicable           NaN  ...   Yes   Covered             NaN      NaN   \n",
      "3  Not Applicable           NaN  ...   Yes   Covered             NaN      NaN   \n",
      "4  Not Applicable           NaN  ...   Yes   Covered             NaN      NaN   \n",
      "\n",
      "          LimitUnit Exclusions  \\\n",
      "0  Dollars per Year        NaN   \n",
      "1               NaN        NaN   \n",
      "2               NaN        NaN   \n",
      "3               NaN        NaN   \n",
      "4               NaN        NaN   \n",
      "\n",
      "                                         Explanation         EHBVarReason  \\\n",
      "0  $1,100 annual maximum plan payment limit combi...              Not EHB   \n",
      "1              See policy for additional limitations  Substantially Equal   \n",
      "2                                                NaN                  NaN   \n",
      "3    Only medically necessary orthodontia is covered  Substantially Equal   \n",
      "4                                                NaN                  NaN   \n",
      "\n",
      "  IsExclFromInnMOOP IsExclFromOonMOOP  \n",
      "0               Yes               Yes  \n",
      "1                No                No  \n",
      "2                No                No  \n",
      "3                No                No  \n",
      "4                No                No  \n",
      "\n",
      "[5 rows x 24 columns]\n"
     ]
    }
   ],
   "source": [
    "## Use head to show available columns\n",
    "print(cms_data_1.head())"
   ]
  },
  {
   "cell_type": "code",
   "execution_count": 4,
   "id": "32241407",
   "metadata": {},
   "outputs": [
    {
     "name": "stdout",
     "output_type": "stream",
     "text": [
      "<class 'pandas.core.frame.DataFrame'>\n",
      "RangeIndex: 2219663 entries, 0 to 2219662\n",
      "Data columns (total 24 columns):\n",
      " #   Column               Dtype  \n",
      "---  ------               -----  \n",
      " 0   BusinessYear         int64  \n",
      " 1   StateCode            object \n",
      " 2   IssuerId             int64  \n",
      " 3   SourceName           object \n",
      " 4   ImportDate           object \n",
      " 5   StandardComponentId  object \n",
      " 6   PlanId               object \n",
      " 7   BenefitName          object \n",
      " 8   CopayInnTier1        object \n",
      " 9   CopayInnTier2        object \n",
      " 10  CopayOutofNet        object \n",
      " 11  CoinsInnTier1        object \n",
      " 12  CoinsInnTier2        object \n",
      " 13  CoinsOutofNet        object \n",
      " 14  IsEHB                object \n",
      " 15  IsCovered            object \n",
      " 16  QuantLimitOnSvc      object \n",
      " 17  LimitQty             float64\n",
      " 18  LimitUnit            object \n",
      " 19  Exclusions           object \n",
      " 20  Explanation          object \n",
      " 21  EHBVarReason         object \n",
      " 22  IsExclFromInnMOOP    object \n",
      " 23  IsExclFromOonMOOP    object \n",
      "dtypes: float64(1), int64(2), object(21)\n",
      "memory usage: 406.4+ MB\n",
      "None\n"
     ]
    }
   ],
   "source": [
    "## use info to show concise summary of data\n",
    "print(cms_data_1.info())"
   ]
  },
  {
   "cell_type": "code",
   "execution_count": 5,
   "id": "25392824",
   "metadata": {},
   "outputs": [
    {
     "data": {
      "text/plain": [
       "0"
      ]
     },
     "execution_count": 5,
     "metadata": {},
     "output_type": "execute_result"
    }
   ],
   "source": [
    "## review for duplicate data\n",
    "cms_data_1.duplicated().sum()"
   ]
  },
  {
   "cell_type": "code",
   "execution_count": 6,
   "id": "e82cabc5",
   "metadata": {},
   "outputs": [
    {
     "data": {
      "text/plain": [
       "BusinessYear                 0\n",
       "StateCode                    0\n",
       "IssuerId                     0\n",
       "SourceName                   0\n",
       "ImportDate                   0\n",
       "StandardComponentId          0\n",
       "PlanId                       0\n",
       "BenefitName                  0\n",
       "CopayInnTier1           503349\n",
       "CopayInnTier2          1852011\n",
       "CopayOutofNet           503349\n",
       "CoinsInnTier1           503349\n",
       "CoinsInnTier2          1852011\n",
       "CoinsOutofNet           503349\n",
       "IsEHB                   578607\n",
       "IsCovered               126678\n",
       "QuantLimitOnSvc        1612945\n",
       "LimitQty               1924276\n",
       "LimitUnit              1924243\n",
       "Exclusions             2082783\n",
       "Explanation            1536817\n",
       "EHBVarReason           1674567\n",
       "IsExclFromInnMOOP       390070\n",
       "IsExclFromOonMOOP       389650\n",
       "dtype: int64"
      ]
     },
     "execution_count": 6,
     "metadata": {},
     "output_type": "execute_result"
    }
   ],
   "source": [
    "## check for null values\n",
    "cms_data_1.isnull().sum()"
   ]
  },
  {
   "cell_type": "markdown",
   "id": "01c194f1",
   "metadata": {},
   "source": [
    "## Number of Plans by State"
   ]
  },
  {
   "cell_type": "code",
   "execution_count": 7,
   "id": "c2879cd1",
   "metadata": {},
   "outputs": [],
   "source": [
    "## group the CMS data by State Code to count the number of plans, and reduce to required columns\n",
    "state_plans = cms_data_1.groupby('StateCode')['PlanId'].count()"
   ]
  },
  {
   "cell_type": "code",
   "execution_count": 8,
   "id": "dd94c7b1",
   "metadata": {},
   "outputs": [
    {
     "data": {
      "text/plain": [
       "StateCode\n",
       "AK     4889\n",
       "AL    17699\n",
       "AR    24231\n",
       "AZ    94694\n",
       "DE    10499\n",
       "Name: PlanId, dtype: int64"
      ]
     },
     "execution_count": 8,
     "metadata": {},
     "output_type": "execute_result"
    }
   ],
   "source": [
    "## Review output to ensure as expected\n",
    "state_plans.head()"
   ]
  },
  {
   "cell_type": "code",
   "execution_count": 159,
   "id": "3d80e9c3",
   "metadata": {},
   "outputs": [],
   "source": [
    "## sort the data by the index\n",
    "state_plans_count = state_plans.sort_index()"
   ]
  },
  {
   "cell_type": "code",
   "execution_count": 160,
   "id": "5bd23ff3",
   "metadata": {},
   "outputs": [
    {
     "name": "stdout",
     "output_type": "stream",
     "text": [
      "StateCode\n",
      "AK      4889\n",
      "AL     17699\n",
      "AR     24231\n",
      "AZ     94694\n",
      "DE     10499\n",
      "FL    192265\n",
      "GA    120360\n",
      "HI      6450\n",
      "IA     22778\n",
      "IL    134525\n",
      "IN     33534\n",
      "KS     44864\n",
      "LA     50093\n",
      "MI     83471\n",
      "MO     72841\n",
      "MS     28004\n",
      "MT     34473\n",
      "NC    125053\n",
      "ND     19794\n",
      "NE     57427\n",
      "NH     31185\n",
      "OH    123680\n",
      "OK     65272\n",
      "OR     27975\n",
      "SC     34532\n",
      "SD     21324\n",
      "TN    104628\n",
      "TX    334446\n",
      "UT     35324\n",
      "VA     52481\n",
      "WI    192362\n",
      "WV      9114\n",
      "WY      9396\n",
      "Name: PlanId, dtype: int64\n"
     ]
    }
   ],
   "source": [
    "## print the full dataset to review\n",
    "print(state_plans_count)"
   ]
  },
  {
   "cell_type": "code",
   "execution_count": 13,
   "id": "83928152",
   "metadata": {},
   "outputs": [
    {
     "data": {
      "text/plain": [
       "<AxesSubplot:xlabel='StateCode'>"
      ]
     },
     "execution_count": 13,
     "metadata": {},
     "output_type": "execute_result"
    },
    {
     "data": {
      "image/png": "[encoded data removed]",
      "text/plain": [
       "<Figure size 432x288 with 1 Axes>"
      ]
     },
     "metadata": {
      "needs_background": "light"
     },
     "output_type": "display_data"
    }
   ],
   "source": [
    "## plot the data on a barchart \n",
    "state_plans_count.plot(kind = 'bar')"
   ]
  },
  {
   "cell_type": "code",
   "execution_count": 316,
   "id": "bf7aa233",
   "metadata": {},
   "outputs": [
    {
     "data": {
      "image/png": "[encoded data removed]",
      "text/plain": [
       "<Figure size 1080x1080 with 1 Axes>"
      ]
     },
     "metadata": {},
     "output_type": "display_data"
    }
   ],
   "source": [
    "# data is in a Series named 'state_plans_count'\n",
    "data = {\n",
    "    'StateCode': state_plans_count.index,\n",
    "    'Count': state_plans_count.values\n",
    "}\n",
    "\n",
    "# Convert the data to a DataFrame\n",
    "state_plans_df = pd.DataFrame(data)\n",
    "\n",
    "# Sort the DataFrame in descending order based on the 'Count' column\n",
    "sorted_state_plans_df = state_plans_df.sort_values(by='Count', ascending=False)\n",
    "\n",
    "# Create the horizontal bar chart, change colour to corporate colour\n",
    "ax = sorted_state_plans_df.plot(kind='barh', x='StateCode', y='Count', color='orange')\n",
    "ax.set_title(\"# of Plans by State (Descending Order)\")\n",
    "ax.set_xlabel(\"# of Plans\")\n",
    "ax.set_ylabel(\"State\")\n",
    "for p in ax.patches:\n",
    "    ax.annotate(str(p.get_width()), \n",
    "                (p.get_width(), p.get_y() + p.get_height() / 2.), \n",
    "                va='center', fontsize=10, color='black')\n",
    "\n",
    "plt.show()"
   ]
  },
  {
   "cell_type": "code",
   "execution_count": 15,
   "id": "2c10cdcb",
   "metadata": {},
   "outputs": [
    {
     "data": {
      "text/plain": [
       "2219663"
      ]
     },
     "execution_count": 15,
     "metadata": {},
     "output_type": "execute_result"
    }
   ],
   "source": [
    "## Determine the total number of Health Plans in the data set\n",
    "state_plans_count.sum()"
   ]
  },
  {
   "cell_type": "code",
   "execution_count": 16,
   "id": "56bcd707",
   "metadata": {},
   "outputs": [
    {
     "data": {
      "text/plain": [
       "334446"
      ]
     },
     "execution_count": 16,
     "metadata": {},
     "output_type": "execute_result"
    }
   ],
   "source": [
    "## Determine the highest number of plans in an individual State\n",
    "state_plans_count.max()"
   ]
  },
  {
   "cell_type": "code",
   "execution_count": 17,
   "id": "a3d3ad13",
   "metadata": {},
   "outputs": [
    {
     "data": {
      "text/plain": [
       "4889"
      ]
     },
     "execution_count": 17,
     "metadata": {},
     "output_type": "execute_result"
    }
   ],
   "source": [
    "## Determine the lowest number of plans in an individual State\n",
    "state_plans_count.min()"
   ]
  },
  {
   "cell_type": "code",
   "execution_count": 18,
   "id": "d32e5752",
   "metadata": {},
   "outputs": [],
   "source": [
    "## Drop columns to reduce the dataset\n",
    "cms_state_plans_data_condensed = cms_data_1.drop(['BusinessYear', 'IssuerId', 'SourceName', 'ImportDate', 'StandardComponentId'], axis = 1)"
   ]
  },
  {
   "cell_type": "code",
   "execution_count": 94,
   "id": "d45b5646",
   "metadata": {},
   "outputs": [
    {
     "name": "stdout",
     "output_type": "stream",
     "text": [
      "  StateCode             PlanId                      BenefitName  \\\n",
      "0        AK  21989AK0030001-00  Routine Dental Services (Adult)   \n",
      "1        AK  21989AK0030001-00     Dental Check-Up for Children   \n",
      "2        AK  21989AK0030001-00        Basic Dental Care - Child   \n",
      "3        AK  21989AK0030001-00              Orthodontia - Child   \n",
      "4        AK  21989AK0030001-00        Major Dental Care - Child   \n",
      "\n",
      "    CopayInnTier1 CopayInnTier2   CopayOutofNet CoinsInnTier1 CoinsInnTier2  \\\n",
      "0  Not Applicable           NaN  Not Applicable        20.00%           NaN   \n",
      "1  Not Applicable           NaN  Not Applicable        30.00%           NaN   \n",
      "2  Not Applicable           NaN  Not Applicable        70.00%           NaN   \n",
      "3  Not Applicable           NaN  Not Applicable        70.00%           NaN   \n",
      "4  Not Applicable           NaN  Not Applicable        70.00%           NaN   \n",
      "\n",
      "  CoinsOutofNet IsEHB IsCovered QuantLimitOnSvc  LimitQty         LimitUnit  \\\n",
      "0        20.00%   NaN   Covered             Yes    1100.0  Dollars per Year   \n",
      "1        30.00%   Yes   Covered             NaN       NaN               NaN   \n",
      "2        70.00%   Yes   Covered             NaN       NaN               NaN   \n",
      "3        70.00%   Yes   Covered             NaN       NaN               NaN   \n",
      "4        70.00%   Yes   Covered             NaN       NaN               NaN   \n",
      "\n",
      "  Exclusions                                        Explanation  \\\n",
      "0        NaN  $1,100 annual maximum plan payment limit combi...   \n",
      "1        NaN              See policy for additional limitations   \n",
      "2        NaN                                                NaN   \n",
      "3        NaN    Only medically necessary orthodontia is covered   \n",
      "4        NaN                                                NaN   \n",
      "\n",
      "          EHBVarReason IsExclFromInnMOOP IsExclFromOonMOOP  \n",
      "0              Not EHB               Yes               Yes  \n",
      "1  Substantially Equal                No                No  \n",
      "2                  NaN                No                No  \n",
      "3  Substantially Equal                No                No  \n",
      "4                  NaN                No                No  \n"
     ]
    }
   ],
   "source": [
    "## Print to review remaining columns\n",
    "print(cms_state_plans_data_condensed.head())"
   ]
  },
  {
   "cell_type": "code",
   "execution_count": 165,
   "id": "8235d077",
   "metadata": {},
   "outputs": [],
   "source": [
    "## Group data by State and then by Benefit type\n",
    "cms_plans_state_benefit = cms_state_plans_data_condensed.groupby(['StateCode', 'BenefitName'])"
   ]
  },
  {
   "cell_type": "code",
   "execution_count": 166,
   "id": "9648abea",
   "metadata": {},
   "outputs": [
    {
     "name": "stdout",
     "output_type": "stream",
     "text": [
      "        StateCode             PlanId                      BenefitName  \\\n",
      "0              AK  21989AK0030001-00  Routine Dental Services (Adult)   \n",
      "1              AK  21989AK0030001-00     Dental Check-Up for Children   \n",
      "2              AK  21989AK0030001-00        Basic Dental Care - Child   \n",
      "3              AK  21989AK0030001-00              Orthodontia - Child   \n",
      "4              AK  21989AK0030001-00        Major Dental Care - Child   \n",
      "...           ...                ...                              ...   \n",
      "2168289        WI  37833WI0380193-03                    Virtual Visit   \n",
      "2168361        WI  37833WI0380193-00                    Virtual Visit   \n",
      "2168426        WI  37833WI0380194-02                    Virtual Visit   \n",
      "2168506        WI  37833WI0380193-01                    Virtual Visit   \n",
      "2168575        WI  37833WI0380195-00                    Virtual Visit   \n",
      "\n",
      "          CopayInnTier1 CopayInnTier2   CopayOutofNet   CoinsInnTier1  \\\n",
      "0        Not Applicable           NaN  Not Applicable          20.00%   \n",
      "1        Not Applicable           NaN  Not Applicable          30.00%   \n",
      "2        Not Applicable           NaN  Not Applicable          70.00%   \n",
      "3        Not Applicable           NaN  Not Applicable          70.00%   \n",
      "4        Not Applicable           NaN  Not Applicable          70.00%   \n",
      "...                 ...           ...             ...             ...   \n",
      "2168289           $0.00           NaN  Not Applicable  Not Applicable   \n",
      "2168361           $0.00           NaN  Not Applicable  Not Applicable   \n",
      "2168426           $0.00           NaN  Not Applicable           0.00%   \n",
      "2168506           $0.00           NaN  Not Applicable  Not Applicable   \n",
      "2168575           $0.00           NaN  Not Applicable  Not Applicable   \n",
      "\n",
      "        CoinsInnTier2 CoinsOutofNet IsEHB IsCovered QuantLimitOnSvc  LimitQty  \\\n",
      "0                 NaN        20.00%   NaN   Covered             Yes    1100.0   \n",
      "1                 NaN        30.00%   Yes   Covered             NaN       NaN   \n",
      "2                 NaN        70.00%   Yes   Covered             NaN       NaN   \n",
      "3                 NaN        70.00%   Yes   Covered             NaN       NaN   \n",
      "4                 NaN        70.00%   Yes   Covered             NaN       NaN   \n",
      "...               ...           ...   ...       ...             ...       ...   \n",
      "2168289           NaN       100.00%   NaN   Covered             NaN       NaN   \n",
      "2168361           NaN       100.00%   NaN   Covered             NaN       NaN   \n",
      "2168426           NaN       100.00%   NaN   Covered             NaN       NaN   \n",
      "2168506           NaN       100.00%   NaN   Covered             NaN       NaN   \n",
      "2168575           NaN       100.00%   NaN   Covered             NaN       NaN   \n",
      "\n",
      "                LimitUnit Exclusions  \\\n",
      "0        Dollars per Year        NaN   \n",
      "1                     NaN        NaN   \n",
      "2                     NaN        NaN   \n",
      "3                     NaN        NaN   \n",
      "4                     NaN        NaN   \n",
      "...                   ...        ...   \n",
      "2168289               NaN        NaN   \n",
      "2168361               NaN        NaN   \n",
      "2168426               NaN        NaN   \n",
      "2168506               NaN        NaN   \n",
      "2168575               NaN        NaN   \n",
      "\n",
      "                                               Explanation  \\\n",
      "0        $1,100 annual maximum plan payment limit combi...   \n",
      "1                    See policy for additional limitations   \n",
      "2                                                      NaN   \n",
      "3          Only medically necessary orthodontia is covered   \n",
      "4                                                      NaN   \n",
      "...                                                    ...   \n",
      "2168289                                                NaN   \n",
      "2168361                                                NaN   \n",
      "2168426                                                NaN   \n",
      "2168506                                                NaN   \n",
      "2168575                                                NaN   \n",
      "\n",
      "                   EHBVarReason IsExclFromInnMOOP IsExclFromOonMOOP  \n",
      "0                       Not EHB               Yes               Yes  \n",
      "1           Substantially Equal                No                No  \n",
      "2                           NaN                No                No  \n",
      "3           Substantially Equal                No                No  \n",
      "4                           NaN                No                No  \n",
      "...                         ...               ...               ...  \n",
      "2168289  Additional EHB Benefit                No               Yes  \n",
      "2168361  Additional EHB Benefit                No               Yes  \n",
      "2168426  Additional EHB Benefit                No               Yes  \n",
      "2168506  Additional EHB Benefit                No               Yes  \n",
      "2168575  Additional EHB Benefit                No               Yes  \n",
      "\n",
      "[15030 rows x 19 columns]\n"
     ]
    }
   ],
   "source": [
    "## Review data\n",
    "print(cms_plans_state_benefit.head())"
   ]
  },
  {
   "cell_type": "code",
   "execution_count": 170,
   "id": "757da688",
   "metadata": {},
   "outputs": [],
   "source": [
    "## Determine most common benefit by State\n",
    "most_common_benefit = cms_plans_state_benefit['BenefitName'].agg(lambda x: x.mode().iloc[0])"
   ]
  },
  {
   "cell_type": "code",
   "execution_count": 171,
   "id": "264d57b9",
   "metadata": {},
   "outputs": [
    {
     "name": "stdout",
     "output_type": "stream",
     "text": [
      "StateCode  BenefitName                                    \n",
      "AK         Abortion for Which Public Funding is Prohibited    Abortion for Which Public Funding is Prohibited\n",
      "           Accidental Dental                                                                Accidental Dental\n",
      "           Acupuncture                                                                            Acupuncture\n",
      "           Allergy Testing                                                                    Allergy Testing\n",
      "           Bariatric Surgery                                                                Bariatric Surgery\n",
      "                                                                                   ...                       \n",
      "WY         Treatment for Temporomandibular Joint Disorders    Treatment for Temporomandibular Joint Disorders\n",
      "           Urgent Care Centers or Facilities                                Urgent Care Centers or Facilities\n",
      "           Weight Loss Programs                                                          Weight Loss Programs\n",
      "           Well Baby Visits and Care                                                Well Baby Visits and Care\n",
      "           X-rays and Diagnostic Imaging                                        X-rays and Diagnostic Imaging\n",
      "Name: BenefitName, Length: 3096, dtype: object\n"
     ]
    }
   ],
   "source": [
    "## Review most common benefit by State\n",
    "print(most_common_benefit)"
   ]
  },
  {
   "cell_type": "code",
   "execution_count": 172,
   "id": "df6eeaf4",
   "metadata": {},
   "outputs": [
    {
     "name": "stdout",
     "output_type": "stream",
     "text": [
      "BenefitName\n",
      "Abortion for Which Public Funding is Prohibited    Abortion for Which Public Funding is Prohibited\n",
      "Accidental Dental                                                                Accidental Dental\n",
      "Accidental Dental - Child                                                Accidental Dental - Child\n",
      "Accidental Dental Adult                                                    Accidental Dental Adult\n",
      "Active & Fit                                                                          Active & Fit\n",
      "                                                                        ...                       \n",
      "Well Baby Visits and Care                                                Well Baby Visits and Care\n",
      "Well Child Care                                                                    Well Child Care\n",
      "Well Child Care\\t                                                                Well Child Care\\t\n",
      "Wigs                                                                                          Wigs\n",
      "X-rays and Diagnostic Imaging                                        X-rays and Diagnostic Imaging\n",
      "Name: BenefitName, Length: 289, dtype: object\n"
     ]
    }
   ],
   "source": [
    "## Group data by Benefit type and determine most common overall benefit\n",
    "cms_plans_benefit = cms_state_plans_data_condensed.groupby(['BenefitName'])\n",
    "most_common_benefit_overall = cms_plans_benefit['BenefitName'].agg(lambda x: x.mode().iloc[0])\n",
    "print(most_common_benefit_overall)"
   ]
  },
  {
   "cell_type": "code",
   "execution_count": 175,
   "id": "91f08d8d",
   "metadata": {},
   "outputs": [
    {
     "data": {
      "text/html": [
       "<div>\n",
       "<style scoped>\n",
       "    .dataframe tbody tr th:only-of-type {\n",
       "        vertical-align: middle;\n",
       "    }\n",
       "\n",
       "    .dataframe tbody tr th {\n",
       "        vertical-align: top;\n",
       "    }\n",
       "\n",
       "    .dataframe thead th {\n",
       "        text-align: right;\n",
       "    }\n",
       "</style>\n",
       "<table border=\"1\" class=\"dataframe\">\n",
       "  <thead>\n",
       "    <tr style=\"text-align: right;\">\n",
       "      <th></th>\n",
       "      <th></th>\n",
       "      <th>BenefitName</th>\n",
       "    </tr>\n",
       "    <tr>\n",
       "      <th>BenefitName</th>\n",
       "      <th>BenefitName</th>\n",
       "      <th></th>\n",
       "    </tr>\n",
       "  </thead>\n",
       "  <tbody>\n",
       "    <tr>\n",
       "      <th>Abortion for Which Public Funding is Prohibited</th>\n",
       "      <th>Abortion for Which Public Funding is Prohibited</th>\n",
       "      <td>30944</td>\n",
       "    </tr>\n",
       "    <tr>\n",
       "      <th>Accidental Dental</th>\n",
       "      <th>Accidental Dental</th>\n",
       "      <td>32528</td>\n",
       "    </tr>\n",
       "    <tr>\n",
       "      <th>Accidental Dental - Child</th>\n",
       "      <th>Accidental Dental - Child</th>\n",
       "      <td>7</td>\n",
       "    </tr>\n",
       "    <tr>\n",
       "      <th>Accidental Dental Adult</th>\n",
       "      <th>Accidental Dental Adult</th>\n",
       "      <td>2</td>\n",
       "    </tr>\n",
       "    <tr>\n",
       "      <th>Active &amp; Fit</th>\n",
       "      <th>Active &amp; Fit</th>\n",
       "      <td>57</td>\n",
       "    </tr>\n",
       "    <tr>\n",
       "      <th>...</th>\n",
       "      <th>...</th>\n",
       "      <td>...</td>\n",
       "    </tr>\n",
       "    <tr>\n",
       "      <th>Well Baby Visits and Care</th>\n",
       "      <th>Well Baby Visits and Care</th>\n",
       "      <td>30944</td>\n",
       "    </tr>\n",
       "    <tr>\n",
       "      <th>Well Child Care</th>\n",
       "      <th>Well Child Care</th>\n",
       "      <td>961</td>\n",
       "    </tr>\n",
       "    <tr>\n",
       "      <th>Well Child Care\\t</th>\n",
       "      <th>Well Child Care\\t</th>\n",
       "      <td>67</td>\n",
       "    </tr>\n",
       "    <tr>\n",
       "      <th>Wigs</th>\n",
       "      <th>Wigs</th>\n",
       "      <td>281</td>\n",
       "    </tr>\n",
       "    <tr>\n",
       "      <th>X-rays and Diagnostic Imaging</th>\n",
       "      <th>X-rays and Diagnostic Imaging</th>\n",
       "      <td>30944</td>\n",
       "    </tr>\n",
       "  </tbody>\n",
       "</table>\n",
       "<p>289 rows × 1 columns</p>\n",
       "</div>"
      ],
      "text/plain": [
       "                                                                                                 BenefitName\n",
       "BenefitName                                     BenefitName                                                 \n",
       "Abortion for Which Public Funding is Prohibited Abortion for Which Public Funding is Prohibited        30944\n",
       "Accidental Dental                               Accidental Dental                                      32528\n",
       "Accidental Dental - Child                       Accidental Dental - Child                                  7\n",
       "Accidental Dental Adult                         Accidental Dental Adult                                    2\n",
       "Active & Fit                                    Active & Fit                                              57\n",
       "...                                                                                                      ...\n",
       "Well Baby Visits and Care                       Well Baby Visits and Care                              30944\n",
       "Well Child Care                                 Well Child Care                                          961\n",
       "Well Child Care\\t                               Well Child Care\\t                                         67\n",
       "Wigs                                            Wigs                                                     281\n",
       "X-rays and Diagnostic Imaging                   X-rays and Diagnostic Imaging                          30944\n",
       "\n",
       "[289 rows x 1 columns]"
      ]
     },
     "execution_count": 175,
     "metadata": {},
     "output_type": "execute_result"
    }
   ],
   "source": [
    "## Use value counts\n",
    "cms_plans_benefit['BenefitName'].value_counts().to_frame()"
   ]
  },
  {
   "cell_type": "code",
   "execution_count": 176,
   "id": "16d142c8",
   "metadata": {},
   "outputs": [
    {
     "data": {
      "text/plain": [
       "('Accidental Dental', 'Accidental Dental')"
      ]
     },
     "execution_count": 176,
     "metadata": {},
     "output_type": "execute_result"
    }
   ],
   "source": [
    "## Determine most common Benefit Name using \n",
    "cms_plans_benefit['BenefitName'].value_counts().idxmax()"
   ]
  },
  {
   "cell_type": "code",
   "execution_count": 312,
   "id": "929dccfb",
   "metadata": {},
   "outputs": [
    {
     "name": "stdout",
     "output_type": "stream",
     "text": [
      "Paragraph 3: Fact Checked\n",
      "Paragraph 4: Updated: Aug 23, 2023, 3:01am\n",
      "Paragraph 5: Going to the dentist isn’t just uncomfortable. It’s getting costlier.\n",
      "Paragraph 6: Between 1996 and 2015, the cost of dental care for a single person rose 23% when adjusted for inflation, according to the Agency for Healthcare Research and Quality report. Inflation has led to even higher dental costs over the past year. The U.S. Bureau of Labor Statistics consumer price index says dental costs increased by 5.4% between October 2021 and October 2022.\n"
     ]
    }
   ],
   "source": [
    "## Import data from article online relating to dental benefit costs\n",
    "url = 'https://www.forbes.com/advisor/health-insurance/dental-insurance/dental-work-cost/'\n",
    "response = requests.get(url)\n",
    "html_doc = response.text\n",
    "soup = BeautifulSoup(html_doc, 'html.parser')\n",
    "\n",
    "# Extract and print the text from paragraphs 3 to 6\n",
    "paragraphs = soup.find_all('p')\n",
    "for i, paragraph in enumerate(paragraphs[2:6], start=3):  # Limit to paragraphs 3 to 6\n",
    "    print(f\"Paragraph {i}: {paragraph.get_text()}\")"
   ]
  },
  {
   "cell_type": "markdown",
   "id": "69061f2e",
   "metadata": {},
   "source": [
    "# Import Rates PUF"
   ]
  },
  {
   "cell_type": "code",
   "execution_count": 20,
   "id": "7649cd83",
   "metadata": {},
   "outputs": [],
   "source": [
    "## Import CMS Rates Public Use File\n",
    "cms_rate_data = pd.read_csv(r'\\Users\\burke\\Downloads/Rate_PUF.csv', low_memory=False)"
   ]
  },
  {
   "cell_type": "code",
   "execution_count": 21,
   "id": "7f04a77d",
   "metadata": {},
   "outputs": [
    {
     "name": "stdout",
     "output_type": "stream",
     "text": [
      "   BusinessYear StateCode  IssuerId SourceName           ImportDate  \\\n",
      "0          2023        AK     21989       HIOS  2022-11-19 01:01:13   \n",
      "1          2023        AK     21989       HIOS  2022-11-19 01:01:13   \n",
      "2          2023        AK     21989       HIOS  2022-11-19 01:01:13   \n",
      "3          2023        AK     21989       HIOS  2022-11-19 01:01:13   \n",
      "4          2023        AK     21989       HIOS  2022-11-19 01:01:13   \n",
      "\n",
      "  RateEffectiveDate RateExpirationDate          PlanId   RatingAreaId Tobacco  \\\n",
      "0        2023-10-01         2023-12-31  21989AK0110001  Rating Area 1     NaN   \n",
      "1        2023-01-01         2023-03-31  21989AK0110001  Rating Area 1     NaN   \n",
      "2        2023-04-01         2023-06-30  21989AK0110001  Rating Area 1     NaN   \n",
      "3        2023-07-01         2023-09-30  21989AK0110001  Rating Area 1     NaN   \n",
      "4        2023-07-01         2023-09-30  21989AK0110001  Rating Area 2     NaN   \n",
      "\n",
      "             Age  IndividualRate  IndividualTobaccoRate  Couple  \\\n",
      "0  Family Option           76.59                    NaN  159.30   \n",
      "1  Family Option           73.82                    NaN  153.54   \n",
      "2  Family Option           74.74                    NaN  155.46   \n",
      "3  Family Option           75.66                    NaN  157.38   \n",
      "4  Family Option           71.88                    NaN  149.51   \n",
      "\n",
      "   PrimarySubscriberAndOneDependent  PrimarySubscriberAndTwoDependents  \\\n",
      "0                            183.81                             183.81   \n",
      "1                            177.16                             177.16   \n",
      "2                            179.38                             179.38   \n",
      "3                            181.59                             181.59   \n",
      "4                            172.51                             172.51   \n",
      "\n",
      "   PrimarySubscriberAndThreeOrMoreDependents  CoupleAndOneDependent  \\\n",
      "0                                     183.81                 274.18   \n",
      "1                                     177.16                 264.27   \n",
      "2                                     179.38                 267.57   \n",
      "3                                     181.59                 270.87   \n",
      "4                                     172.51                 257.33   \n",
      "\n",
      "   CoupleAndTwoDependents  CoupleAndThreeOrMoreDependents  \n",
      "0                  274.18                          274.18  \n",
      "1                  264.27                          264.27  \n",
      "2                  267.57                          267.57  \n",
      "3                  270.87                          270.87  \n",
      "4                  257.33                          257.33  \n"
     ]
    }
   ],
   "source": [
    "## Review data - print to determine available columns\n",
    "print(cms_rate_data.head())"
   ]
  },
  {
   "cell_type": "code",
   "execution_count": 22,
   "id": "bc4a7b10",
   "metadata": {},
   "outputs": [
    {
     "name": "stdout",
     "output_type": "stream",
     "text": [
      "<class 'pandas.core.frame.DataFrame'>\n",
      "RangeIndex: 2752441 entries, 0 to 2752440\n",
      "Data columns (total 20 columns):\n",
      " #   Column                                     Dtype  \n",
      "---  ------                                     -----  \n",
      " 0   BusinessYear                               int64  \n",
      " 1   StateCode                                  object \n",
      " 2   IssuerId                                   int64  \n",
      " 3   SourceName                                 object \n",
      " 4   ImportDate                                 object \n",
      " 5   RateEffectiveDate                          object \n",
      " 6   RateExpirationDate                         object \n",
      " 7   PlanId                                     object \n",
      " 8   RatingAreaId                               object \n",
      " 9   Tobacco                                    object \n",
      " 10  Age                                        object \n",
      " 11  IndividualRate                             float64\n",
      " 12  IndividualTobaccoRate                      float64\n",
      " 13  Couple                                     float64\n",
      " 14  PrimarySubscriberAndOneDependent           float64\n",
      " 15  PrimarySubscriberAndTwoDependents          float64\n",
      " 16  PrimarySubscriberAndThreeOrMoreDependents  float64\n",
      " 17  CoupleAndOneDependent                      float64\n",
      " 18  CoupleAndTwoDependents                     float64\n",
      " 19  CoupleAndThreeOrMoreDependents             float64\n",
      "dtypes: float64(9), int64(2), object(9)\n",
      "memory usage: 420.0+ MB\n",
      "None\n"
     ]
    }
   ],
   "source": [
    "## use info to reivew data\n",
    "print(cms_rate_data.info())"
   ]
  },
  {
   "cell_type": "code",
   "execution_count": 23,
   "id": "e9fd9228",
   "metadata": {},
   "outputs": [
    {
     "data": {
      "text/plain": [
       "0"
      ]
     },
     "execution_count": 23,
     "metadata": {},
     "output_type": "execute_result"
    }
   ],
   "source": [
    "## check for duplicates\n",
    "cms_rate_data.duplicated().sum()"
   ]
  },
  {
   "cell_type": "code",
   "execution_count": 24,
   "id": "54d6bb41",
   "metadata": {},
   "outputs": [
    {
     "data": {
      "text/plain": [
       "BusinessYear                                       0\n",
       "StateCode                                          0\n",
       "IssuerId                                           0\n",
       "SourceName                                         0\n",
       "ImportDate                                         0\n",
       "RateEffectiveDate                                  0\n",
       "RateExpirationDate                                 0\n",
       "PlanId                                             0\n",
       "RatingAreaId                                       0\n",
       "Tobacco                                          991\n",
       "Age                                                0\n",
       "IndividualRate                                     0\n",
       "IndividualTobaccoRate                        1317760\n",
       "Couple                                       2751450\n",
       "PrimarySubscriberAndOneDependent             2751450\n",
       "PrimarySubscriberAndTwoDependents            2751450\n",
       "PrimarySubscriberAndThreeOrMoreDependents    2751450\n",
       "CoupleAndOneDependent                        2751450\n",
       "CoupleAndTwoDependents                       2751450\n",
       "CoupleAndThreeOrMoreDependents               2751450\n",
       "dtype: int64"
      ]
     },
     "execution_count": 24,
     "metadata": {},
     "output_type": "execute_result"
    }
   ],
   "source": [
    "## check for null values\n",
    "cms_rate_data.isnull().sum()"
   ]
  },
  {
   "cell_type": "code",
   "execution_count": 25,
   "id": "ead4c1d5",
   "metadata": {},
   "outputs": [],
   "source": [
    "## Convert rate data to list\n",
    "cms_rate_data_list = cms_rate_data['StateCode'].tolist()"
   ]
  },
  {
   "cell_type": "code",
   "execution_count": 26,
   "id": "395f8e65",
   "metadata": {},
   "outputs": [],
   "source": [
    "## Condense data to columns required\n",
    "cms_rate_data_condensed = cms_rate_data.drop(['BusinessYear', 'IssuerId', 'SourceName', 'ImportDate', 'RateEffectiveDate', 'RateExpirationDate', 'RatingAreaId'], axis = 1)"
   ]
  },
  {
   "cell_type": "code",
   "execution_count": 27,
   "id": "1ce17a3a",
   "metadata": {},
   "outputs": [
    {
     "name": "stdout",
     "output_type": "stream",
     "text": [
      "  StateCode          PlanId Tobacco            Age  IndividualRate  \\\n",
      "0        AK  21989AK0110001     NaN  Family Option           76.59   \n",
      "1        AK  21989AK0110001     NaN  Family Option           73.82   \n",
      "2        AK  21989AK0110001     NaN  Family Option           74.74   \n",
      "3        AK  21989AK0110001     NaN  Family Option           75.66   \n",
      "4        AK  21989AK0110001     NaN  Family Option           71.88   \n",
      "\n",
      "   IndividualTobaccoRate  Couple  PrimarySubscriberAndOneDependent  \\\n",
      "0                    NaN  159.30                            183.81   \n",
      "1                    NaN  153.54                            177.16   \n",
      "2                    NaN  155.46                            179.38   \n",
      "3                    NaN  157.38                            181.59   \n",
      "4                    NaN  149.51                            172.51   \n",
      "\n",
      "   PrimarySubscriberAndTwoDependents  \\\n",
      "0                             183.81   \n",
      "1                             177.16   \n",
      "2                             179.38   \n",
      "3                             181.59   \n",
      "4                             172.51   \n",
      "\n",
      "   PrimarySubscriberAndThreeOrMoreDependents  CoupleAndOneDependent  \\\n",
      "0                                     183.81                 274.18   \n",
      "1                                     177.16                 264.27   \n",
      "2                                     179.38                 267.57   \n",
      "3                                     181.59                 270.87   \n",
      "4                                     172.51                 257.33   \n",
      "\n",
      "   CoupleAndTwoDependents  CoupleAndThreeOrMoreDependents  \n",
      "0                  274.18                          274.18  \n",
      "1                  264.27                          264.27  \n",
      "2                  267.57                          267.57  \n",
      "3                  270.87                          270.87  \n",
      "4                  257.33                          257.33  \n"
     ]
    }
   ],
   "source": [
    "## Review column drop\n",
    "print(cms_rate_data_condensed.head())"
   ]
  },
  {
   "cell_type": "code",
   "execution_count": 285,
   "id": "caf2edf5",
   "metadata": {},
   "outputs": [
    {
     "name": "stdout",
     "output_type": "stream",
     "text": [
      "Mean Table:\n",
      "                                      Column        Mean\n",
      "0                             IndividualRate  449.423672\n",
      "1                      IndividualTobaccoRate  718.372729\n",
      "2                                     Couple   65.560555\n",
      "3           PrimarySubscriberAndOneDependent   78.017982\n",
      "4          PrimarySubscriberAndTwoDependents   92.397518\n",
      "5  PrimarySubscriberAndThreeOrMoreDependents   92.584097\n",
      "6                      CoupleAndOneDependent  120.917064\n",
      "7                     CoupleAndTwoDependents  121.097588\n",
      "8             CoupleAndThreeOrMoreDependents  121.274077\n"
     ]
    }
   ],
   "source": [
    "## Calculate the mean per column\n",
    "columns_to_analyze = ['IndividualRate', 'IndividualTobaccoRate', 'Couple', 'PrimarySubscriberAndOneDependent',\n",
    "                      'PrimarySubscriberAndTwoDependents', 'PrimarySubscriberAndThreeOrMoreDependents',\n",
    "                      'CoupleAndOneDependent', 'CoupleAndTwoDependents', 'CoupleAndThreeOrMoreDependents']\n",
    "data_array = cms_rate_data_condensed[columns_to_analyze].to_numpy()\n",
    "column_means = np.nanmean(data_array, axis=0)\n",
    "mean_table = pd.DataFrame({'Column': columns_to_analyze, 'Mean': column_means})\n",
    "print(\"Mean Table:\")\n",
    "print(mean_table)"
   ]
  },
  {
   "cell_type": "code",
   "execution_count": 284,
   "id": "8c4924d5",
   "metadata": {},
   "outputs": [
    {
     "name": "stdout",
     "output_type": "stream",
     "text": [
      "\n",
      "Most Common Rate Table:\n",
      "                                      Column  Most_Common_Rate\n",
      "0                             IndividualRate              0.00\n",
      "1                      IndividualTobaccoRate            507.21\n",
      "2                                     Couple             71.76\n",
      "3           PrimarySubscriberAndOneDependent             36.19\n",
      "4          PrimarySubscriberAndTwoDependents             36.19\n",
      "5  PrimarySubscriberAndThreeOrMoreDependents             36.19\n",
      "6                      CoupleAndOneDependent             51.99\n",
      "7                     CoupleAndTwoDependents             51.99\n",
      "8             CoupleAndThreeOrMoreDependents             51.99\n"
     ]
    }
   ],
   "source": [
    "# Calculate the most common rate for each column\n",
    "most_common_rates = []\n",
    "for column_index in range(data_array.shape[1]):\n",
    "    column = data_array[:, column_index]\n",
    "    unique_values, counts = np.unique(column, return_counts=True)\n",
    "    most_common_rate = unique_values[np.argmax(counts)]\n",
    "    most_common_rates.append(most_common_rate)\n",
    "common_rate_table = pd.DataFrame({'Column': columns_to_analyze, 'Most_Common_Rate': most_common_rates})\n",
    "print(\"\\nMost Common Rate Table:\")\n",
    "print(common_rate_table)"
   ]
  },
  {
   "cell_type": "code",
   "execution_count": 302,
   "id": "7c007818",
   "metadata": {},
   "outputs": [
    {
     "data": {
      "image/png": "[encoded data removed]",
      "text/plain": [
       "<Figure size 720x432 with 2 Axes>"
      ]
     },
     "metadata": {},
     "output_type": "display_data"
    }
   ],
   "source": [
    "## Plot a graph of the two tables against each other mean vs most common rate\n",
    "fig, ax1 = plt.subplots(figsize=(10, 6))\n",
    "\n",
    "ax1.bar(mean_table['Column'], mean_table['Mean'], color='blue', label='Mean')\n",
    "ax1.set_xlabel('Columns')\n",
    "ax1.set_ylabel('Mean')\n",
    "ax1.tick_params(axis='y', labelcolor='blue')\n",
    "ax1.legend(loc='upper left')\n",
    "\n",
    "ax2 = ax1.twinx()\n",
    "ax2.plot(common_rate_table['Column'], common_rate_table['Most_Common_Rate'], color='red', marker='o', label='Common Rate')\n",
    "ax2.set_ylabel('Most Common Rate')\n",
    "ax2.tick_params(axis='y', labelcolor='red')\n",
    "ax2.legend(loc='upper right')\n",
    "\n",
    "# Rename x-axis labels and rotate by 90 degrees\n",
    "custom_labels = ['Ind', 'Ind Smoker', 'Couple', 'Ind+1D', 'Ind+2D', 'Ind+3D', 'Couple+1D', 'Couple+2D', 'Couple+3D']\n",
    "plt.xticks(mean_table['Column'], custom_labels, rotation=90)\n",
    "\n",
    "fig.tight_layout()\n",
    "plt.title('Comparison of Mean and Most Common Health Insurance Rates')\n",
    "plt.show()"
   ]
  },
  {
   "cell_type": "code",
   "execution_count": 28,
   "id": "a3c76778",
   "metadata": {
    "scrolled": false
   },
   "outputs": [
    {
     "data": {
      "text/html": [
       "<div>\n",
       "<style scoped>\n",
       "    .dataframe tbody tr th:only-of-type {\n",
       "        vertical-align: middle;\n",
       "    }\n",
       "\n",
       "    .dataframe tbody tr th {\n",
       "        vertical-align: top;\n",
       "    }\n",
       "\n",
       "    .dataframe thead tr th {\n",
       "        text-align: left;\n",
       "    }\n",
       "\n",
       "    .dataframe thead tr:last-of-type th {\n",
       "        text-align: right;\n",
       "    }\n",
       "</style>\n",
       "<table border=\"1\" class=\"dataframe\">\n",
       "  <thead>\n",
       "    <tr>\n",
       "      <th></th>\n",
       "      <th></th>\n",
       "      <th></th>\n",
       "      <th colspan=\"4\" halign=\"left\">IndividualRate</th>\n",
       "      <th colspan=\"4\" halign=\"left\">IndividualTobaccoRate</th>\n",
       "      <th colspan=\"2\" halign=\"left\">Couple</th>\n",
       "      <th>...</th>\n",
       "      <th colspan=\"2\" halign=\"left\">CoupleAndOneDependent</th>\n",
       "      <th colspan=\"4\" halign=\"left\">CoupleAndTwoDependents</th>\n",
       "      <th colspan=\"4\" halign=\"left\">CoupleAndThreeOrMoreDependents</th>\n",
       "    </tr>\n",
       "    <tr>\n",
       "      <th></th>\n",
       "      <th></th>\n",
       "      <th></th>\n",
       "      <th>mean</th>\n",
       "      <th>median</th>\n",
       "      <th>min</th>\n",
       "      <th>max</th>\n",
       "      <th>mean</th>\n",
       "      <th>median</th>\n",
       "      <th>min</th>\n",
       "      <th>max</th>\n",
       "      <th>mean</th>\n",
       "      <th>median</th>\n",
       "      <th>...</th>\n",
       "      <th>min</th>\n",
       "      <th>max</th>\n",
       "      <th>mean</th>\n",
       "      <th>median</th>\n",
       "      <th>min</th>\n",
       "      <th>max</th>\n",
       "      <th>mean</th>\n",
       "      <th>median</th>\n",
       "      <th>min</th>\n",
       "      <th>max</th>\n",
       "    </tr>\n",
       "    <tr>\n",
       "      <th>StateCode</th>\n",
       "      <th>Tobacco</th>\n",
       "      <th>Age</th>\n",
       "      <th></th>\n",
       "      <th></th>\n",
       "      <th></th>\n",
       "      <th></th>\n",
       "      <th></th>\n",
       "      <th></th>\n",
       "      <th></th>\n",
       "      <th></th>\n",
       "      <th></th>\n",
       "      <th></th>\n",
       "      <th></th>\n",
       "      <th></th>\n",
       "      <th></th>\n",
       "      <th></th>\n",
       "      <th></th>\n",
       "      <th></th>\n",
       "      <th></th>\n",
       "      <th></th>\n",
       "      <th></th>\n",
       "      <th></th>\n",
       "      <th></th>\n",
       "    </tr>\n",
       "  </thead>\n",
       "  <tbody>\n",
       "    <tr>\n",
       "      <th rowspan=\"5\" valign=\"top\">AK</th>\n",
       "      <th rowspan=\"5\" valign=\"top\">No Preference</th>\n",
       "      <th>0-14</th>\n",
       "      <td>204.175349</td>\n",
       "      <td>63.000</td>\n",
       "      <td>35.75</td>\n",
       "      <td>466.00</td>\n",
       "      <td>NaN</td>\n",
       "      <td>NaN</td>\n",
       "      <td>NaN</td>\n",
       "      <td>NaN</td>\n",
       "      <td>NaN</td>\n",
       "      <td>NaN</td>\n",
       "      <td>...</td>\n",
       "      <td>NaN</td>\n",
       "      <td>NaN</td>\n",
       "      <td>NaN</td>\n",
       "      <td>NaN</td>\n",
       "      <td>NaN</td>\n",
       "      <td>NaN</td>\n",
       "      <td>NaN</td>\n",
       "      <td>NaN</td>\n",
       "      <td>NaN</td>\n",
       "      <td>NaN</td>\n",
       "    </tr>\n",
       "    <tr>\n",
       "      <th>15</th>\n",
       "      <td>220.405581</td>\n",
       "      <td>63.000</td>\n",
       "      <td>36.82</td>\n",
       "      <td>507.00</td>\n",
       "      <td>NaN</td>\n",
       "      <td>NaN</td>\n",
       "      <td>NaN</td>\n",
       "      <td>NaN</td>\n",
       "      <td>NaN</td>\n",
       "      <td>NaN</td>\n",
       "      <td>...</td>\n",
       "      <td>NaN</td>\n",
       "      <td>NaN</td>\n",
       "      <td>NaN</td>\n",
       "      <td>NaN</td>\n",
       "      <td>NaN</td>\n",
       "      <td>NaN</td>\n",
       "      <td>NaN</td>\n",
       "      <td>NaN</td>\n",
       "      <td>NaN</td>\n",
       "      <td>NaN</td>\n",
       "    </tr>\n",
       "    <tr>\n",
       "      <th>16</th>\n",
       "      <td>226.475349</td>\n",
       "      <td>63.000</td>\n",
       "      <td>36.82</td>\n",
       "      <td>523.00</td>\n",
       "      <td>NaN</td>\n",
       "      <td>NaN</td>\n",
       "      <td>NaN</td>\n",
       "      <td>NaN</td>\n",
       "      <td>NaN</td>\n",
       "      <td>NaN</td>\n",
       "      <td>...</td>\n",
       "      <td>NaN</td>\n",
       "      <td>NaN</td>\n",
       "      <td>NaN</td>\n",
       "      <td>NaN</td>\n",
       "      <td>NaN</td>\n",
       "      <td>NaN</td>\n",
       "      <td>NaN</td>\n",
       "      <td>NaN</td>\n",
       "      <td>NaN</td>\n",
       "      <td>NaN</td>\n",
       "    </tr>\n",
       "    <tr>\n",
       "      <th>17</th>\n",
       "      <td>232.568372</td>\n",
       "      <td>63.000</td>\n",
       "      <td>36.82</td>\n",
       "      <td>539.00</td>\n",
       "      <td>NaN</td>\n",
       "      <td>NaN</td>\n",
       "      <td>NaN</td>\n",
       "      <td>NaN</td>\n",
       "      <td>NaN</td>\n",
       "      <td>NaN</td>\n",
       "      <td>...</td>\n",
       "      <td>NaN</td>\n",
       "      <td>NaN</td>\n",
       "      <td>NaN</td>\n",
       "      <td>NaN</td>\n",
       "      <td>NaN</td>\n",
       "      <td>NaN</td>\n",
       "      <td>NaN</td>\n",
       "      <td>NaN</td>\n",
       "      <td>NaN</td>\n",
       "      <td>NaN</td>\n",
       "    </tr>\n",
       "    <tr>\n",
       "      <th>18</th>\n",
       "      <td>239.033488</td>\n",
       "      <td>63.000</td>\n",
       "      <td>36.82</td>\n",
       "      <td>556.00</td>\n",
       "      <td>NaN</td>\n",
       "      <td>NaN</td>\n",
       "      <td>NaN</td>\n",
       "      <td>NaN</td>\n",
       "      <td>NaN</td>\n",
       "      <td>NaN</td>\n",
       "      <td>...</td>\n",
       "      <td>NaN</td>\n",
       "      <td>NaN</td>\n",
       "      <td>NaN</td>\n",
       "      <td>NaN</td>\n",
       "      <td>NaN</td>\n",
       "      <td>NaN</td>\n",
       "      <td>NaN</td>\n",
       "      <td>NaN</td>\n",
       "      <td>NaN</td>\n",
       "      <td>NaN</td>\n",
       "    </tr>\n",
       "    <tr>\n",
       "      <th>...</th>\n",
       "      <th>...</th>\n",
       "      <th>...</th>\n",
       "      <td>...</td>\n",
       "      <td>...</td>\n",
       "      <td>...</td>\n",
       "      <td>...</td>\n",
       "      <td>...</td>\n",
       "      <td>...</td>\n",
       "      <td>...</td>\n",
       "      <td>...</td>\n",
       "      <td>...</td>\n",
       "      <td>...</td>\n",
       "      <td>...</td>\n",
       "      <td>...</td>\n",
       "      <td>...</td>\n",
       "      <td>...</td>\n",
       "      <td>...</td>\n",
       "      <td>...</td>\n",
       "      <td>...</td>\n",
       "      <td>...</td>\n",
       "      <td>...</td>\n",
       "      <td>...</td>\n",
       "      <td>...</td>\n",
       "    </tr>\n",
       "    <tr>\n",
       "      <th rowspan=\"5\" valign=\"top\">WY</th>\n",
       "      <th rowspan=\"5\" valign=\"top\">Tobacco User/Non-Tobacco User</th>\n",
       "      <th>60</th>\n",
       "      <td>1636.230556</td>\n",
       "      <td>1634.080</td>\n",
       "      <td>1244.47</td>\n",
       "      <td>1969.34</td>\n",
       "      <td>2045.287963</td>\n",
       "      <td>2042.600</td>\n",
       "      <td>1555.58</td>\n",
       "      <td>2461.68</td>\n",
       "      <td>NaN</td>\n",
       "      <td>NaN</td>\n",
       "      <td>...</td>\n",
       "      <td>NaN</td>\n",
       "      <td>NaN</td>\n",
       "      <td>NaN</td>\n",
       "      <td>NaN</td>\n",
       "      <td>NaN</td>\n",
       "      <td>NaN</td>\n",
       "      <td>NaN</td>\n",
       "      <td>NaN</td>\n",
       "      <td>NaN</td>\n",
       "      <td>NaN</td>\n",
       "    </tr>\n",
       "    <tr>\n",
       "      <th>61</th>\n",
       "      <td>1694.108148</td>\n",
       "      <td>1691.880</td>\n",
       "      <td>1288.49</td>\n",
       "      <td>2039.00</td>\n",
       "      <td>2117.633333</td>\n",
       "      <td>2114.855</td>\n",
       "      <td>1610.61</td>\n",
       "      <td>2548.75</td>\n",
       "      <td>NaN</td>\n",
       "      <td>NaN</td>\n",
       "      <td>...</td>\n",
       "      <td>NaN</td>\n",
       "      <td>NaN</td>\n",
       "      <td>NaN</td>\n",
       "      <td>NaN</td>\n",
       "      <td>NaN</td>\n",
       "      <td>NaN</td>\n",
       "      <td>NaN</td>\n",
       "      <td>NaN</td>\n",
       "      <td>NaN</td>\n",
       "      <td>NaN</td>\n",
       "    </tr>\n",
       "    <tr>\n",
       "      <th>62</th>\n",
       "      <td>1732.089444</td>\n",
       "      <td>1729.815</td>\n",
       "      <td>1317.37</td>\n",
       "      <td>2084.71</td>\n",
       "      <td>2165.110556</td>\n",
       "      <td>2162.270</td>\n",
       "      <td>1646.72</td>\n",
       "      <td>2605.89</td>\n",
       "      <td>NaN</td>\n",
       "      <td>NaN</td>\n",
       "      <td>...</td>\n",
       "      <td>NaN</td>\n",
       "      <td>NaN</td>\n",
       "      <td>NaN</td>\n",
       "      <td>NaN</td>\n",
       "      <td>NaN</td>\n",
       "      <td>NaN</td>\n",
       "      <td>NaN</td>\n",
       "      <td>NaN</td>\n",
       "      <td>NaN</td>\n",
       "      <td>NaN</td>\n",
       "    </tr>\n",
       "    <tr>\n",
       "      <th>63</th>\n",
       "      <td>1779.717222</td>\n",
       "      <td>1777.380</td>\n",
       "      <td>1353.60</td>\n",
       "      <td>2142.04</td>\n",
       "      <td>2224.645556</td>\n",
       "      <td>2221.725</td>\n",
       "      <td>1692.00</td>\n",
       "      <td>2677.55</td>\n",
       "      <td>NaN</td>\n",
       "      <td>NaN</td>\n",
       "      <td>...</td>\n",
       "      <td>NaN</td>\n",
       "      <td>NaN</td>\n",
       "      <td>NaN</td>\n",
       "      <td>NaN</td>\n",
       "      <td>NaN</td>\n",
       "      <td>NaN</td>\n",
       "      <td>NaN</td>\n",
       "      <td>NaN</td>\n",
       "      <td>NaN</td>\n",
       "      <td>NaN</td>\n",
       "    </tr>\n",
       "    <tr>\n",
       "      <th>64 and over</th>\n",
       "      <td>1808.645741</td>\n",
       "      <td>1806.270</td>\n",
       "      <td>1375.60</td>\n",
       "      <td>2176.86</td>\n",
       "      <td>2260.807778</td>\n",
       "      <td>2257.840</td>\n",
       "      <td>1719.50</td>\n",
       "      <td>2721.07</td>\n",
       "      <td>NaN</td>\n",
       "      <td>NaN</td>\n",
       "      <td>...</td>\n",
       "      <td>NaN</td>\n",
       "      <td>NaN</td>\n",
       "      <td>NaN</td>\n",
       "      <td>NaN</td>\n",
       "      <td>NaN</td>\n",
       "      <td>NaN</td>\n",
       "      <td>NaN</td>\n",
       "      <td>NaN</td>\n",
       "      <td>NaN</td>\n",
       "      <td>NaN</td>\n",
       "    </tr>\n",
       "  </tbody>\n",
       "</table>\n",
       "<p>3366 rows × 36 columns</p>\n",
       "</div>"
      ],
      "text/plain": [
       "                                                    IndividualRate            \\\n",
       "                                                              mean    median   \n",
       "StateCode Tobacco                       Age                                    \n",
       "AK        No Preference                 0-14            204.175349    63.000   \n",
       "                                        15              220.405581    63.000   \n",
       "                                        16              226.475349    63.000   \n",
       "                                        17              232.568372    63.000   \n",
       "                                        18              239.033488    63.000   \n",
       "...                                                            ...       ...   \n",
       "WY        Tobacco User/Non-Tobacco User 60             1636.230556  1634.080   \n",
       "                                        61             1694.108148  1691.880   \n",
       "                                        62             1732.089444  1729.815   \n",
       "                                        63             1779.717222  1777.380   \n",
       "                                        64 and over    1808.645741  1806.270   \n",
       "\n",
       "                                                                       \\\n",
       "                                                         min      max   \n",
       "StateCode Tobacco                       Age                             \n",
       "AK        No Preference                 0-14           35.75   466.00   \n",
       "                                        15             36.82   507.00   \n",
       "                                        16             36.82   523.00   \n",
       "                                        17             36.82   539.00   \n",
       "                                        18             36.82   556.00   \n",
       "...                                                      ...      ...   \n",
       "WY        Tobacco User/Non-Tobacco User 60           1244.47  1969.34   \n",
       "                                        61           1288.49  2039.00   \n",
       "                                        62           1317.37  2084.71   \n",
       "                                        63           1353.60  2142.04   \n",
       "                                        64 and over  1375.60  2176.86   \n",
       "\n",
       "                                                    IndividualTobaccoRate  \\\n",
       "                                                                     mean   \n",
       "StateCode Tobacco                       Age                                 \n",
       "AK        No Preference                 0-14                          NaN   \n",
       "                                        15                            NaN   \n",
       "                                        16                            NaN   \n",
       "                                        17                            NaN   \n",
       "                                        18                            NaN   \n",
       "...                                                                   ...   \n",
       "WY        Tobacco User/Non-Tobacco User 60                    2045.287963   \n",
       "                                        61                    2117.633333   \n",
       "                                        62                    2165.110556   \n",
       "                                        63                    2224.645556   \n",
       "                                        64 and over           2260.807778   \n",
       "\n",
       "                                                                        \\\n",
       "                                                       median      min   \n",
       "StateCode Tobacco                       Age                              \n",
       "AK        No Preference                 0-14              NaN      NaN   \n",
       "                                        15                NaN      NaN   \n",
       "                                        16                NaN      NaN   \n",
       "                                        17                NaN      NaN   \n",
       "                                        18                NaN      NaN   \n",
       "...                                                       ...      ...   \n",
       "WY        Tobacco User/Non-Tobacco User 60           2042.600  1555.58   \n",
       "                                        61           2114.855  1610.61   \n",
       "                                        62           2162.270  1646.72   \n",
       "                                        63           2221.725  1692.00   \n",
       "                                        64 and over  2257.840  1719.50   \n",
       "\n",
       "                                                             Couple         \\\n",
       "                                                         max   mean median   \n",
       "StateCode Tobacco                       Age                                  \n",
       "AK        No Preference                 0-14             NaN    NaN    NaN   \n",
       "                                        15               NaN    NaN    NaN   \n",
       "                                        16               NaN    NaN    NaN   \n",
       "                                        17               NaN    NaN    NaN   \n",
       "                                        18               NaN    NaN    NaN   \n",
       "...                                                      ...    ...    ...   \n",
       "WY        Tobacco User/Non-Tobacco User 60           2461.68    NaN    NaN   \n",
       "                                        61           2548.75    NaN    NaN   \n",
       "                                        62           2605.89    NaN    NaN   \n",
       "                                        63           2677.55    NaN    NaN   \n",
       "                                        64 and over  2721.07    NaN    NaN   \n",
       "\n",
       "                                                     ...  \\\n",
       "                                                     ...   \n",
       "StateCode Tobacco                       Age          ...   \n",
       "AK        No Preference                 0-14         ...   \n",
       "                                        15           ...   \n",
       "                                        16           ...   \n",
       "                                        17           ...   \n",
       "                                        18           ...   \n",
       "...                                                  ...   \n",
       "WY        Tobacco User/Non-Tobacco User 60           ...   \n",
       "                                        61           ...   \n",
       "                                        62           ...   \n",
       "                                        63           ...   \n",
       "                                        64 and over  ...   \n",
       "\n",
       "                                                    CoupleAndOneDependent      \\\n",
       "                                                                      min max   \n",
       "StateCode Tobacco                       Age                                     \n",
       "AK        No Preference                 0-14                          NaN NaN   \n",
       "                                        15                            NaN NaN   \n",
       "                                        16                            NaN NaN   \n",
       "                                        17                            NaN NaN   \n",
       "                                        18                            NaN NaN   \n",
       "...                                                                   ...  ..   \n",
       "WY        Tobacco User/Non-Tobacco User 60                            NaN NaN   \n",
       "                                        61                            NaN NaN   \n",
       "                                        62                            NaN NaN   \n",
       "                                        63                            NaN NaN   \n",
       "                                        64 and over                   NaN NaN   \n",
       "\n",
       "                                                    CoupleAndTwoDependents  \\\n",
       "                                                                      mean   \n",
       "StateCode Tobacco                       Age                                  \n",
       "AK        No Preference                 0-14                           NaN   \n",
       "                                        15                             NaN   \n",
       "                                        16                             NaN   \n",
       "                                        17                             NaN   \n",
       "                                        18                             NaN   \n",
       "...                                                                    ...   \n",
       "WY        Tobacco User/Non-Tobacco User 60                             NaN   \n",
       "                                        61                             NaN   \n",
       "                                        62                             NaN   \n",
       "                                        63                             NaN   \n",
       "                                        64 and over                    NaN   \n",
       "\n",
       "                                                                    \\\n",
       "                                                    median min max   \n",
       "StateCode Tobacco                       Age                          \n",
       "AK        No Preference                 0-14           NaN NaN NaN   \n",
       "                                        15             NaN NaN NaN   \n",
       "                                        16             NaN NaN NaN   \n",
       "                                        17             NaN NaN NaN   \n",
       "                                        18             NaN NaN NaN   \n",
       "...                                                    ...  ..  ..   \n",
       "WY        Tobacco User/Non-Tobacco User 60             NaN NaN NaN   \n",
       "                                        61             NaN NaN NaN   \n",
       "                                        62             NaN NaN NaN   \n",
       "                                        63             NaN NaN NaN   \n",
       "                                        64 and over    NaN NaN NaN   \n",
       "\n",
       "                                                    CoupleAndThreeOrMoreDependents  \\\n",
       "                                                                              mean   \n",
       "StateCode Tobacco                       Age                                          \n",
       "AK        No Preference                 0-14                                   NaN   \n",
       "                                        15                                     NaN   \n",
       "                                        16                                     NaN   \n",
       "                                        17                                     NaN   \n",
       "                                        18                                     NaN   \n",
       "...                                                                            ...   \n",
       "WY        Tobacco User/Non-Tobacco User 60                                     NaN   \n",
       "                                        61                                     NaN   \n",
       "                                        62                                     NaN   \n",
       "                                        63                                     NaN   \n",
       "                                        64 and over                            NaN   \n",
       "\n",
       "                                                                    \n",
       "                                                    median min max  \n",
       "StateCode Tobacco                       Age                         \n",
       "AK        No Preference                 0-14           NaN NaN NaN  \n",
       "                                        15             NaN NaN NaN  \n",
       "                                        16             NaN NaN NaN  \n",
       "                                        17             NaN NaN NaN  \n",
       "                                        18             NaN NaN NaN  \n",
       "...                                                    ...  ..  ..  \n",
       "WY        Tobacco User/Non-Tobacco User 60             NaN NaN NaN  \n",
       "                                        61             NaN NaN NaN  \n",
       "                                        62             NaN NaN NaN  \n",
       "                                        63             NaN NaN NaN  \n",
       "                                        64 and over    NaN NaN NaN  \n",
       "\n",
       "[3366 rows x 36 columns]"
      ]
     },
     "execution_count": 28,
     "metadata": {},
     "output_type": "execute_result"
    }
   ],
   "source": [
    "## Group data by State, Smoker status and Age, calculate mean, median, min and max\n",
    "cms_rate_data_condensed.groupby(['StateCode', 'Tobacco', 'Age']).agg(['mean','median', 'min', 'max'])"
   ]
  },
  {
   "cell_type": "code",
   "execution_count": 29,
   "id": "a7c950c6",
   "metadata": {},
   "outputs": [],
   "source": [
    "## Refine data to individual rates\n",
    "cms_rate_data_individual = cms_rate_data_condensed[['StateCode', 'Tobacco', 'Age', 'IndividualRate', 'IndividualTobaccoRate']]"
   ]
  },
  {
   "cell_type": "code",
   "execution_count": 30,
   "id": "356c1e9e",
   "metadata": {},
   "outputs": [
    {
     "name": "stdout",
     "output_type": "stream",
     "text": [
      "  StateCode Tobacco            Age  IndividualRate  IndividualTobaccoRate\n",
      "0        AK     NaN  Family Option           76.59                    NaN\n",
      "1        AK     NaN  Family Option           73.82                    NaN\n",
      "2        AK     NaN  Family Option           74.74                    NaN\n",
      "3        AK     NaN  Family Option           75.66                    NaN\n",
      "4        AK     NaN  Family Option           71.88                    NaN\n"
     ]
    }
   ],
   "source": [
    "## Review individual data\n",
    "print(cms_rate_data_individual.head())"
   ]
  },
  {
   "cell_type": "code",
   "execution_count": 289,
   "id": "668e3c32",
   "metadata": {},
   "outputs": [
    {
     "data": {
      "text/plain": [
       "<seaborn.axisgrid.FacetGrid at 0x2327a0e4310>"
      ]
     },
     "execution_count": 289,
     "metadata": {},
     "output_type": "execute_result"
    },
    {
     "data": {
      "image/png": "[encoded data removed]",
      "text/plain": [
       "<Figure size 453.475x360 with 1 Axes>"
      ]
     },
     "metadata": {},
     "output_type": "display_data"
    }
   ],
   "source": [
    "## Use seaborn to create a scatterplot to show if there is a relationship between age and health insurance rate\n",
    "sns.relplot(x = \"IndividualRate\", y = \"Age\", data = cms_rate_data_individual, kind = \"scatter\", size = \"IndividualRate\", hue = \"StateCode\")"
   ]
  },
  {
   "cell_type": "code",
   "execution_count": 52,
   "id": "a0eb0d0e",
   "metadata": {},
   "outputs": [],
   "source": [
    "## remove outlier to make data easier to review\n",
    "cms_rate_data_individual_outlier_removed = cms_rate_data_individual[cms_rate_data_individual['IndividualRate'] <= 4500]"
   ]
  },
  {
   "cell_type": "code",
   "execution_count": 53,
   "id": "11851363",
   "metadata": {},
   "outputs": [
    {
     "data": {
      "text/html": [
       "<div>\n",
       "<style scoped>\n",
       "    .dataframe tbody tr th:only-of-type {\n",
       "        vertical-align: middle;\n",
       "    }\n",
       "\n",
       "    .dataframe tbody tr th {\n",
       "        vertical-align: top;\n",
       "    }\n",
       "\n",
       "    .dataframe thead th {\n",
       "        text-align: right;\n",
       "    }\n",
       "</style>\n",
       "<table border=\"1\" class=\"dataframe\">\n",
       "  <thead>\n",
       "    <tr style=\"text-align: right;\">\n",
       "      <th></th>\n",
       "      <th>StateCode</th>\n",
       "      <th>Tobacco</th>\n",
       "      <th>Age</th>\n",
       "      <th>IndividualRate</th>\n",
       "      <th>IndividualTobaccoRate</th>\n",
       "    </tr>\n",
       "  </thead>\n",
       "  <tbody>\n",
       "    <tr>\n",
       "      <th>2752436</th>\n",
       "      <td>WV</td>\n",
       "      <td>No Preference</td>\n",
       "      <td>63</td>\n",
       "      <td>1063.0</td>\n",
       "      <td>NaN</td>\n",
       "    </tr>\n",
       "    <tr>\n",
       "      <th>2752437</th>\n",
       "      <td>WV</td>\n",
       "      <td>No Preference</td>\n",
       "      <td>64 and over</td>\n",
       "      <td>1064.0</td>\n",
       "      <td>NaN</td>\n",
       "    </tr>\n",
       "    <tr>\n",
       "      <th>2752438</th>\n",
       "      <td>WV</td>\n",
       "      <td>No Preference</td>\n",
       "      <td>64 and over</td>\n",
       "      <td>1064.0</td>\n",
       "      <td>NaN</td>\n",
       "    </tr>\n",
       "    <tr>\n",
       "      <th>2752439</th>\n",
       "      <td>WV</td>\n",
       "      <td>No Preference</td>\n",
       "      <td>64 and over</td>\n",
       "      <td>1064.0</td>\n",
       "      <td>NaN</td>\n",
       "    </tr>\n",
       "    <tr>\n",
       "      <th>2752440</th>\n",
       "      <td>WV</td>\n",
       "      <td>No Preference</td>\n",
       "      <td>64 and over</td>\n",
       "      <td>1064.0</td>\n",
       "      <td>NaN</td>\n",
       "    </tr>\n",
       "  </tbody>\n",
       "</table>\n",
       "</div>"
      ],
      "text/plain": [
       "        StateCode        Tobacco          Age  IndividualRate  \\\n",
       "2752436        WV  No Preference           63          1063.0   \n",
       "2752437        WV  No Preference  64 and over          1064.0   \n",
       "2752438        WV  No Preference  64 and over          1064.0   \n",
       "2752439        WV  No Preference  64 and over          1064.0   \n",
       "2752440        WV  No Preference  64 and over          1064.0   \n",
       "\n",
       "         IndividualTobaccoRate  \n",
       "2752436                    NaN  \n",
       "2752437                    NaN  \n",
       "2752438                    NaN  \n",
       "2752439                    NaN  \n",
       "2752440                    NaN  "
      ]
     },
     "execution_count": 53,
     "metadata": {},
     "output_type": "execute_result"
    }
   ],
   "source": [
    "## Review removal of outlier\n",
    "cms_rate_data_individual_outlier_removed.tail()"
   ]
  },
  {
   "cell_type": "code",
   "execution_count": 54,
   "id": "8f41cff6",
   "metadata": {},
   "outputs": [
    {
     "data": {
      "image/png": "[encoded data removed]",
      "text/plain": [
       "<Figure size 360x360 with 1 Axes>"
      ]
     },
     "metadata": {
      "needs_background": "light"
     },
     "output_type": "display_data"
    }
   ],
   "source": [
    "## Reperform scatterplot\n",
    "sns.relplot(x = \"Age\", y = \"IndividualRate\", data = cms_rate_data_individual_outlier_removed, kind = \"scatter\")\n",
    "plt.show()"
   ]
  },
  {
   "cell_type": "code",
   "execution_count": 80,
   "id": "69cda704",
   "metadata": {},
   "outputs": [],
   "source": [
    "##Refine data for individual and State of Arizona only\n",
    "cms_rate_data_individual_over_50_AZ = cms_rate_data_individual_outlier_removed[(cms_rate_data_individual_outlier_removed['Age'] >= '50') & (cms_rate_data_individual_outlier_removed['StateCode'] == 'AZ') & (cms_rate_data_individual_outlier_removed['Age'] != 'Family Option')& (cms_rate_data_individual_outlier_removed['IndividualRate'] >= 100)]"
   ]
  },
  {
   "cell_type": "code",
   "execution_count": 81,
   "id": "c1b73748",
   "metadata": {},
   "outputs": [
    {
     "data": {
      "text/html": [
       "<div>\n",
       "<style scoped>\n",
       "    .dataframe tbody tr th:only-of-type {\n",
       "        vertical-align: middle;\n",
       "    }\n",
       "\n",
       "    .dataframe tbody tr th {\n",
       "        vertical-align: top;\n",
       "    }\n",
       "\n",
       "    .dataframe thead th {\n",
       "        text-align: right;\n",
       "    }\n",
       "</style>\n",
       "<table border=\"1\" class=\"dataframe\">\n",
       "  <thead>\n",
       "    <tr style=\"text-align: right;\">\n",
       "      <th></th>\n",
       "      <th>StateCode</th>\n",
       "      <th>Tobacco</th>\n",
       "      <th>Age</th>\n",
       "      <th>IndividualRate</th>\n",
       "      <th>IndividualTobaccoRate</th>\n",
       "    </tr>\n",
       "  </thead>\n",
       "  <tbody>\n",
       "    <tr>\n",
       "      <th>65146</th>\n",
       "      <td>AZ</td>\n",
       "      <td>Tobacco User/Non-Tobacco User</td>\n",
       "      <td>50</td>\n",
       "      <td>468.76</td>\n",
       "      <td>510.94</td>\n",
       "    </tr>\n",
       "    <tr>\n",
       "      <th>65147</th>\n",
       "      <td>AZ</td>\n",
       "      <td>Tobacco User/Non-Tobacco User</td>\n",
       "      <td>51</td>\n",
       "      <td>489.49</td>\n",
       "      <td>533.54</td>\n",
       "    </tr>\n",
       "    <tr>\n",
       "      <th>65148</th>\n",
       "      <td>AZ</td>\n",
       "      <td>Tobacco User/Non-Tobacco User</td>\n",
       "      <td>52</td>\n",
       "      <td>512.32</td>\n",
       "      <td>558.43</td>\n",
       "    </tr>\n",
       "    <tr>\n",
       "      <th>65149</th>\n",
       "      <td>AZ</td>\n",
       "      <td>Tobacco User/Non-Tobacco User</td>\n",
       "      <td>53</td>\n",
       "      <td>535.42</td>\n",
       "      <td>583.61</td>\n",
       "    </tr>\n",
       "    <tr>\n",
       "      <th>65150</th>\n",
       "      <td>AZ</td>\n",
       "      <td>Tobacco User/Non-Tobacco User</td>\n",
       "      <td>54</td>\n",
       "      <td>560.36</td>\n",
       "      <td>610.79</td>\n",
       "    </tr>\n",
       "  </tbody>\n",
       "</table>\n",
       "</div>"
      ],
      "text/plain": [
       "      StateCode                        Tobacco Age  IndividualRate  \\\n",
       "65146        AZ  Tobacco User/Non-Tobacco User  50          468.76   \n",
       "65147        AZ  Tobacco User/Non-Tobacco User  51          489.49   \n",
       "65148        AZ  Tobacco User/Non-Tobacco User  52          512.32   \n",
       "65149        AZ  Tobacco User/Non-Tobacco User  53          535.42   \n",
       "65150        AZ  Tobacco User/Non-Tobacco User  54          560.36   \n",
       "\n",
       "       IndividualTobaccoRate  \n",
       "65146                 510.94  \n",
       "65147                 533.54  \n",
       "65148                 558.43  \n",
       "65149                 583.61  \n",
       "65150                 610.79  "
      ]
     },
     "execution_count": 81,
     "metadata": {},
     "output_type": "execute_result"
    }
   ],
   "source": [
    "## Check refinement\n",
    "cms_rate_data_individual_over_50_AZ.head()"
   ]
  },
  {
   "cell_type": "code",
   "execution_count": 73,
   "id": "5ef5262c",
   "metadata": {},
   "outputs": [
    {
     "data": {
      "image/png": "[encoded data removed]",
      "text/plain": [
       "<Figure size 360x360 with 1 Axes>"
      ]
     },
     "metadata": {
      "needs_background": "light"
     },
     "output_type": "display_data"
    }
   ],
   "source": [
    "## Create scatterplot\n",
    "sns.relplot(x = \"Age\", y = \"IndividualRate\", data = cms_rate_data_individual_over_50_AZ, kind = \"scatter\")\n",
    "plt.show()"
   ]
  },
  {
   "cell_type": "code",
   "execution_count": 305,
   "id": "c9095312",
   "metadata": {},
   "outputs": [
    {
     "data": {
      "image/png": "[encoded data removed]",
      "text/plain": [
       "<Figure size 360x360 with 1 Axes>"
      ]
     },
     "metadata": {},
     "output_type": "display_data"
    }
   ],
   "source": [
    "## Create line chart to determine if relationship between age and health insurance rate\n",
    "sns.relplot(x = \"Age\", y = \"IndividualRate\", data = cms_rate_data_individual_over_50_AZ, kind = \"line\")\n",
    "plt.title(\"Relationship Between Age and Health Insurance Rate per annum\")\n",
    "plt.xticks(rotation=90)\n",
    "plt.show()"
   ]
  },
  {
   "cell_type": "code",
   "execution_count": 188,
   "id": "78769dff",
   "metadata": {},
   "outputs": [],
   "source": [
    "## Refine selection for health insurance rates for smoker in AZ and aged over 50\n",
    "cms_rate_data_individual_over_50_AZ_smoker = cms_rate_data_individual_over_50_AZ[[\"Age\", \"IndividualRate\", \"IndividualTobaccoRate\"]]"
   ]
  },
  {
   "cell_type": "code",
   "execution_count": 216,
   "id": "2e661343",
   "metadata": {},
   "outputs": [
    {
     "name": "stdout",
     "output_type": "stream",
     "text": [
      "             IndividualRate  IndividualTobaccoRate\n",
      "Age                                               \n",
      "50               731.383635             817.019107\n",
      "51               761.603451             853.157934\n",
      "52               794.878526             892.956224\n",
      "53               828.535762             933.212066\n",
      "54               864.866616             976.670536\n",
      "55               901.197437            1034.801378\n",
      "56               940.583534            1082.596709\n",
      "57               980.351876            1130.856378\n",
      "58              1022.793333            1182.364490\n",
      "59              1043.846466            1207.885842\n",
      "60              1086.288375            1259.393520\n",
      "61              1123.001022            1303.941097\n",
      "62              1147.109765            1333.175102\n",
      "63              1177.329765            1369.833878\n",
      "64 and over     1195.673618            1392.047245\n"
     ]
    }
   ],
   "source": [
    "## Review data for Arizona and individual aged over 50\n",
    "cms_smoker_graph_data = cms_rate_data_individual_over_50_AZ_smoker.groupby('Age').mean()\n",
    "print(cms_smoker_graph_data)"
   ]
  },
  {
   "cell_type": "code",
   "execution_count": 136,
   "id": "f60134e1",
   "metadata": {},
   "outputs": [],
   "source": [
    "## Calculate the mean rate per State from original data\n",
    "cms_rate_data_individual_by_state = cms_rate_data_individual_outlier_removed.groupby(['StateCode']).agg(['mean'])"
   ]
  },
  {
   "cell_type": "code",
   "execution_count": 137,
   "id": "89069926",
   "metadata": {},
   "outputs": [
    {
     "data": {
      "text/html": [
       "<div>\n",
       "<style scoped>\n",
       "    .dataframe tbody tr th:only-of-type {\n",
       "        vertical-align: middle;\n",
       "    }\n",
       "\n",
       "    .dataframe tbody tr th {\n",
       "        vertical-align: top;\n",
       "    }\n",
       "\n",
       "    .dataframe thead tr th {\n",
       "        text-align: left;\n",
       "    }\n",
       "\n",
       "    .dataframe thead tr:last-of-type th {\n",
       "        text-align: right;\n",
       "    }\n",
       "</style>\n",
       "<table border=\"1\" class=\"dataframe\">\n",
       "  <thead>\n",
       "    <tr>\n",
       "      <th></th>\n",
       "      <th>IndividualRate</th>\n",
       "      <th>IndividualTobaccoRate</th>\n",
       "    </tr>\n",
       "    <tr>\n",
       "      <th></th>\n",
       "      <th>mean</th>\n",
       "      <th>mean</th>\n",
       "    </tr>\n",
       "    <tr>\n",
       "      <th>StateCode</th>\n",
       "      <th></th>\n",
       "      <th></th>\n",
       "    </tr>\n",
       "  </thead>\n",
       "  <tbody>\n",
       "    <tr>\n",
       "      <th>UT</th>\n",
       "      <td>483.561666</td>\n",
       "      <td>681.294087</td>\n",
       "    </tr>\n",
       "    <tr>\n",
       "      <th>VA</th>\n",
       "      <td>312.527618</td>\n",
       "      <td>515.638387</td>\n",
       "    </tr>\n",
       "    <tr>\n",
       "      <th>WI</th>\n",
       "      <td>596.938378</td>\n",
       "      <td>686.124952</td>\n",
       "    </tr>\n",
       "    <tr>\n",
       "      <th>WV</th>\n",
       "      <td>875.844819</td>\n",
       "      <td>1105.550906</td>\n",
       "    </tr>\n",
       "    <tr>\n",
       "      <th>WY</th>\n",
       "      <td>566.459533</td>\n",
       "      <td>1139.082237</td>\n",
       "    </tr>\n",
       "  </tbody>\n",
       "</table>\n",
       "</div>"
      ],
      "text/plain": [
       "          IndividualRate IndividualTobaccoRate\n",
       "                    mean                  mean\n",
       "StateCode                                     \n",
       "UT            483.561666            681.294087\n",
       "VA            312.527618            515.638387\n",
       "WI            596.938378            686.124952\n",
       "WV            875.844819           1105.550906\n",
       "WY            566.459533           1139.082237"
      ]
     },
     "execution_count": 137,
     "metadata": {},
     "output_type": "execute_result"
    }
   ],
   "source": [
    "## Review data\n",
    "cms_rate_data_individual_by_state.tail()"
   ]
  },
  {
   "cell_type": "code",
   "execution_count": 261,
   "id": "31ec1257",
   "metadata": {},
   "outputs": [
    {
     "name": "stdout",
     "output_type": "stream",
     "text": [
      "AK\n",
      "IndividualRate         mean    518.885873\n",
      "IndividualTobaccoRate  mean    870.772433\n",
      "Name: AK, dtype: float64\n",
      "AL\n",
      "IndividualRate         mean    395.624433\n",
      "IndividualTobaccoRate  mean    760.404994\n",
      "Name: AL, dtype: float64\n",
      "AR\n",
      "IndividualRate         mean    436.066916\n",
      "IndividualTobaccoRate  mean    658.684318\n",
      "Name: AR, dtype: float64\n",
      "AZ\n",
      "IndividualRate         mean    481.639036\n",
      "IndividualTobaccoRate  mean    692.644153\n",
      "Name: AZ, dtype: float64\n",
      "DE\n",
      "IndividualRate         mean    457.867684\n",
      "IndividualTobaccoRate  mean    732.555229\n",
      "Name: DE, dtype: float64\n",
      "FL\n",
      "IndividualRate         mean    499.965249\n",
      "IndividualTobaccoRate  mean    807.338424\n",
      "Name: FL, dtype: float64\n",
      "GA\n",
      "IndividualRate         mean    454.263647\n",
      "IndividualTobaccoRate  mean    588.817564\n",
      "Name: GA, dtype: float64\n",
      "HI\n",
      "IndividualRate         mean    306.048814\n",
      "IndividualTobaccoRate  mean    645.090936\n",
      "Name: HI, dtype: float64\n",
      "IA\n",
      "IndividualRate         mean    384.135597\n",
      "IndividualTobaccoRate  mean    621.493487\n",
      "Name: IA, dtype: float64\n",
      "IL\n",
      "IndividualRate         mean    442.657891\n",
      "IndividualTobaccoRate  mean    676.217586\n",
      "Name: IL, dtype: float64\n",
      "IN\n",
      "IndividualRate         mean    293.290292\n",
      "IndividualTobaccoRate  mean    608.550792\n",
      "Name: IN, dtype: float64\n",
      "KS\n",
      "IndividualRate         mean    515.731019\n",
      "IndividualTobaccoRate  mean    711.675411\n",
      "Name: KS, dtype: float64\n",
      "LA\n",
      "IndividualRate         mean    496.683815\n",
      "IndividualTobaccoRate  mean    877.761930\n",
      "Name: LA, dtype: float64\n",
      "MI\n",
      "IndividualRate         mean    179.821978\n",
      "IndividualTobaccoRate  mean    556.025819\n",
      "Name: MI, dtype: float64\n",
      "MO\n",
      "IndividualRate         mean    444.057929\n",
      "IndividualTobaccoRate  mean    743.975058\n",
      "Name: MO, dtype: float64\n",
      "MS\n",
      "IndividualRate         mean    496.452188\n",
      "IndividualTobaccoRate  mean    688.297104\n",
      "Name: MS, dtype: float64\n",
      "MT\n",
      "IndividualRate         mean    374.678726\n",
      "IndividualTobaccoRate  mean    664.209505\n",
      "Name: MT, dtype: float64\n",
      "NC\n",
      "IndividualRate         mean    442.421412\n",
      "IndividualTobaccoRate  mean    774.537611\n",
      "Name: NC, dtype: float64\n",
      "ND\n",
      "IndividualRate         mean    427.480278\n",
      "IndividualTobaccoRate  mean    580.724758\n",
      "Name: ND, dtype: float64\n",
      "NE\n",
      "IndividualRate         mean    639.422923\n",
      "IndividualTobaccoRate  mean    793.380614\n",
      "Name: NE, dtype: float64\n",
      "NH\n",
      "IndividualRate         mean    538.963520\n",
      "IndividualTobaccoRate  mean    514.017954\n",
      "Name: NH, dtype: float64\n",
      "OH\n",
      "IndividualRate         mean    347.925824\n",
      "IndividualTobaccoRate  mean    676.282611\n",
      "Name: OH, dtype: float64\n",
      "OK\n",
      "IndividualRate         mean    496.357445\n",
      "IndividualTobaccoRate  mean    730.418166\n",
      "Name: OK, dtype: float64\n",
      "OR\n",
      "IndividualRate         mean    447.891436\n",
      "IndividualTobaccoRate  mean    657.761798\n",
      "Name: OR, dtype: float64\n",
      "SC\n",
      "IndividualRate         mean    461.128034\n",
      "IndividualTobaccoRate  mean    687.330762\n",
      "Name: SC, dtype: float64\n",
      "SD\n",
      "IndividualRate         mean    624.844369\n",
      "IndividualTobaccoRate  mean    811.426442\n",
      "Name: SD, dtype: float64\n",
      "TN\n",
      "IndividualRate         mean    453.391123\n",
      "IndividualTobaccoRate  mean    662.102491\n",
      "Name: TN, dtype: float64\n",
      "TX\n",
      "IndividualRate         mean    347.713505\n",
      "IndividualTobaccoRate  mean    711.710853\n",
      "Name: TX, dtype: float64\n",
      "UT\n",
      "IndividualRate         mean    483.561666\n",
      "IndividualTobaccoRate  mean    681.294087\n",
      "Name: UT, dtype: float64\n",
      "VA\n",
      "IndividualRate         mean    312.527618\n",
      "IndividualTobaccoRate  mean    515.638387\n",
      "Name: VA, dtype: float64\n",
      "WI\n",
      "IndividualRate         mean    596.938378\n",
      "IndividualTobaccoRate  mean    686.124952\n",
      "Name: WI, dtype: float64\n",
      "WV\n",
      "IndividualRate         mean     875.844819\n",
      "IndividualTobaccoRate  mean    1105.550906\n",
      "Name: WV, dtype: float64\n",
      "WY\n",
      "IndividualRate         mean     566.459533\n",
      "IndividualTobaccoRate  mean    1139.082237\n",
      "Name: WY, dtype: float64\n"
     ]
    }
   ],
   "source": [
    "## Use iterrows to review data by State for individual rate for smokers versus nonsmokers\n",
    "for lab, row in cms_rate_data_individual_by_state.iterrows():\n",
    "    print(lab)\n",
    "    print(row)"
   ]
  },
  {
   "cell_type": "code",
   "execution_count": 287,
   "id": "a0918e69",
   "metadata": {},
   "outputs": [
    {
     "data": {
      "image/png": "[encoded data removed]",
      "text/plain": [
       "<Figure size 1080x1080 with 1 Axes>"
      ]
     },
     "metadata": {},
     "output_type": "display_data"
    }
   ],
   "source": [
    "## Plot the health insurance rates for smokers and nonsmokers in a bar chart to visualise for all States if smokers pay a higher rate\n",
    "plt.rcParams['figure.figsize'] = (15, 15)\n",
    "ax = cms_rate_data_individual_by_state.plot(kind = 'bar', width = 1)\n",
    "ax.set_title(\"Individual Cost per State\")\n",
    "ax.set_xlabel(\"State\")\n",
    "ax.set_ylabel(\"Individual Rate\")\n",
    "plt.legend()\n",
    "for p in ax.patches:\n",
    "    height = p.get_height()\n",
    "    ax.annotate('${}'.format(round(height)),  # Round to nearest dollar\n",
    "                (p.get_x() + p.get_width() / 2., height), \n",
    "                ha='center', va='center', \n",
    "                xytext=(0, 10), \n",
    "                textcoords='offset points')\n",
    "plt.show()"
   ]
  },
  {
   "cell_type": "markdown",
   "id": "7764f9d4",
   "metadata": {},
   "source": [
    "## Import Median Income per State data"
   ]
  },
  {
   "cell_type": "code",
   "execution_count": 31,
   "id": "de9bafc3",
   "metadata": {},
   "outputs": [
    {
     "data": {
      "text/plain": [
       "requests.models.Response"
      ]
     },
     "execution_count": 31,
     "metadata": {},
     "output_type": "execute_result"
    }
   ],
   "source": [
    "## Import file\n",
    "median_income = requests.get('https://worldpopulationreview.com/state-rankings/median-household-income-by-state')\n",
    "type(median_income)"
   ]
  },
  {
   "cell_type": "code",
   "execution_count": 32,
   "id": "767eacf3",
   "metadata": {},
   "outputs": [
    {
     "data": {
      "text/plain": [
       "<Response [200]>"
      ]
     },
     "execution_count": 32,
     "metadata": {},
     "output_type": "execute_result"
    }
   ],
   "source": [
    "requests.get('https://worldpopulationreview.com/state-rankings/median-household-income-by-state')"
   ]
  },
  {
   "cell_type": "code",
   "execution_count": 33,
   "id": "55284021",
   "metadata": {},
   "outputs": [
    {
     "data": {
      "text/plain": [
       "200"
      ]
     },
     "execution_count": 33,
     "metadata": {},
     "output_type": "execute_result"
    }
   ],
   "source": [
    "median_income.status_code"
   ]
  },
  {
   "cell_type": "code",
   "execution_count": 271,
   "id": "cde90125",
   "metadata": {},
   "outputs": [
    {
     "data": {
      "text/plain": [
       "('median-household-income-by-state-[updated-august-2023].csv',\n",
       " <http.client.HTTPMessage at 0x232795e2d90>)"
      ]
     },
     "execution_count": 271,
     "metadata": {},
     "output_type": "execute_result"
    }
   ],
   "source": [
    "from urllib.request import urlretrieve\n",
    "url = 'https://worldpopulationreview.com/state-rankings/median-household-income-by-state'\n",
    "urlretrieve(url, 'median-household-income-by-state-[updated-august-2023].csv' )"
   ]
  },
  {
   "cell_type": "code",
   "execution_count": 269,
   "id": "d3defc18",
   "metadata": {},
   "outputs": [],
   "source": [
    "## Import median household income by State\n",
    "median_income_data = pd.read_csv(r'\\Users\\burke\\Downloads/median-household-income-by-state-[updated-august-2023].csv')"
   ]
  },
  {
   "cell_type": "code",
   "execution_count": 272,
   "id": "62659fac",
   "metadata": {},
   "outputs": [
    {
     "name": "stdout",
     "output_type": "stream",
     "text": [
      "                  state  medianHouseholdIncome2021\n",
      "0              Maryland                      90203\n",
      "1  District of Columbia                      90088\n",
      "2         Massachusetts                      89645\n",
      "3            New Jersey                      89296\n",
      "4         New Hampshire                      88465\n"
     ]
    },
    {
     "data": {
      "text/plain": [
       "state                        0\n",
       "medianHouseholdIncome2021    0\n",
       "dtype: int64"
      ]
     },
     "execution_count": 272,
     "metadata": {},
     "output_type": "execute_result"
    }
   ],
   "source": [
    "## Review data\n",
    "print(median_income_data.head())\n",
    "median_income_data.duplicated().sum()\n",
    "median_income_data.isnull().sum()"
   ]
  },
  {
   "cell_type": "markdown",
   "id": "af5afb8a",
   "metadata": {},
   "source": [
    "## Use dictionary of US States to create a column in median income data with 2 letter abbreviation"
   ]
  },
  {
   "cell_type": "code",
   "execution_count": 96,
   "id": "d9c500c1",
   "metadata": {},
   "outputs": [],
   "source": [
    "## Import dictionary of State abbreviations\n",
    "us_state_to_abbrev = {\n",
    "    \"Alabama\": \"AL\",\n",
    "    \"Alaska\": \"AK\",\n",
    "    \"Arizona\": \"AZ\",\n",
    "    \"Arkansas\": \"AR\",\n",
    "    \"California\": \"CA\",\n",
    "    \"Colorado\": \"CO\",\n",
    "    \"Connecticut\": \"CT\",\n",
    "    \"Delaware\": \"DE\",\n",
    "    \"Florida\": \"FL\",\n",
    "    \"Georgia\": \"GA\",\n",
    "    \"Hawaii\": \"HI\",\n",
    "    \"Idaho\": \"ID\",\n",
    "    \"Illinois\": \"IL\",\n",
    "    \"Indiana\": \"IN\",\n",
    "    \"Iowa\": \"IA\",\n",
    "    \"Kansas\": \"KS\",\n",
    "    \"Kentucky\": \"KY\",\n",
    "    \"Louisiana\": \"LA\",\n",
    "    \"Maine\": \"ME\",\n",
    "    \"Maryland\": \"MD\",\n",
    "    \"Massachusetts\": \"MA\",\n",
    "    \"Michigan\": \"MI\",\n",
    "    \"Minnesota\": \"MN\",\n",
    "    \"Mississippi\": \"MS\",\n",
    "    \"Missouri\": \"MO\",\n",
    "    \"Montana\": \"MT\",\n",
    "    \"Nebraska\": \"NE\",\n",
    "    \"Nevada\": \"NV\",\n",
    "    \"New Hampshire\": \"NH\",\n",
    "    \"New Jersey\": \"NJ\",\n",
    "    \"New Mexico\": \"NM\",\n",
    "    \"New York\": \"NY\",\n",
    "    \"North Carolina\": \"NC\",\n",
    "    \"North Dakota\": \"ND\",\n",
    "    \"Ohio\": \"OH\",\n",
    "    \"Oklahoma\": \"OK\",\n",
    "    \"Oregon\": \"OR\",\n",
    "    \"Pennsylvania\": \"PA\",\n",
    "    \"Rhode Island\": \"RI\",\n",
    "    \"South Carolina\": \"SC\",\n",
    "    \"South Dakota\": \"SD\",\n",
    "    \"Tennessee\": \"TN\",\n",
    "    \"Texas\": \"TX\",\n",
    "    \"Utah\": \"UT\",\n",
    "    \"Vermont\": \"VT\",\n",
    "    \"Virginia\": \"VA\",\n",
    "    \"Washington\": \"WA\",\n",
    "    \"West Virginia\": \"WV\",\n",
    "    \"Wisconsin\": \"WI\",\n",
    "    \"Wyoming\": \"WY\",\n",
    "    \"District of Columbia\": \"DC\",\n",
    "    \"American Samoa\": \"AS\",\n",
    "    \"Guam\": \"GU\",\n",
    "    \"Northern Mariana Islands\": \"MP\",\n",
    "    \"Puerto Rico\": \"PR\",\n",
    "    \"United States Minor Outlying Islands\": \"UM\",\n",
    "    \"U.S. Virgin Islands\": \"VI\",\n",
    "}"
   ]
  },
  {
   "cell_type": "code",
   "execution_count": 97,
   "id": "47c03aaf",
   "metadata": {},
   "outputs": [],
   "source": [
    "abbrev_to_us_state = dict(map(reversed, us_state_to_abbrev.items()))"
   ]
  },
  {
   "cell_type": "code",
   "execution_count": 101,
   "id": "76816a05",
   "metadata": {},
   "outputs": [],
   "source": [
    "## Convert dictionary to dataframe to enable merging\n",
    "state_list = pd.DataFrame(abbrev_to_us_state.items(), columns=['state_code','state_name'])"
   ]
  },
  {
   "cell_type": "code",
   "execution_count": 102,
   "id": "9d5ecc12",
   "metadata": {},
   "outputs": [
    {
     "data": {
      "text/html": [
       "<div>\n",
       "<style scoped>\n",
       "    .dataframe tbody tr th:only-of-type {\n",
       "        vertical-align: middle;\n",
       "    }\n",
       "\n",
       "    .dataframe tbody tr th {\n",
       "        vertical-align: top;\n",
       "    }\n",
       "\n",
       "    .dataframe thead th {\n",
       "        text-align: right;\n",
       "    }\n",
       "</style>\n",
       "<table border=\"1\" class=\"dataframe\">\n",
       "  <thead>\n",
       "    <tr style=\"text-align: right;\">\n",
       "      <th></th>\n",
       "      <th>state_code</th>\n",
       "      <th>state_name</th>\n",
       "    </tr>\n",
       "  </thead>\n",
       "  <tbody>\n",
       "    <tr>\n",
       "      <th>0</th>\n",
       "      <td>AL</td>\n",
       "      <td>Alabama</td>\n",
       "    </tr>\n",
       "    <tr>\n",
       "      <th>1</th>\n",
       "      <td>AK</td>\n",
       "      <td>Alaska</td>\n",
       "    </tr>\n",
       "    <tr>\n",
       "      <th>2</th>\n",
       "      <td>AZ</td>\n",
       "      <td>Arizona</td>\n",
       "    </tr>\n",
       "    <tr>\n",
       "      <th>3</th>\n",
       "      <td>AR</td>\n",
       "      <td>Arkansas</td>\n",
       "    </tr>\n",
       "    <tr>\n",
       "      <th>4</th>\n",
       "      <td>CA</td>\n",
       "      <td>California</td>\n",
       "    </tr>\n",
       "  </tbody>\n",
       "</table>\n",
       "</div>"
      ],
      "text/plain": [
       "  state_code  state_name\n",
       "0         AL     Alabama\n",
       "1         AK      Alaska\n",
       "2         AZ     Arizona\n",
       "3         AR    Arkansas\n",
       "4         CA  California"
      ]
     },
     "execution_count": 102,
     "metadata": {},
     "output_type": "execute_result"
    }
   ],
   "source": [
    "## Review dataframe\n",
    "state_list.head()"
   ]
  },
  {
   "cell_type": "code",
   "execution_count": 103,
   "id": "22a2c9a3",
   "metadata": {},
   "outputs": [],
   "source": [
    "## Merge abbreviation file with median income file \n",
    "median_income_stateabb = median_income_data.merge(state_list, left_on = \"state\", right_on = \"state_name\")"
   ]
  },
  {
   "cell_type": "code",
   "execution_count": 104,
   "id": "0b6e635c",
   "metadata": {},
   "outputs": [
    {
     "data": {
      "text/html": [
       "<div>\n",
       "<style scoped>\n",
       "    .dataframe tbody tr th:only-of-type {\n",
       "        vertical-align: middle;\n",
       "    }\n",
       "\n",
       "    .dataframe tbody tr th {\n",
       "        vertical-align: top;\n",
       "    }\n",
       "\n",
       "    .dataframe thead th {\n",
       "        text-align: right;\n",
       "    }\n",
       "</style>\n",
       "<table border=\"1\" class=\"dataframe\">\n",
       "  <thead>\n",
       "    <tr style=\"text-align: right;\">\n",
       "      <th></th>\n",
       "      <th>state</th>\n",
       "      <th>medianHouseholdIncome2021</th>\n",
       "      <th>state_code</th>\n",
       "      <th>state_name</th>\n",
       "    </tr>\n",
       "  </thead>\n",
       "  <tbody>\n",
       "    <tr>\n",
       "      <th>0</th>\n",
       "      <td>Maryland</td>\n",
       "      <td>90203</td>\n",
       "      <td>MD</td>\n",
       "      <td>Maryland</td>\n",
       "    </tr>\n",
       "    <tr>\n",
       "      <th>1</th>\n",
       "      <td>District of Columbia</td>\n",
       "      <td>90088</td>\n",
       "      <td>DC</td>\n",
       "      <td>District of Columbia</td>\n",
       "    </tr>\n",
       "    <tr>\n",
       "      <th>2</th>\n",
       "      <td>Massachusetts</td>\n",
       "      <td>89645</td>\n",
       "      <td>MA</td>\n",
       "      <td>Massachusetts</td>\n",
       "    </tr>\n",
       "    <tr>\n",
       "      <th>3</th>\n",
       "      <td>New Jersey</td>\n",
       "      <td>89296</td>\n",
       "      <td>NJ</td>\n",
       "      <td>New Jersey</td>\n",
       "    </tr>\n",
       "    <tr>\n",
       "      <th>4</th>\n",
       "      <td>New Hampshire</td>\n",
       "      <td>88465</td>\n",
       "      <td>NH</td>\n",
       "      <td>New Hampshire</td>\n",
       "    </tr>\n",
       "  </tbody>\n",
       "</table>\n",
       "</div>"
      ],
      "text/plain": [
       "                  state  medianHouseholdIncome2021 state_code  \\\n",
       "0              Maryland                      90203         MD   \n",
       "1  District of Columbia                      90088         DC   \n",
       "2         Massachusetts                      89645         MA   \n",
       "3            New Jersey                      89296         NJ   \n",
       "4         New Hampshire                      88465         NH   \n",
       "\n",
       "             state_name  \n",
       "0              Maryland  \n",
       "1  District of Columbia  \n",
       "2         Massachusetts  \n",
       "3            New Jersey  \n",
       "4         New Hampshire  "
      ]
     },
     "execution_count": 104,
     "metadata": {},
     "output_type": "execute_result"
    }
   ],
   "source": [
    "## Review merged file\n",
    "median_income_stateabb.head()"
   ]
  },
  {
   "cell_type": "code",
   "execution_count": 144,
   "id": "620ded04",
   "metadata": {},
   "outputs": [
    {
     "name": "stdout",
     "output_type": "stream",
     "text": [
      "                 mean\n",
      "StateCode            \n",
      "AK         518.885873\n",
      "AL         395.624433\n",
      "AR         436.066916\n",
      "AZ         481.639036\n",
      "DE         457.867684\n",
      "FL         499.965249\n",
      "GA         454.263647\n",
      "HI         306.048814\n",
      "IA         384.135597\n",
      "IL         442.657891\n",
      "IN         293.290292\n",
      "KS         515.731019\n",
      "LA         496.683815\n",
      "MI         179.821978\n",
      "MO         444.057929\n",
      "MS         496.452188\n",
      "MT         374.678726\n",
      "NC         442.421412\n",
      "ND         427.480278\n",
      "NE         639.422923\n",
      "NH         538.963520\n",
      "OH         347.925824\n",
      "OK         496.357445\n",
      "OR         447.891436\n",
      "SC         461.128034\n",
      "SD         624.844369\n",
      "TN         453.391123\n",
      "TX         347.713505\n",
      "UT         483.561666\n",
      "VA         312.527618\n",
      "WI         596.938378\n",
      "WV         875.844819\n",
      "WY         566.459533\n"
     ]
    }
   ],
   "source": [
    "## Use pivot table to create mean health insurance rate per State\n",
    "cms_rate_mean_by_state = cms_rate_data_individual_by_state.pivot_table(values = \"IndividualRate\", index = \"StateCode\")\n",
    "print(cms_rate_mean_by_state)"
   ]
  },
  {
   "cell_type": "code",
   "execution_count": 147,
   "id": "c979dde9",
   "metadata": {},
   "outputs": [
    {
     "name": "stdout",
     "output_type": "stream",
     "text": [
      "           ind_rate_mean\n",
      "StateCode               \n",
      "AK            518.885873\n",
      "AL            395.624433\n",
      "AR            436.066916\n",
      "AZ            481.639036\n",
      "DE            457.867684\n"
     ]
    }
   ],
   "source": [
    "## Rename the columns to allow for easier comparison later\n",
    "cms_rate_mean_by_state.rename(columns={\"mean\":\"ind_rate_mean\"},inplace=True)\n",
    "print (cms_rate_mean_by_state.head())"
   ]
  },
  {
   "cell_type": "code",
   "execution_count": 148,
   "id": "2a5c9f8e",
   "metadata": {},
   "outputs": [],
   "source": [
    "## Merge pivot table of mean health insurance rate per State with updated mean income data as State abbreviation code can be used to link the dataframes\n",
    "median_income_rate = cms_rate_mean_by_state.merge(median_income_stateabb, left_on = \"StateCode\", right_on = \"state_code\",how = \"left\", suffixes=('_x', '_y'))"
   ]
  },
  {
   "cell_type": "code",
   "execution_count": 149,
   "id": "a3c473a1",
   "metadata": {},
   "outputs": [
    {
     "data": {
      "text/html": [
       "<div>\n",
       "<style scoped>\n",
       "    .dataframe tbody tr th:only-of-type {\n",
       "        vertical-align: middle;\n",
       "    }\n",
       "\n",
       "    .dataframe tbody tr th {\n",
       "        vertical-align: top;\n",
       "    }\n",
       "\n",
       "    .dataframe thead th {\n",
       "        text-align: right;\n",
       "    }\n",
       "</style>\n",
       "<table border=\"1\" class=\"dataframe\">\n",
       "  <thead>\n",
       "    <tr style=\"text-align: right;\">\n",
       "      <th></th>\n",
       "      <th>ind_rate_mean</th>\n",
       "      <th>state</th>\n",
       "      <th>medianHouseholdIncome2021</th>\n",
       "      <th>state_code</th>\n",
       "      <th>state_name</th>\n",
       "    </tr>\n",
       "  </thead>\n",
       "  <tbody>\n",
       "    <tr>\n",
       "      <th>0</th>\n",
       "      <td>518.885873</td>\n",
       "      <td>Alaska</td>\n",
       "      <td>77845</td>\n",
       "      <td>AK</td>\n",
       "      <td>Alaska</td>\n",
       "    </tr>\n",
       "    <tr>\n",
       "      <th>1</th>\n",
       "      <td>395.624433</td>\n",
       "      <td>Alabama</td>\n",
       "      <td>53913</td>\n",
       "      <td>AL</td>\n",
       "      <td>Alabama</td>\n",
       "    </tr>\n",
       "    <tr>\n",
       "      <th>2</th>\n",
       "      <td>436.066916</td>\n",
       "      <td>Arkansas</td>\n",
       "      <td>52528</td>\n",
       "      <td>AR</td>\n",
       "      <td>Arkansas</td>\n",
       "    </tr>\n",
       "    <tr>\n",
       "      <th>3</th>\n",
       "      <td>481.639036</td>\n",
       "      <td>Arizona</td>\n",
       "      <td>69056</td>\n",
       "      <td>AZ</td>\n",
       "      <td>Arizona</td>\n",
       "    </tr>\n",
       "    <tr>\n",
       "      <th>4</th>\n",
       "      <td>457.867684</td>\n",
       "      <td>Delaware</td>\n",
       "      <td>71091</td>\n",
       "      <td>DE</td>\n",
       "      <td>Delaware</td>\n",
       "    </tr>\n",
       "  </tbody>\n",
       "</table>\n",
       "</div>"
      ],
      "text/plain": [
       "   ind_rate_mean     state  medianHouseholdIncome2021 state_code state_name\n",
       "0     518.885873    Alaska                      77845         AK     Alaska\n",
       "1     395.624433   Alabama                      53913         AL    Alabama\n",
       "2     436.066916  Arkansas                      52528         AR   Arkansas\n",
       "3     481.639036   Arizona                      69056         AZ    Arizona\n",
       "4     457.867684  Delaware                      71091         DE   Delaware"
      ]
     },
     "execution_count": 149,
     "metadata": {},
     "output_type": "execute_result"
    }
   ],
   "source": [
    "## Review to ensure output is as expected\n",
    "median_income_rate.head()"
   ]
  },
  {
   "cell_type": "code",
   "execution_count": 290,
   "id": "d87161ea",
   "metadata": {},
   "outputs": [
    {
     "name": "stdout",
     "output_type": "stream",
     "text": [
      "   ind_rate_mean     state  medianHouseholdIncome2021 state_code state_name  \\\n",
      "0     518.885873    Alaska                      77845         AK     Alaska   \n",
      "1     395.624433   Alabama                      53913         AL    Alabama   \n",
      "2     436.066916  Arkansas                      52528         AR   Arkansas   \n",
      "3     481.639036   Arizona                      69056         AZ    Arizona   \n",
      "4     457.867684  Delaware                      71091         DE   Delaware   \n",
      "\n",
      "   rate_per_inc rate_per_inc_formatted  \n",
      "0      0.666563                  0.67%  \n",
      "1      0.733820                  0.73%  \n",
      "2      0.830161                  0.83%  \n",
      "3      0.697462                  0.70%  \n",
      "4      0.644059                  0.64%  \n"
     ]
    },
    {
     "data": {
      "text/plain": [
       "ind_rate_mean                0\n",
       "state                        0\n",
       "medianHouseholdIncome2021    0\n",
       "state_code                   0\n",
       "state_name                   0\n",
       "rate_per_inc                 0\n",
       "rate_per_inc_formatted       0\n",
       "dtype: int64"
      ]
     },
     "execution_count": 290,
     "metadata": {},
     "output_type": "execute_result"
    }
   ],
   "source": [
    "## Add a column to calculate the percentage of the health insurance cost of the median income\n",
    "median_income_rate[\"rate_per_inc\"] = (median_income_rate [\"ind_rate_mean\"]/ median_income_rate[\"medianHouseholdIncome2021\"]) *100\n",
    "median_income_rate[\"rate_per_inc_formatted\"] = median_income_rate[\"rate_per_inc\"].apply(lambda x: f\"{x:.2f}%\")\n",
    "print(median_income_rate.head())\n",
    "median_income_rate.isnull().sum()"
   ]
  },
  {
   "cell_type": "code",
   "execution_count": 297,
   "id": "2b4cfb48",
   "metadata": {},
   "outputs": [],
   "source": [
    "## Sort the data to be in descending order\n",
    "median_income_rate_state = median_income_rate.sort_values(by='rate_per_inc', ascending = False)"
   ]
  },
  {
   "cell_type": "code",
   "execution_count": 298,
   "id": "14f0073d",
   "metadata": {},
   "outputs": [
    {
     "data": {
      "image/png": "[encoded data removed]",
      "text/plain": [
       "<Figure size 720x720 with 1 Axes>"
      ]
     },
     "metadata": {},
     "output_type": "display_data"
    }
   ],
   "source": [
    "## Plot the data on a chart\n",
    "plt.figure(figsize=(10, 10))\n",
    "plt.bar(median_income_rate_state['state'], median_income_rate_state['rate_per_inc'], color='blue')\n",
    "plt.xlabel('State')\n",
    "plt.ylabel('Healthcare costs per income')\n",
    "plt.title('Healthcare Costs as a percentage of income')\n",
    "plt.xticks(rotation=90)\n",
    "plt.tight_layout()\n",
    "plt.show()"
   ]
  },
  {
   "cell_type": "code",
   "execution_count": 293,
   "id": "ef389eb2",
   "metadata": {},
   "outputs": [
    {
     "name": "stdout",
     "output_type": "stream",
     "text": [
      "    ind_rate_mean           state  medianHouseholdIncome2021 state_code  \\\n",
      "31     875.844819   West Virginia                      51248         WV   \n",
      "15     496.452188     Mississippi                      48716         MS   \n",
      "19     639.422923        Nebraska                      66817         NE   \n",
      "12     496.683815       Louisiana                      52087         LA   \n",
      "25     624.844369    South Dakota                      66143         SD   \n",
      "30     596.938378       Wisconsin                      67125         WI   \n",
      "22     496.357445        Oklahoma                      55826         OK   \n",
      "32     566.459533         Wyoming                      65204         WY   \n",
      "2      436.066916        Arkansas                      52528         AR   \n",
      "11     515.731019          Kansas                      64124         KS   \n",
      "5      499.965249         Florida                      63062         FL   \n",
      "24     461.128034  South Carolina                      59318         SC   \n",
      "26     453.391123       Tennessee                      59695         TN   \n",
      "1      395.624433         Alabama                      53913         AL   \n",
      "14     444.057929        Missouri                      61847         MO   \n",
      "17     442.421412  North Carolina                      61972         NC   \n",
      "3      481.639036         Arizona                      69056         AZ   \n",
      "6      454.263647         Georgia                      66559         GA   \n",
      "0      518.885873          Alaska                      77845         AK   \n",
      "4      457.867684        Delaware                      71091         DE   \n",
      "18     427.480278    North Dakota                      66519         ND   \n",
      "23     447.891436          Oregon                      71562         OR   \n",
      "9      442.657891        Illinois                      72205         IL   \n",
      "20     538.963520   New Hampshire                      88465         NH   \n",
      "28     483.561666            Utah                      79449         UT   \n",
      "16     374.678726         Montana                      63249         MT   \n",
      "8      384.135597            Iowa                      65600         IA   \n",
      "21     347.925824            Ohio                      62262         OH   \n",
      "27     347.713505           Texas                      66963         TX   \n",
      "10     293.290292         Indiana                      62743         IN   \n",
      "29     312.527618        Virginia                      80963         VA   \n",
      "7      306.048814          Hawaii                      84857         HI   \n",
      "13     179.821978        Michigan                      63498         MI   \n",
      "\n",
      "        state_name  rate_per_inc rate_per_inc_formatted  \n",
      "31   West Virginia      1.709032                  1.71%  \n",
      "15     Mississippi      1.019074                  1.02%  \n",
      "19        Nebraska      0.956976                  0.96%  \n",
      "12       Louisiana      0.953566                  0.95%  \n",
      "25    South Dakota      0.944687                  0.94%  \n",
      "30       Wisconsin      0.889294                  0.89%  \n",
      "22        Oklahoma      0.889115                  0.89%  \n",
      "32         Wyoming      0.868750                  0.87%  \n",
      "2         Arkansas      0.830161                  0.83%  \n",
      "11          Kansas      0.804271                  0.80%  \n",
      "5          Florida      0.792815                  0.79%  \n",
      "24  South Carolina      0.777383                  0.78%  \n",
      "26       Tennessee      0.759513                  0.76%  \n",
      "1          Alabama      0.733820                  0.73%  \n",
      "14        Missouri      0.717994                  0.72%  \n",
      "17  North Carolina      0.713905                  0.71%  \n",
      "3          Arizona      0.697462                  0.70%  \n",
      "6          Georgia      0.682498                  0.68%  \n",
      "0           Alaska      0.666563                  0.67%  \n",
      "4         Delaware      0.644059                  0.64%  \n",
      "18    North Dakota      0.642644                  0.64%  \n",
      "23          Oregon      0.625879                  0.63%  \n",
      "9         Illinois      0.613057                  0.61%  \n",
      "20   New Hampshire      0.609239                  0.61%  \n",
      "28            Utah      0.608644                  0.61%  \n",
      "16         Montana      0.592387                  0.59%  \n",
      "8             Iowa      0.585573                  0.59%  \n",
      "21            Ohio      0.558809                  0.56%  \n",
      "27           Texas      0.519262                  0.52%  \n",
      "10         Indiana      0.467447                  0.47%  \n",
      "29        Virginia      0.386013                  0.39%  \n",
      "7           Hawaii      0.360664                  0.36%  \n",
      "13        Michigan      0.283193                  0.28%  \n"
     ]
    }
   ],
   "source": [
    "## Print the entire table\n",
    "print(median_income_rate_state)"
   ]
  },
  {
   "cell_type": "code",
   "execution_count": 273,
   "id": "18d42c7e",
   "metadata": {},
   "outputs": [
    {
     "name": "stdout",
     "output_type": "stream",
     "text": [
      "    ind_rate_mean           state  medianHouseholdIncome2021 state_code  \\\n",
      "31     875.844819   West Virginia                      51248         WV   \n",
      "15     496.452188     Mississippi                      48716         MS   \n",
      "19     639.422923        Nebraska                      66817         NE   \n",
      "12     496.683815       Louisiana                      52087         LA   \n",
      "25     624.844369    South Dakota                      66143         SD   \n",
      "30     596.938378       Wisconsin                      67125         WI   \n",
      "22     496.357445        Oklahoma                      55826         OK   \n",
      "32     566.459533         Wyoming                      65204         WY   \n",
      "2      436.066916        Arkansas                      52528         AR   \n",
      "11     515.731019          Kansas                      64124         KS   \n",
      "5      499.965249         Florida                      63062         FL   \n",
      "24     461.128034  South Carolina                      59318         SC   \n",
      "26     453.391123       Tennessee                      59695         TN   \n",
      "1      395.624433         Alabama                      53913         AL   \n",
      "14     444.057929        Missouri                      61847         MO   \n",
      "17     442.421412  North Carolina                      61972         NC   \n",
      "3      481.639036         Arizona                      69056         AZ   \n",
      "6      454.263647         Georgia                      66559         GA   \n",
      "0      518.885873          Alaska                      77845         AK   \n",
      "4      457.867684        Delaware                      71091         DE   \n",
      "18     427.480278    North Dakota                      66519         ND   \n",
      "23     447.891436          Oregon                      71562         OR   \n",
      "9      442.657891        Illinois                      72205         IL   \n",
      "20     538.963520   New Hampshire                      88465         NH   \n",
      "28     483.561666            Utah                      79449         UT   \n",
      "16     374.678726         Montana                      63249         MT   \n",
      "8      384.135597            Iowa                      65600         IA   \n",
      "21     347.925824            Ohio                      62262         OH   \n",
      "27     347.713505           Texas                      66963         TX   \n",
      "10     293.290292         Indiana                      62743         IN   \n",
      "29     312.527618        Virginia                      80963         VA   \n",
      "7      306.048814          Hawaii                      84857         HI   \n",
      "13     179.821978        Michigan                      63498         MI   \n",
      "\n",
      "        state_name  rate_per_inc  \n",
      "31   West Virginia          True  \n",
      "15     Mississippi          True  \n",
      "19        Nebraska          True  \n",
      "12       Louisiana          True  \n",
      "25    South Dakota          True  \n",
      "30       Wisconsin          True  \n",
      "22        Oklahoma          True  \n",
      "32         Wyoming          True  \n",
      "2         Arkansas          True  \n",
      "11          Kansas          True  \n",
      "5          Florida         False  \n",
      "24  South Carolina         False  \n",
      "26       Tennessee         False  \n",
      "1          Alabama         False  \n",
      "14        Missouri         False  \n",
      "17  North Carolina         False  \n",
      "3          Arizona         False  \n",
      "6          Georgia         False  \n",
      "0           Alaska         False  \n",
      "4         Delaware         False  \n",
      "18    North Dakota         False  \n",
      "23          Oregon         False  \n",
      "9         Illinois         False  \n",
      "20   New Hampshire         False  \n",
      "28            Utah         False  \n",
      "16         Montana         False  \n",
      "8             Iowa         False  \n",
      "21            Ohio         False  \n",
      "27           Texas         False  \n",
      "10         Indiana         False  \n",
      "29        Virginia         False  \n",
      "7           Hawaii         False  \n",
      "13        Michigan         False  \n"
     ]
    }
   ],
   "source": [
    "## Filter to determine the number of States for which the health insurance rate per income is 0.8% or greater\n",
    "median_income_rate_state['rate_per_inc'] = median_income_rate_state['rate_per_inc'] > 0.8\n",
    "print(median_income_rate_state)"
   ]
  },
  {
   "cell_type": "code",
   "execution_count": 274,
   "id": "57a5dacc",
   "metadata": {},
   "outputs": [
    {
     "name": "stdout",
     "output_type": "stream",
     "text": [
      "Number of True responses: ind_rate_mean                                                     15240.742969\n",
      "state                        West VirginiaMississippiNebraskaLouisianaSouth...\n",
      "medianHouseholdIncome2021                                              2162511\n",
      "state_code                   WVMSNELASDWIOKWYARKSFLSCTNALMONCAZGAAKDENDORIL...\n",
      "state_name                   West VirginiaMississippiNebraskaLouisianaSouth...\n",
      "rate_per_inc                                                                10\n",
      "dtype: object\n"
     ]
    }
   ],
   "source": [
    "## Calculate the total number of States with health insurance rate per income is 0.8% or greater using count function \n",
    "count_true = median_income_rate_state.sum()\n",
    "\n",
    "print(\"Number of True responses:\", count_true)"
   ]
  },
  {
   "cell_type": "code",
   "execution_count": 317,
   "id": "52e48993",
   "metadata": {},
   "outputs": [
    {
     "name": "stdout",
     "output_type": "stream",
     "text": [
      "West Virginia's median household income is ranked #32 among the states.\n"
     ]
    }
   ],
   "source": [
    "## Convert to dataframe\n",
    "df = pd.DataFrame(median_income_rate_state)\n",
    "\n",
    "# Find the ranking of West Virginia's median household income\n",
    "west_virginia_income = df[df['state'] == 'West Virginia']['medianHouseholdIncome2021'].iloc[0]\n",
    "ranking = df[df['medianHouseholdIncome2021'] >= west_virginia_income]['medianHouseholdIncome2021'].rank(ascending=False).iloc[0]\n",
    "\n",
    "print(f\"West Virginia's median household income is ranked #{int(ranking)} among the states.\")"
   ]
  },
  {
   "cell_type": "code",
   "execution_count": 318,
   "id": "16d80ddc",
   "metadata": {},
   "outputs": [
    {
     "name": "stdout",
     "output_type": "stream",
     "text": [
      "West Virginia's individual health insurance rate is ranked #1 among the states.\n"
     ]
    }
   ],
   "source": [
    "# Find the ranking of West Virginia's median household income\n",
    "west_virginia_income = df[df['state'] == 'West Virginia']['ind_rate_mean'].iloc[0]\n",
    "ranking = df[df['medianHouseholdIncome2021'] >= west_virginia_income]['ind_rate_mean'].rank(ascending=False).iloc[0]\n",
    "\n",
    "print(f\"West Virginia's individual health insurance rate is ranked #{int(ranking)} among the states.\")"
   ]
  },
  {
   "cell_type": "code",
   "execution_count": null,
   "id": "82f96634",
   "metadata": {},
   "outputs": [],
   "source": []
  }
 ],
 "metadata": {
  "kernelspec": {
   "display_name": "Python 3",
   "language": "python",
   "name": "python3"
  },
  "language_info": {
   "codemirror_mode": {
    "name": "ipython",
    "version": 3
   },
   "file_extension": ".py",
   "mimetype": "text/x-python",
   "name": "python",
   "nbconvert_exporter": "python",
   "pygments_lexer": "ipython3",
   "version": "3.8.8"
  }
 },
 "nbformat": 4,
 "nbformat_minor": 5
}
